{
 "cells": [
  {
   "cell_type": "code",
   "execution_count": 1,
   "metadata": {},
   "outputs": [],
   "source": [
    "import numpy as np\n",
    "import pandas as pd\n",
    "import matplotlib.pyplot as plt\n",
    "import seaborn as sns\n",
    "\n",
    "from sklearn.model_selection import train_test_split \n",
    "from sklearn.linear_model import LogisticRegression\n",
    "from sklearn.tree import DecisionTreeClassifier\n",
    "\n",
    "from sklearn import metrics\n",
    "from sklearn.metrics import precision_score\n",
    "from sklearn.metrics import confusion_matrix\n",
    "from sklearn.metrics import accuracy_score\n",
    "from sklearn.metrics import f1_score\n",
    "from sklearn import preprocessing"
   ]
  },
  {
   "cell_type": "code",
   "execution_count": 2,
   "metadata": {},
   "outputs": [
    {
     "data": {
      "text/html": [
       "<div>\n",
       "<style scoped>\n",
       "    .dataframe tbody tr th:only-of-type {\n",
       "        vertical-align: middle;\n",
       "    }\n",
       "\n",
       "    .dataframe tbody tr th {\n",
       "        vertical-align: top;\n",
       "    }\n",
       "\n",
       "    .dataframe thead th {\n",
       "        text-align: right;\n",
       "    }\n",
       "</style>\n",
       "<table border=\"1\" class=\"dataframe\">\n",
       "  <thead>\n",
       "    <tr style=\"text-align: right;\">\n",
       "      <th></th>\n",
       "      <th>id</th>\n",
       "      <th>Gender</th>\n",
       "      <th>Customer Type</th>\n",
       "      <th>Age</th>\n",
       "      <th>Type of Travel</th>\n",
       "      <th>Class</th>\n",
       "      <th>Flight Distance</th>\n",
       "      <th>Inflight wifi service</th>\n",
       "      <th>Departure/Arrival time convenient</th>\n",
       "      <th>Ease of Online booking</th>\n",
       "      <th>...</th>\n",
       "      <th>Inflight entertainment</th>\n",
       "      <th>On-board service</th>\n",
       "      <th>Leg room service</th>\n",
       "      <th>Baggage handling</th>\n",
       "      <th>Checkin service</th>\n",
       "      <th>Inflight service</th>\n",
       "      <th>Cleanliness</th>\n",
       "      <th>Departure Delay in Minutes</th>\n",
       "      <th>Arrival Delay in Minutes</th>\n",
       "      <th>satisfaction</th>\n",
       "    </tr>\n",
       "  </thead>\n",
       "  <tbody>\n",
       "    <tr>\n",
       "      <th>0</th>\n",
       "      <td>70172</td>\n",
       "      <td>Male</td>\n",
       "      <td>Loyal Customer</td>\n",
       "      <td>13</td>\n",
       "      <td>Personal Travel</td>\n",
       "      <td>Eco Plus</td>\n",
       "      <td>460</td>\n",
       "      <td>3</td>\n",
       "      <td>4</td>\n",
       "      <td>3</td>\n",
       "      <td>...</td>\n",
       "      <td>5</td>\n",
       "      <td>4</td>\n",
       "      <td>3</td>\n",
       "      <td>4</td>\n",
       "      <td>4</td>\n",
       "      <td>5</td>\n",
       "      <td>5</td>\n",
       "      <td>25</td>\n",
       "      <td>18.0</td>\n",
       "      <td>neutral or dissatisfied</td>\n",
       "    </tr>\n",
       "    <tr>\n",
       "      <th>1</th>\n",
       "      <td>5047</td>\n",
       "      <td>Male</td>\n",
       "      <td>disloyal Customer</td>\n",
       "      <td>25</td>\n",
       "      <td>Business travel</td>\n",
       "      <td>Business</td>\n",
       "      <td>235</td>\n",
       "      <td>3</td>\n",
       "      <td>2</td>\n",
       "      <td>3</td>\n",
       "      <td>...</td>\n",
       "      <td>1</td>\n",
       "      <td>1</td>\n",
       "      <td>5</td>\n",
       "      <td>3</td>\n",
       "      <td>1</td>\n",
       "      <td>4</td>\n",
       "      <td>1</td>\n",
       "      <td>1</td>\n",
       "      <td>6.0</td>\n",
       "      <td>neutral or dissatisfied</td>\n",
       "    </tr>\n",
       "    <tr>\n",
       "      <th>2</th>\n",
       "      <td>110028</td>\n",
       "      <td>Female</td>\n",
       "      <td>Loyal Customer</td>\n",
       "      <td>26</td>\n",
       "      <td>Business travel</td>\n",
       "      <td>Business</td>\n",
       "      <td>1142</td>\n",
       "      <td>2</td>\n",
       "      <td>2</td>\n",
       "      <td>2</td>\n",
       "      <td>...</td>\n",
       "      <td>5</td>\n",
       "      <td>4</td>\n",
       "      <td>3</td>\n",
       "      <td>4</td>\n",
       "      <td>4</td>\n",
       "      <td>4</td>\n",
       "      <td>5</td>\n",
       "      <td>0</td>\n",
       "      <td>0.0</td>\n",
       "      <td>satisfied</td>\n",
       "    </tr>\n",
       "    <tr>\n",
       "      <th>3</th>\n",
       "      <td>24026</td>\n",
       "      <td>Female</td>\n",
       "      <td>Loyal Customer</td>\n",
       "      <td>25</td>\n",
       "      <td>Business travel</td>\n",
       "      <td>Business</td>\n",
       "      <td>562</td>\n",
       "      <td>2</td>\n",
       "      <td>5</td>\n",
       "      <td>5</td>\n",
       "      <td>...</td>\n",
       "      <td>2</td>\n",
       "      <td>2</td>\n",
       "      <td>5</td>\n",
       "      <td>3</td>\n",
       "      <td>1</td>\n",
       "      <td>4</td>\n",
       "      <td>2</td>\n",
       "      <td>11</td>\n",
       "      <td>9.0</td>\n",
       "      <td>neutral or dissatisfied</td>\n",
       "    </tr>\n",
       "    <tr>\n",
       "      <th>4</th>\n",
       "      <td>119299</td>\n",
       "      <td>Male</td>\n",
       "      <td>Loyal Customer</td>\n",
       "      <td>61</td>\n",
       "      <td>Business travel</td>\n",
       "      <td>Business</td>\n",
       "      <td>214</td>\n",
       "      <td>3</td>\n",
       "      <td>3</td>\n",
       "      <td>3</td>\n",
       "      <td>...</td>\n",
       "      <td>3</td>\n",
       "      <td>3</td>\n",
       "      <td>4</td>\n",
       "      <td>4</td>\n",
       "      <td>3</td>\n",
       "      <td>3</td>\n",
       "      <td>3</td>\n",
       "      <td>0</td>\n",
       "      <td>0.0</td>\n",
       "      <td>satisfied</td>\n",
       "    </tr>\n",
       "  </tbody>\n",
       "</table>\n",
       "<p>5 rows × 24 columns</p>\n",
       "</div>"
      ],
      "text/plain": [
       "       id  Gender      Customer Type  Age   Type of Travel     Class  \\\n",
       "0   70172    Male     Loyal Customer   13  Personal Travel  Eco Plus   \n",
       "1    5047    Male  disloyal Customer   25  Business travel  Business   \n",
       "2  110028  Female     Loyal Customer   26  Business travel  Business   \n",
       "3   24026  Female     Loyal Customer   25  Business travel  Business   \n",
       "4  119299    Male     Loyal Customer   61  Business travel  Business   \n",
       "\n",
       "   Flight Distance  Inflight wifi service  Departure/Arrival time convenient  \\\n",
       "0              460                      3                                  4   \n",
       "1              235                      3                                  2   \n",
       "2             1142                      2                                  2   \n",
       "3              562                      2                                  5   \n",
       "4              214                      3                                  3   \n",
       "\n",
       "   Ease of Online booking  ...  Inflight entertainment  On-board service  \\\n",
       "0                       3  ...                       5                 4   \n",
       "1                       3  ...                       1                 1   \n",
       "2                       2  ...                       5                 4   \n",
       "3                       5  ...                       2                 2   \n",
       "4                       3  ...                       3                 3   \n",
       "\n",
       "   Leg room service  Baggage handling  Checkin service  Inflight service  \\\n",
       "0                 3                 4                4                 5   \n",
       "1                 5                 3                1                 4   \n",
       "2                 3                 4                4                 4   \n",
       "3                 5                 3                1                 4   \n",
       "4                 4                 4                3                 3   \n",
       "\n",
       "   Cleanliness  Departure Delay in Minutes  Arrival Delay in Minutes  \\\n",
       "0            5                          25                      18.0   \n",
       "1            1                           1                       6.0   \n",
       "2            5                           0                       0.0   \n",
       "3            2                          11                       9.0   \n",
       "4            3                           0                       0.0   \n",
       "\n",
       "              satisfaction  \n",
       "0  neutral or dissatisfied  \n",
       "1  neutral or dissatisfied  \n",
       "2                satisfied  \n",
       "3  neutral or dissatisfied  \n",
       "4                satisfied  \n",
       "\n",
       "[5 rows x 24 columns]"
      ]
     },
     "execution_count": 2,
     "metadata": {},
     "output_type": "execute_result"
    }
   ],
   "source": [
    "df = pd.read_csv('train.csv', index_col=0)\n",
    "df.head()"
   ]
  },
  {
   "cell_type": "markdown",
   "metadata": {},
   "source": [
    "## 5. Pre-processing\n",
    "<br>\n",
    "<div style=\"text-align: justify\">\n",
    "    As part of data mining, data pre-processing techniques are required to transform the raw data into a more useful and efficient format. Therefore, we will be leveraging on techniques like label encoding on our data before we proceed with training our model. <br><br>\n",
    "    Considering that our data is relatively high dimensional and that 6 variables are highly correlated based on the correlation results derived from EDA, principal component analysis (PCA) will be used. However, after comparing the performances between models with PCA and without PCA, it is noted that models with PCA generally do not improve the performance. Hence, we will further extend the models without PCA along with GridSearchCV to fine-tune the hyperparameters of the models.\n",
    "</div>"
   ]
  },
  {
   "cell_type": "markdown",
   "metadata": {},
   "source": [
    "### 5.1 Feature Engineering - Label Encoding\n",
    "<br>\n",
    "<div style=\"text-align: justify\">\n",
    "    Even though some machine learning algorithms can work with categorical variables directly, it is recommended to convert them into numerical variables. Thus, label encoding will be used. <br><br>\n",
    "    In this case, all of the variables that are categorical such as Gender, Customer Type, Type of Travel, as well as Class will be converted to numerical for both of the training and testing.\n",
    "</div>"
   ]
  },
  {
   "cell_type": "code",
   "execution_count": 3,
   "metadata": {},
   "outputs": [],
   "source": [
    "def transform_class(val):\n",
    "        if val ==  'Eco':\n",
    "            return 0\n",
    "        elif val == 'Eco Plus':\n",
    "            return 1\n",
    "        else:\n",
    "            return 2"
   ]
  },
  {
   "cell_type": "code",
   "execution_count": 4,
   "metadata": {},
   "outputs": [],
   "source": [
    "for column in df.columns:\n",
    "    if column == 'Class':\n",
    "        df['Class'] = df['Class'].apply(transform_class)\n",
    "    elif df[column].dtype == type(object):\n",
    "        #Create the label encoder\n",
    "        le = preprocessing.LabelEncoder()\n",
    "        #Convert the non numeric data to numeric\n",
    "        df[column] = le.fit_transform(df[column])"
   ]
  },
  {
   "cell_type": "code",
   "execution_count": 5,
   "metadata": {},
   "outputs": [
    {
     "data": {
      "text/html": [
       "<div>\n",
       "<style scoped>\n",
       "    .dataframe tbody tr th:only-of-type {\n",
       "        vertical-align: middle;\n",
       "    }\n",
       "\n",
       "    .dataframe tbody tr th {\n",
       "        vertical-align: top;\n",
       "    }\n",
       "\n",
       "    .dataframe thead th {\n",
       "        text-align: right;\n",
       "    }\n",
       "</style>\n",
       "<table border=\"1\" class=\"dataframe\">\n",
       "  <thead>\n",
       "    <tr style=\"text-align: right;\">\n",
       "      <th></th>\n",
       "      <th>id</th>\n",
       "      <th>Gender</th>\n",
       "      <th>Customer Type</th>\n",
       "      <th>Age</th>\n",
       "      <th>Type of Travel</th>\n",
       "      <th>Class</th>\n",
       "      <th>Flight Distance</th>\n",
       "      <th>Inflight wifi service</th>\n",
       "      <th>Departure/Arrival time convenient</th>\n",
       "      <th>Ease of Online booking</th>\n",
       "      <th>...</th>\n",
       "      <th>Inflight entertainment</th>\n",
       "      <th>On-board service</th>\n",
       "      <th>Leg room service</th>\n",
       "      <th>Baggage handling</th>\n",
       "      <th>Checkin service</th>\n",
       "      <th>Inflight service</th>\n",
       "      <th>Cleanliness</th>\n",
       "      <th>Departure Delay in Minutes</th>\n",
       "      <th>Arrival Delay in Minutes</th>\n",
       "      <th>satisfaction</th>\n",
       "    </tr>\n",
       "  </thead>\n",
       "  <tbody>\n",
       "    <tr>\n",
       "      <th>0</th>\n",
       "      <td>70172</td>\n",
       "      <td>1</td>\n",
       "      <td>0</td>\n",
       "      <td>13</td>\n",
       "      <td>1</td>\n",
       "      <td>1</td>\n",
       "      <td>460</td>\n",
       "      <td>3</td>\n",
       "      <td>4</td>\n",
       "      <td>3</td>\n",
       "      <td>...</td>\n",
       "      <td>5</td>\n",
       "      <td>4</td>\n",
       "      <td>3</td>\n",
       "      <td>4</td>\n",
       "      <td>4</td>\n",
       "      <td>5</td>\n",
       "      <td>5</td>\n",
       "      <td>25</td>\n",
       "      <td>18.0</td>\n",
       "      <td>0</td>\n",
       "    </tr>\n",
       "    <tr>\n",
       "      <th>1</th>\n",
       "      <td>5047</td>\n",
       "      <td>1</td>\n",
       "      <td>1</td>\n",
       "      <td>25</td>\n",
       "      <td>0</td>\n",
       "      <td>2</td>\n",
       "      <td>235</td>\n",
       "      <td>3</td>\n",
       "      <td>2</td>\n",
       "      <td>3</td>\n",
       "      <td>...</td>\n",
       "      <td>1</td>\n",
       "      <td>1</td>\n",
       "      <td>5</td>\n",
       "      <td>3</td>\n",
       "      <td>1</td>\n",
       "      <td>4</td>\n",
       "      <td>1</td>\n",
       "      <td>1</td>\n",
       "      <td>6.0</td>\n",
       "      <td>0</td>\n",
       "    </tr>\n",
       "    <tr>\n",
       "      <th>2</th>\n",
       "      <td>110028</td>\n",
       "      <td>0</td>\n",
       "      <td>0</td>\n",
       "      <td>26</td>\n",
       "      <td>0</td>\n",
       "      <td>2</td>\n",
       "      <td>1142</td>\n",
       "      <td>2</td>\n",
       "      <td>2</td>\n",
       "      <td>2</td>\n",
       "      <td>...</td>\n",
       "      <td>5</td>\n",
       "      <td>4</td>\n",
       "      <td>3</td>\n",
       "      <td>4</td>\n",
       "      <td>4</td>\n",
       "      <td>4</td>\n",
       "      <td>5</td>\n",
       "      <td>0</td>\n",
       "      <td>0.0</td>\n",
       "      <td>1</td>\n",
       "    </tr>\n",
       "    <tr>\n",
       "      <th>3</th>\n",
       "      <td>24026</td>\n",
       "      <td>0</td>\n",
       "      <td>0</td>\n",
       "      <td>25</td>\n",
       "      <td>0</td>\n",
       "      <td>2</td>\n",
       "      <td>562</td>\n",
       "      <td>2</td>\n",
       "      <td>5</td>\n",
       "      <td>5</td>\n",
       "      <td>...</td>\n",
       "      <td>2</td>\n",
       "      <td>2</td>\n",
       "      <td>5</td>\n",
       "      <td>3</td>\n",
       "      <td>1</td>\n",
       "      <td>4</td>\n",
       "      <td>2</td>\n",
       "      <td>11</td>\n",
       "      <td>9.0</td>\n",
       "      <td>0</td>\n",
       "    </tr>\n",
       "    <tr>\n",
       "      <th>4</th>\n",
       "      <td>119299</td>\n",
       "      <td>1</td>\n",
       "      <td>0</td>\n",
       "      <td>61</td>\n",
       "      <td>0</td>\n",
       "      <td>2</td>\n",
       "      <td>214</td>\n",
       "      <td>3</td>\n",
       "      <td>3</td>\n",
       "      <td>3</td>\n",
       "      <td>...</td>\n",
       "      <td>3</td>\n",
       "      <td>3</td>\n",
       "      <td>4</td>\n",
       "      <td>4</td>\n",
       "      <td>3</td>\n",
       "      <td>3</td>\n",
       "      <td>3</td>\n",
       "      <td>0</td>\n",
       "      <td>0.0</td>\n",
       "      <td>1</td>\n",
       "    </tr>\n",
       "  </tbody>\n",
       "</table>\n",
       "<p>5 rows × 24 columns</p>\n",
       "</div>"
      ],
      "text/plain": [
       "       id  Gender  Customer Type  Age  Type of Travel  Class  Flight Distance  \\\n",
       "0   70172       1              0   13               1      1              460   \n",
       "1    5047       1              1   25               0      2              235   \n",
       "2  110028       0              0   26               0      2             1142   \n",
       "3   24026       0              0   25               0      2              562   \n",
       "4  119299       1              0   61               0      2              214   \n",
       "\n",
       "   Inflight wifi service  Departure/Arrival time convenient  \\\n",
       "0                      3                                  4   \n",
       "1                      3                                  2   \n",
       "2                      2                                  2   \n",
       "3                      2                                  5   \n",
       "4                      3                                  3   \n",
       "\n",
       "   Ease of Online booking  ...  Inflight entertainment  On-board service  \\\n",
       "0                       3  ...                       5                 4   \n",
       "1                       3  ...                       1                 1   \n",
       "2                       2  ...                       5                 4   \n",
       "3                       5  ...                       2                 2   \n",
       "4                       3  ...                       3                 3   \n",
       "\n",
       "   Leg room service  Baggage handling  Checkin service  Inflight service  \\\n",
       "0                 3                 4                4                 5   \n",
       "1                 5                 3                1                 4   \n",
       "2                 3                 4                4                 4   \n",
       "3                 5                 3                1                 4   \n",
       "4                 4                 4                3                 3   \n",
       "\n",
       "   Cleanliness  Departure Delay in Minutes  Arrival Delay in Minutes  \\\n",
       "0            5                          25                      18.0   \n",
       "1            1                           1                       6.0   \n",
       "2            5                           0                       0.0   \n",
       "3            2                          11                       9.0   \n",
       "4            3                           0                       0.0   \n",
       "\n",
       "   satisfaction  \n",
       "0             0  \n",
       "1             0  \n",
       "2             1  \n",
       "3             0  \n",
       "4             1  \n",
       "\n",
       "[5 rows x 24 columns]"
      ]
     },
     "execution_count": 5,
     "metadata": {},
     "output_type": "execute_result"
    }
   ],
   "source": [
    "df.head()"
   ]
  },
  {
   "cell_type": "code",
   "execution_count": 6,
   "metadata": {},
   "outputs": [
    {
     "data": {
      "text/html": [
       "<div>\n",
       "<style scoped>\n",
       "    .dataframe tbody tr th:only-of-type {\n",
       "        vertical-align: middle;\n",
       "    }\n",
       "\n",
       "    .dataframe tbody tr th {\n",
       "        vertical-align: top;\n",
       "    }\n",
       "\n",
       "    .dataframe thead th {\n",
       "        text-align: right;\n",
       "    }\n",
       "</style>\n",
       "<table border=\"1\" class=\"dataframe\">\n",
       "  <thead>\n",
       "    <tr style=\"text-align: right;\">\n",
       "      <th></th>\n",
       "      <th>id</th>\n",
       "      <th>Gender</th>\n",
       "      <th>Customer Type</th>\n",
       "      <th>Age</th>\n",
       "      <th>Type of Travel</th>\n",
       "      <th>Class</th>\n",
       "      <th>Flight Distance</th>\n",
       "      <th>Inflight wifi service</th>\n",
       "      <th>Departure/Arrival time convenient</th>\n",
       "      <th>Ease of Online booking</th>\n",
       "      <th>...</th>\n",
       "      <th>Inflight entertainment</th>\n",
       "      <th>On-board service</th>\n",
       "      <th>Leg room service</th>\n",
       "      <th>Baggage handling</th>\n",
       "      <th>Checkin service</th>\n",
       "      <th>Inflight service</th>\n",
       "      <th>Cleanliness</th>\n",
       "      <th>Departure Delay in Minutes</th>\n",
       "      <th>Arrival Delay in Minutes</th>\n",
       "      <th>satisfaction</th>\n",
       "    </tr>\n",
       "  </thead>\n",
       "  <tbody>\n",
       "    <tr>\n",
       "      <th>0</th>\n",
       "      <td>19556</td>\n",
       "      <td>Female</td>\n",
       "      <td>Loyal Customer</td>\n",
       "      <td>52</td>\n",
       "      <td>Business travel</td>\n",
       "      <td>Eco</td>\n",
       "      <td>160</td>\n",
       "      <td>5</td>\n",
       "      <td>4</td>\n",
       "      <td>3</td>\n",
       "      <td>...</td>\n",
       "      <td>5</td>\n",
       "      <td>5</td>\n",
       "      <td>5</td>\n",
       "      <td>5</td>\n",
       "      <td>2</td>\n",
       "      <td>5</td>\n",
       "      <td>5</td>\n",
       "      <td>50</td>\n",
       "      <td>44.0</td>\n",
       "      <td>satisfied</td>\n",
       "    </tr>\n",
       "    <tr>\n",
       "      <th>1</th>\n",
       "      <td>90035</td>\n",
       "      <td>Female</td>\n",
       "      <td>Loyal Customer</td>\n",
       "      <td>36</td>\n",
       "      <td>Business travel</td>\n",
       "      <td>Business</td>\n",
       "      <td>2863</td>\n",
       "      <td>1</td>\n",
       "      <td>1</td>\n",
       "      <td>3</td>\n",
       "      <td>...</td>\n",
       "      <td>4</td>\n",
       "      <td>4</td>\n",
       "      <td>4</td>\n",
       "      <td>4</td>\n",
       "      <td>3</td>\n",
       "      <td>4</td>\n",
       "      <td>5</td>\n",
       "      <td>0</td>\n",
       "      <td>0.0</td>\n",
       "      <td>satisfied</td>\n",
       "    </tr>\n",
       "    <tr>\n",
       "      <th>2</th>\n",
       "      <td>12360</td>\n",
       "      <td>Male</td>\n",
       "      <td>disloyal Customer</td>\n",
       "      <td>20</td>\n",
       "      <td>Business travel</td>\n",
       "      <td>Eco</td>\n",
       "      <td>192</td>\n",
       "      <td>2</td>\n",
       "      <td>0</td>\n",
       "      <td>2</td>\n",
       "      <td>...</td>\n",
       "      <td>2</td>\n",
       "      <td>4</td>\n",
       "      <td>1</td>\n",
       "      <td>3</td>\n",
       "      <td>2</td>\n",
       "      <td>2</td>\n",
       "      <td>2</td>\n",
       "      <td>0</td>\n",
       "      <td>0.0</td>\n",
       "      <td>neutral or dissatisfied</td>\n",
       "    </tr>\n",
       "    <tr>\n",
       "      <th>3</th>\n",
       "      <td>77959</td>\n",
       "      <td>Male</td>\n",
       "      <td>Loyal Customer</td>\n",
       "      <td>44</td>\n",
       "      <td>Business travel</td>\n",
       "      <td>Business</td>\n",
       "      <td>3377</td>\n",
       "      <td>0</td>\n",
       "      <td>0</td>\n",
       "      <td>0</td>\n",
       "      <td>...</td>\n",
       "      <td>1</td>\n",
       "      <td>1</td>\n",
       "      <td>1</td>\n",
       "      <td>1</td>\n",
       "      <td>3</td>\n",
       "      <td>1</td>\n",
       "      <td>4</td>\n",
       "      <td>0</td>\n",
       "      <td>6.0</td>\n",
       "      <td>satisfied</td>\n",
       "    </tr>\n",
       "    <tr>\n",
       "      <th>4</th>\n",
       "      <td>36875</td>\n",
       "      <td>Female</td>\n",
       "      <td>Loyal Customer</td>\n",
       "      <td>49</td>\n",
       "      <td>Business travel</td>\n",
       "      <td>Eco</td>\n",
       "      <td>1182</td>\n",
       "      <td>2</td>\n",
       "      <td>3</td>\n",
       "      <td>4</td>\n",
       "      <td>...</td>\n",
       "      <td>2</td>\n",
       "      <td>2</td>\n",
       "      <td>2</td>\n",
       "      <td>2</td>\n",
       "      <td>4</td>\n",
       "      <td>2</td>\n",
       "      <td>4</td>\n",
       "      <td>0</td>\n",
       "      <td>20.0</td>\n",
       "      <td>satisfied</td>\n",
       "    </tr>\n",
       "  </tbody>\n",
       "</table>\n",
       "<p>5 rows × 24 columns</p>\n",
       "</div>"
      ],
      "text/plain": [
       "      id  Gender      Customer Type  Age   Type of Travel     Class  \\\n",
       "0  19556  Female     Loyal Customer   52  Business travel       Eco   \n",
       "1  90035  Female     Loyal Customer   36  Business travel  Business   \n",
       "2  12360    Male  disloyal Customer   20  Business travel       Eco   \n",
       "3  77959    Male     Loyal Customer   44  Business travel  Business   \n",
       "4  36875  Female     Loyal Customer   49  Business travel       Eco   \n",
       "\n",
       "   Flight Distance  Inflight wifi service  Departure/Arrival time convenient  \\\n",
       "0              160                      5                                  4   \n",
       "1             2863                      1                                  1   \n",
       "2              192                      2                                  0   \n",
       "3             3377                      0                                  0   \n",
       "4             1182                      2                                  3   \n",
       "\n",
       "   Ease of Online booking  ...  Inflight entertainment  On-board service  \\\n",
       "0                       3  ...                       5                 5   \n",
       "1                       3  ...                       4                 4   \n",
       "2                       2  ...                       2                 4   \n",
       "3                       0  ...                       1                 1   \n",
       "4                       4  ...                       2                 2   \n",
       "\n",
       "   Leg room service  Baggage handling  Checkin service  Inflight service  \\\n",
       "0                 5                 5                2                 5   \n",
       "1                 4                 4                3                 4   \n",
       "2                 1                 3                2                 2   \n",
       "3                 1                 1                3                 1   \n",
       "4                 2                 2                4                 2   \n",
       "\n",
       "   Cleanliness  Departure Delay in Minutes  Arrival Delay in Minutes  \\\n",
       "0            5                          50                      44.0   \n",
       "1            5                           0                       0.0   \n",
       "2            2                           0                       0.0   \n",
       "3            4                           0                       6.0   \n",
       "4            4                           0                      20.0   \n",
       "\n",
       "              satisfaction  \n",
       "0                satisfied  \n",
       "1                satisfied  \n",
       "2  neutral or dissatisfied  \n",
       "3                satisfied  \n",
       "4                satisfied  \n",
       "\n",
       "[5 rows x 24 columns]"
      ]
     },
     "execution_count": 6,
     "metadata": {},
     "output_type": "execute_result"
    }
   ],
   "source": [
    "df_test = pd.read_csv('test.csv', index_col=0)\n",
    "df_test.head()"
   ]
  },
  {
   "cell_type": "code",
   "execution_count": 7,
   "metadata": {},
   "outputs": [],
   "source": [
    "for column in df_test.columns:\n",
    "    if column == 'Class':\n",
    "        df_test['Class'] = df_test['Class'].apply(transform_class)\n",
    "    elif df_test[column].dtype == type(object):\n",
    "        #Create the label encoder\n",
    "        le = preprocessing.LabelEncoder()\n",
    "        #Convert the non numeric data to numeric\n",
    "        df_test[column] = le.fit_transform(df_test[column])"
   ]
  },
  {
   "cell_type": "code",
   "execution_count": 8,
   "metadata": {},
   "outputs": [
    {
     "data": {
      "text/html": [
       "<div>\n",
       "<style scoped>\n",
       "    .dataframe tbody tr th:only-of-type {\n",
       "        vertical-align: middle;\n",
       "    }\n",
       "\n",
       "    .dataframe tbody tr th {\n",
       "        vertical-align: top;\n",
       "    }\n",
       "\n",
       "    .dataframe thead th {\n",
       "        text-align: right;\n",
       "    }\n",
       "</style>\n",
       "<table border=\"1\" class=\"dataframe\">\n",
       "  <thead>\n",
       "    <tr style=\"text-align: right;\">\n",
       "      <th></th>\n",
       "      <th>id</th>\n",
       "      <th>Gender</th>\n",
       "      <th>Customer Type</th>\n",
       "      <th>Age</th>\n",
       "      <th>Type of Travel</th>\n",
       "      <th>Class</th>\n",
       "      <th>Flight Distance</th>\n",
       "      <th>Inflight wifi service</th>\n",
       "      <th>Departure/Arrival time convenient</th>\n",
       "      <th>Ease of Online booking</th>\n",
       "      <th>...</th>\n",
       "      <th>Inflight entertainment</th>\n",
       "      <th>On-board service</th>\n",
       "      <th>Leg room service</th>\n",
       "      <th>Baggage handling</th>\n",
       "      <th>Checkin service</th>\n",
       "      <th>Inflight service</th>\n",
       "      <th>Cleanliness</th>\n",
       "      <th>Departure Delay in Minutes</th>\n",
       "      <th>Arrival Delay in Minutes</th>\n",
       "      <th>satisfaction</th>\n",
       "    </tr>\n",
       "  </thead>\n",
       "  <tbody>\n",
       "    <tr>\n",
       "      <th>0</th>\n",
       "      <td>19556</td>\n",
       "      <td>0</td>\n",
       "      <td>0</td>\n",
       "      <td>52</td>\n",
       "      <td>0</td>\n",
       "      <td>0</td>\n",
       "      <td>160</td>\n",
       "      <td>5</td>\n",
       "      <td>4</td>\n",
       "      <td>3</td>\n",
       "      <td>...</td>\n",
       "      <td>5</td>\n",
       "      <td>5</td>\n",
       "      <td>5</td>\n",
       "      <td>5</td>\n",
       "      <td>2</td>\n",
       "      <td>5</td>\n",
       "      <td>5</td>\n",
       "      <td>50</td>\n",
       "      <td>44.0</td>\n",
       "      <td>1</td>\n",
       "    </tr>\n",
       "    <tr>\n",
       "      <th>1</th>\n",
       "      <td>90035</td>\n",
       "      <td>0</td>\n",
       "      <td>0</td>\n",
       "      <td>36</td>\n",
       "      <td>0</td>\n",
       "      <td>2</td>\n",
       "      <td>2863</td>\n",
       "      <td>1</td>\n",
       "      <td>1</td>\n",
       "      <td>3</td>\n",
       "      <td>...</td>\n",
       "      <td>4</td>\n",
       "      <td>4</td>\n",
       "      <td>4</td>\n",
       "      <td>4</td>\n",
       "      <td>3</td>\n",
       "      <td>4</td>\n",
       "      <td>5</td>\n",
       "      <td>0</td>\n",
       "      <td>0.0</td>\n",
       "      <td>1</td>\n",
       "    </tr>\n",
       "    <tr>\n",
       "      <th>2</th>\n",
       "      <td>12360</td>\n",
       "      <td>1</td>\n",
       "      <td>1</td>\n",
       "      <td>20</td>\n",
       "      <td>0</td>\n",
       "      <td>0</td>\n",
       "      <td>192</td>\n",
       "      <td>2</td>\n",
       "      <td>0</td>\n",
       "      <td>2</td>\n",
       "      <td>...</td>\n",
       "      <td>2</td>\n",
       "      <td>4</td>\n",
       "      <td>1</td>\n",
       "      <td>3</td>\n",
       "      <td>2</td>\n",
       "      <td>2</td>\n",
       "      <td>2</td>\n",
       "      <td>0</td>\n",
       "      <td>0.0</td>\n",
       "      <td>0</td>\n",
       "    </tr>\n",
       "    <tr>\n",
       "      <th>3</th>\n",
       "      <td>77959</td>\n",
       "      <td>1</td>\n",
       "      <td>0</td>\n",
       "      <td>44</td>\n",
       "      <td>0</td>\n",
       "      <td>2</td>\n",
       "      <td>3377</td>\n",
       "      <td>0</td>\n",
       "      <td>0</td>\n",
       "      <td>0</td>\n",
       "      <td>...</td>\n",
       "      <td>1</td>\n",
       "      <td>1</td>\n",
       "      <td>1</td>\n",
       "      <td>1</td>\n",
       "      <td>3</td>\n",
       "      <td>1</td>\n",
       "      <td>4</td>\n",
       "      <td>0</td>\n",
       "      <td>6.0</td>\n",
       "      <td>1</td>\n",
       "    </tr>\n",
       "    <tr>\n",
       "      <th>4</th>\n",
       "      <td>36875</td>\n",
       "      <td>0</td>\n",
       "      <td>0</td>\n",
       "      <td>49</td>\n",
       "      <td>0</td>\n",
       "      <td>0</td>\n",
       "      <td>1182</td>\n",
       "      <td>2</td>\n",
       "      <td>3</td>\n",
       "      <td>4</td>\n",
       "      <td>...</td>\n",
       "      <td>2</td>\n",
       "      <td>2</td>\n",
       "      <td>2</td>\n",
       "      <td>2</td>\n",
       "      <td>4</td>\n",
       "      <td>2</td>\n",
       "      <td>4</td>\n",
       "      <td>0</td>\n",
       "      <td>20.0</td>\n",
       "      <td>1</td>\n",
       "    </tr>\n",
       "  </tbody>\n",
       "</table>\n",
       "<p>5 rows × 24 columns</p>\n",
       "</div>"
      ],
      "text/plain": [
       "      id  Gender  Customer Type  Age  Type of Travel  Class  Flight Distance  \\\n",
       "0  19556       0              0   52               0      0              160   \n",
       "1  90035       0              0   36               0      2             2863   \n",
       "2  12360       1              1   20               0      0              192   \n",
       "3  77959       1              0   44               0      2             3377   \n",
       "4  36875       0              0   49               0      0             1182   \n",
       "\n",
       "   Inflight wifi service  Departure/Arrival time convenient  \\\n",
       "0                      5                                  4   \n",
       "1                      1                                  1   \n",
       "2                      2                                  0   \n",
       "3                      0                                  0   \n",
       "4                      2                                  3   \n",
       "\n",
       "   Ease of Online booking  ...  Inflight entertainment  On-board service  \\\n",
       "0                       3  ...                       5                 5   \n",
       "1                       3  ...                       4                 4   \n",
       "2                       2  ...                       2                 4   \n",
       "3                       0  ...                       1                 1   \n",
       "4                       4  ...                       2                 2   \n",
       "\n",
       "   Leg room service  Baggage handling  Checkin service  Inflight service  \\\n",
       "0                 5                 5                2                 5   \n",
       "1                 4                 4                3                 4   \n",
       "2                 1                 3                2                 2   \n",
       "3                 1                 1                3                 1   \n",
       "4                 2                 2                4                 2   \n",
       "\n",
       "   Cleanliness  Departure Delay in Minutes  Arrival Delay in Minutes  \\\n",
       "0            5                          50                      44.0   \n",
       "1            5                           0                       0.0   \n",
       "2            2                           0                       0.0   \n",
       "3            4                           0                       6.0   \n",
       "4            4                           0                      20.0   \n",
       "\n",
       "   satisfaction  \n",
       "0             1  \n",
       "1             1  \n",
       "2             0  \n",
       "3             1  \n",
       "4             1  \n",
       "\n",
       "[5 rows x 24 columns]"
      ]
     },
     "execution_count": 8,
     "metadata": {},
     "output_type": "execute_result"
    }
   ],
   "source": [
    "df_test.head()"
   ]
  },
  {
   "cell_type": "markdown",
   "metadata": {},
   "source": [
    "### 5.2 Defining Training and Testing Set Data\n",
    "\n",
    "<br>\n",
    "<div style=\"text-align: justify\">\n",
    "    Since both training and testing dataset are provided, we do not need to use train_test_split to segregate our data. <br><br>\n",
    "    In this case, \"satisfaction\" is the target/dependent (Y) variable while the rest of the variables are independent (X) variables which will be used to determine the Y variable for both training and testing dataset.\n",
    "</div>"
   ]
  },
  {
   "cell_type": "code",
   "execution_count": 9,
   "metadata": {},
   "outputs": [],
   "source": [
    "X_train = df[['Gender','Age','Type of Travel', 'Class','Inflight wifi service', \n",
    "              'Departure/Arrival time convenient',\n",
    "              'Ease of Online booking','Food and drink', \n",
    "              'Online boarding','Seat comfort', \n",
    "              'Inflight entertainment', \n",
    "              'On-board service','Leg room service', \n",
    "              'Baggage handling', 'Checkin service',\n",
    "              'Inflight service', 'Cleanliness']]\n",
    "\n",
    "#target variable\n",
    "y_train = df[\"satisfaction\"]\n",
    "\n",
    "\n",
    "X_test = df_test[['Gender','Age','Type of Travel', 'Class','Inflight wifi service', \n",
    "              'Departure/Arrival time convenient',\n",
    "              'Ease of Online booking','Food and drink', \n",
    "              'Online boarding','Seat comfort', \n",
    "              'Inflight entertainment', \n",
    "              'On-board service','Leg room service', \n",
    "              'Baggage handling', 'Checkin service',\n",
    "              'Inflight service', 'Cleanliness']]\n",
    "\n",
    "\n",
    "y_test = df_test[\"satisfaction\"]"
   ]
  },
  {
   "cell_type": "markdown",
   "metadata": {},
   "source": [
    "## 6. Model Selection & Training\n"
   ]
  },
  {
   "cell_type": "markdown",
   "metadata": {},
   "source": [
    "<div style=\"text-align: justify\">\n",
    "Several machine learning classification algorithms will be studied in predicting airlines' passengers satisfication. For all of the models, GridSearchCV will be used to fine-tune the hyperparameters with the aim to improve the performance of the models. <br>\n",
    "\n",
    "The following are the models and ensemble methods (bagging and boosting) that will be studied: <br>\n",
    "<b> 1. Classification Model </b> - kNN, Decision Tree, Naive Bayes, Support Vector Machine (SVM) with Linear, SVM with RBF, Logistic Regression, Logistic Regression with Stacking Classifier <br>\n",
    "<b> 2. Bagging </b> - Random Forest and Extremely Randomized Trees <br>\n",
    "<b> 3. Boosting </b> - AdaBoost, XGBoost, GradientBoost, CatBoost and LighGBM\n",
    "</div>"
   ]
  },
  {
   "cell_type": "markdown",
   "metadata": {},
   "source": [
    "### 6.1 kNN w/o GridSearchCV\n",
    "\n",
    "<br>\n",
    "<div style=\"text-align: justify\">\n",
    "    kNN is an algorithm that relies on finding similar records in the training dataset, with the assumption that similar records exist in close proximity. The distance between records will be computed first using measures such as Euclidean distance. By using K value, we will then look for records in our training data that are similar and assign the record to a class based on the majority votes of the neighbours (Shmueli, Bruce, Gedeck, & Patel, 2019).\n",
    "</div>\n"
   ]
  },
  {
   "cell_type": "code",
   "execution_count": 10,
   "metadata": {},
   "outputs": [
    {
     "data": {
      "text/plain": [
       "KNeighborsClassifier()"
      ]
     },
     "execution_count": 10,
     "metadata": {},
     "output_type": "execute_result"
    }
   ],
   "source": [
    "from sklearn.neighbors import KNeighborsClassifier\n",
    "\n",
    "model_knn = KNeighborsClassifier(n_neighbors=5)\n",
    "model_knn.fit(X_train, y_train)"
   ]
  },
  {
   "cell_type": "code",
   "execution_count": 11,
   "metadata": {},
   "outputs": [
    {
     "name": "stdout",
     "output_type": "stream",
     "text": [
      "[[13855   718]\n",
      " [ 1497  9906]]\n"
     ]
    }
   ],
   "source": [
    "y_pred = model_knn.predict(X_test)\n",
    "conf_matrix = confusion_matrix(y_test, y_pred)\n",
    "print(conf_matrix)"
   ]
  },
  {
   "cell_type": "code",
   "execution_count": 12,
   "metadata": {},
   "outputs": [
    {
     "name": "stdout",
     "output_type": "stream",
     "text": [
      "True Negative:  13855\n",
      "False Positive:  718\n",
      "False Negative:  1497\n",
      "True Positive:  9906\n"
     ]
    }
   ],
   "source": [
    "tn = conf_matrix[0][0]\n",
    "fp = conf_matrix[0][1]\n",
    "fn = conf_matrix[1][0]\n",
    "tp = conf_matrix[1][1]\n",
    "\n",
    "print(\"True Negative: \", tn)\n",
    "print(\"False Positive: \", fp)\n",
    "print(\"False Negative: \", fn)\n",
    "print(\"True Positive: \", tp)"
   ]
  },
  {
   "cell_type": "code",
   "execution_count": 13,
   "metadata": {},
   "outputs": [
    {
     "name": "stdout",
     "output_type": "stream",
     "text": [
      "Accuracy: 0.9147289805974745\n",
      "Precision: 0.9324171686746988\n",
      "Recall: 0.8687187582215207\n",
      "F-measure: 0.8994415944068643\n"
     ]
    }
   ],
   "source": [
    "accuracy = accuracy_score(y_test, y_pred)\n",
    "precision = metrics.precision_score(y_test, y_pred)\n",
    "recall = metrics.recall_score(y_test, y_pred)\n",
    "fmeasure = metrics.f1_score(y_test, y_pred)\n",
    "\n",
    "print(\"Accuracy:\", accuracy)\n",
    "print(\"Precision:\", precision)\n",
    "print(\"Recall:\", recall)\n",
    "print(\"F-measure:\", fmeasure)"
   ]
  },
  {
   "cell_type": "markdown",
   "metadata": {},
   "source": [
    "### 6.2 KNN with GridSearchCV\n",
    "\n",
    "Tuned Parameters: {'n_neighbors': 7}"
   ]
  },
  {
   "cell_type": "code",
   "execution_count": 14,
   "metadata": {},
   "outputs": [],
   "source": [
    "from sklearn.model_selection import GridSearchCV   \n",
    "\n",
    "param_grid = {\n",
    "    \"n_neighbors\" :[6, 7, 8, 9]\n",
    "}"
   ]
  },
  {
   "cell_type": "code",
   "execution_count": 15,
   "metadata": {},
   "outputs": [
    {
     "data": {
      "text/plain": [
       "GridSearchCV(cv=10, estimator=KNeighborsClassifier(), n_jobs=-1,\n",
       "             param_grid={'n_neighbors': [6, 7, 8, 9]})"
      ]
     },
     "execution_count": 15,
     "metadata": {},
     "output_type": "execute_result"
    }
   ],
   "source": [
    "model_knn1 = KNeighborsClassifier()\n",
    "grid = GridSearchCV(model_knn1, param_grid, n_jobs=-1, cv=10)                  \n",
    "grid.fit(X_train, y_train)"
   ]
  },
  {
   "cell_type": "code",
   "execution_count": 16,
   "metadata": {},
   "outputs": [
    {
     "name": "stdout",
     "output_type": "stream",
     "text": [
      "Best parameters found by grid search are: {'n_neighbors': 7}\n"
     ]
    }
   ],
   "source": [
    "print('Best parameters found by grid search are:', grid.best_params_)"
   ]
  },
  {
   "cell_type": "code",
   "execution_count": 17,
   "metadata": {},
   "outputs": [
    {
     "name": "stdout",
     "output_type": "stream",
     "text": [
      "[[13882   691]\n",
      " [ 1504  9899]]\n"
     ]
    }
   ],
   "source": [
    "y_pred = grid.predict(X_test)\n",
    "conf_matrix = confusion_matrix(y_test, y_pred)\n",
    "print(conf_matrix)"
   ]
  },
  {
   "cell_type": "code",
   "execution_count": 18,
   "metadata": {},
   "outputs": [
    {
     "name": "stdout",
     "output_type": "stream",
     "text": [
      "True Negative:  13882\n",
      "False Positive:  691\n",
      "False Negative:  1504\n",
      "True Positive:  9899\n"
     ]
    }
   ],
   "source": [
    "tn = conf_matrix[0][0]\n",
    "fp = conf_matrix[0][1]\n",
    "fn = conf_matrix[1][0]\n",
    "tp = conf_matrix[1][1]\n",
    "\n",
    "print(\"True Negative: \", tn)\n",
    "print(\"False Positive: \", fp)\n",
    "print(\"False Negative: \", fn)\n",
    "print(\"True Positive: \", tp)"
   ]
  },
  {
   "cell_type": "code",
   "execution_count": 19,
   "metadata": {},
   "outputs": [
    {
     "name": "stdout",
     "output_type": "stream",
     "text": [
      "Accuracy: 0.9154989220819217\n",
      "Precision: 0.9347497639282342\n",
      "Recall: 0.8681048846794703\n",
      "F-measure: 0.9001955167553313\n"
     ]
    }
   ],
   "source": [
    "accuracy = accuracy_score(y_test, y_pred)\n",
    "precision = metrics.precision_score(y_test, y_pred)\n",
    "recall = metrics.recall_score(y_test, y_pred)\n",
    "fmeasure = metrics.f1_score(y_test, y_pred)\n",
    "\n",
    "print(\"Accuracy:\", accuracy)\n",
    "print(\"Precision:\", precision)\n",
    "print(\"Recall:\", recall)\n",
    "print(\"F-measure:\", fmeasure)"
   ]
  },
  {
   "cell_type": "markdown",
   "metadata": {},
   "source": [
    "#### Key Takeaways\n",
    "<br>\n",
    "<div style=\"text-align: justify\">\n",
    "    Tuned parameter produced similar accuracy (91.5%) and f-measure (90%), thus suggesting that GridSearchCV was not effective in producing better results for kNN model.\n",
    "</div>"
   ]
  },
  {
   "cell_type": "markdown",
   "metadata": {},
   "source": [
    "### 6.3 Naive Bayes w/o GridSearchCV\n",
    "<br>\n",
    "<div style=\"text-align: justify\">\n",
    "    Naive Bayes is a probabilistic algorithm that is typically used for classification problems with an assumption that features are independent and equal. After inferring probability distribution that was generated by the labelled data for each label, bayes rules will be applied to estimate the probabilities for the unlabeled data. It is useful for very large datasets and is known to outperform even highly sophisticated classification methods (Ray, 2017).\n",
    "</div>"
   ]
  },
  {
   "cell_type": "code",
   "execution_count": 24,
   "metadata": {},
   "outputs": [
    {
     "data": {
      "text/plain": [
       "MultinomialNB()"
      ]
     },
     "execution_count": 24,
     "metadata": {},
     "output_type": "execute_result"
    }
   ],
   "source": [
    "from sklearn.naive_bayes import MultinomialNB\n",
    "\n",
    "model_nb = MultinomialNB()\n",
    "model_nb.fit(X_train, y_train)"
   ]
  },
  {
   "cell_type": "code",
   "execution_count": 25,
   "metadata": {},
   "outputs": [
    {
     "name": "stdout",
     "output_type": "stream",
     "text": [
      "[[10667  3906]\n",
      " [ 2104  9299]]\n"
     ]
    }
   ],
   "source": [
    "y_pred = model_nb.predict(X_test)\n",
    "conf_matrix = confusion_matrix(y_test, y_pred)\n",
    "print(conf_matrix)"
   ]
  },
  {
   "cell_type": "code",
   "execution_count": 26,
   "metadata": {},
   "outputs": [
    {
     "name": "stdout",
     "output_type": "stream",
     "text": [
      "True Negative:  10667\n",
      "False Positive:  3906\n",
      "False Negative:  2104\n",
      "True Positive:  9299\n"
     ]
    }
   ],
   "source": [
    "tn = conf_matrix[0][0]\n",
    "fp = conf_matrix[0][1]\n",
    "fn = conf_matrix[1][0]\n",
    "tp = conf_matrix[1][1]\n",
    "\n",
    "print(\"True Negative: \", tn)\n",
    "print(\"False Positive: \", fp)\n",
    "print(\"False Negative: \", fn)\n",
    "print(\"True Positive: \", tp)"
   ]
  },
  {
   "cell_type": "code",
   "execution_count": 27,
   "metadata": {},
   "outputs": [
    {
     "name": "stdout",
     "output_type": "stream",
     "text": [
      "Accuracy: 0.7686325839236218\n",
      "Precision: 0.7042029534267323\n",
      "Recall: 0.815487152503727\n",
      "F-measure: 0.7557704811443434\n"
     ]
    }
   ],
   "source": [
    "accuracy = accuracy_score(y_test, y_pred)\n",
    "precision = metrics.precision_score(y_test, y_pred)\n",
    "recall = metrics.recall_score(y_test, y_pred)\n",
    "fmeasure = metrics.f1_score(y_test, y_pred)\n",
    "\n",
    "print(\"Accuracy:\", accuracy)\n",
    "print(\"Precision:\", precision)\n",
    "print(\"Recall:\", recall)\n",
    "print(\"F-measure:\", fmeasure)"
   ]
  },
  {
   "cell_type": "markdown",
   "metadata": {},
   "source": [
    "### 6.4 Naive Bayes with GridSearchCV\n",
    "\n",
    "Tuned Parameters: {'alpha': 14.0}"
   ]
  },
  {
   "cell_type": "code",
   "execution_count": 28,
   "metadata": {},
   "outputs": [
    {
     "data": {
      "text/plain": [
       "GridSearchCV(cv=10, estimator=MultinomialNB(), n_jobs=-1,\n",
       "             param_grid={'alpha': [14.0, 14.2, 14.5]})"
      ]
     },
     "execution_count": 28,
     "metadata": {},
     "output_type": "execute_result"
    }
   ],
   "source": [
    "param_grid = {'alpha': [14.0, 14.2, 14.5]}\n",
    "\n",
    "model_nb1 = MultinomialNB()\n",
    "grid = GridSearchCV(model_nb1, param_grid, n_jobs=-1, cv=10)\n",
    "\n",
    "grid.fit(X_train, y_train)"
   ]
  },
  {
   "cell_type": "code",
   "execution_count": 29,
   "metadata": {},
   "outputs": [
    {
     "name": "stdout",
     "output_type": "stream",
     "text": [
      "Best parameters found by grid search are: {'alpha': 14.0}\n"
     ]
    }
   ],
   "source": [
    "print('Best parameters found by grid search are:', grid.best_params_)"
   ]
  },
  {
   "cell_type": "code",
   "execution_count": 30,
   "metadata": {},
   "outputs": [
    {
     "name": "stdout",
     "output_type": "stream",
     "text": [
      "[[10668  3905]\n",
      " [ 2105  9298]]\n"
     ]
    }
   ],
   "source": [
    "y_pred = grid.predict(X_test)\n",
    "conf_matrix = confusion_matrix(y_test, y_pred)\n",
    "print(conf_matrix)"
   ]
  },
  {
   "cell_type": "code",
   "execution_count": 31,
   "metadata": {},
   "outputs": [
    {
     "name": "stdout",
     "output_type": "stream",
     "text": [
      "True Negative:  10668\n",
      "False Positive:  3905\n",
      "False Negative:  2105\n",
      "True Positive:  9298\n"
     ]
    }
   ],
   "source": [
    "tn = conf_matrix[0][0]\n",
    "fp = conf_matrix[0][1]\n",
    "fn = conf_matrix[1][0]\n",
    "tp = conf_matrix[1][1]\n",
    "\n",
    "print(\"True Negative: \", tn)\n",
    "print(\"False Positive: \", fp)\n",
    "print(\"False Negative: \", fn)\n",
    "print(\"True Positive: \", tp)"
   ]
  },
  {
   "cell_type": "code",
   "execution_count": 32,
   "metadata": {},
   "outputs": [
    {
     "name": "stdout",
     "output_type": "stream",
     "text": [
      "Accuracy: 0.7686325839236218\n",
      "Precision: 0.7042338862379762\n",
      "Recall: 0.8153994562834341\n",
      "F-measure: 0.7557506299276598\n"
     ]
    }
   ],
   "source": [
    "accuracy = accuracy_score(y_test, y_pred)\n",
    "precision = metrics.precision_score(y_test, y_pred)\n",
    "recall = metrics.recall_score(y_test, y_pred)\n",
    "fmeasure = metrics.f1_score(y_test, y_pred)\n",
    "\n",
    "print(\"Accuracy:\", accuracy)\n",
    "print(\"Precision:\", precision)\n",
    "print(\"Recall:\", recall)\n",
    "print(\"F-measure:\", fmeasure)"
   ]
  },
  {
   "cell_type": "markdown",
   "metadata": {},
   "source": [
    "#### Key Takeaways\n",
    "<br>\n",
    "<div style=\"text-align: justify\">\n",
    "    Despite tuning 'alpha' parameter with several different values in finding the optimal results, Naives Bayes with GridSearchCV has similar accuracy (76.9%) and f-measure (75.6%) with model without GridSearchCV. This could be due to the number of cross validation used which resulted in slightly lesser correctly classified records.\n",
    "</div>"
   ]
  },
  {
   "cell_type": "markdown",
   "metadata": {},
   "source": [
    "### 6.5 Decision Tree w/o GridSearchCV\n",
    "<br>\n",
    "<div style=\"text-align: justify\">\n",
    "    Decision tree classifies data items by posing a series of questions about the features associated with the items. Each question is contained in a node, and every internal node points to one child node for each possible answer. Decision trees are sometimes more interpretable than other classifiers such as SVM as they combine simple questions about the data in an understandable way (Kingsford and Salzberg, 2009). \n",
    "</div>"
   ]
  },
  {
   "cell_type": "code",
   "execution_count": 33,
   "metadata": {},
   "outputs": [
    {
     "data": {
      "text/plain": [
       "DecisionTreeClassifier(random_state=42)"
      ]
     },
     "execution_count": 33,
     "metadata": {},
     "output_type": "execute_result"
    }
   ],
   "source": [
    "from sklearn.tree import DecisionTreeClassifier\n",
    "\n",
    "model_dt = DecisionTreeClassifier(random_state=42) \n",
    "model_dt.fit(X_train, y_train)"
   ]
  },
  {
   "cell_type": "code",
   "execution_count": 34,
   "metadata": {},
   "outputs": [
    {
     "name": "stdout",
     "output_type": "stream",
     "text": [
      "[[13721   852]\n",
      " [  764 10639]]\n"
     ]
    }
   ],
   "source": [
    "y_pred = model_dt.predict(X_test)\n",
    "conf_matrix = confusion_matrix(y_test, y_pred)\n",
    "print(conf_matrix)"
   ]
  },
  {
   "cell_type": "code",
   "execution_count": 35,
   "metadata": {},
   "outputs": [
    {
     "name": "stdout",
     "output_type": "stream",
     "text": [
      "True Negative:  13721\n",
      "False Positive:  852\n",
      "False Negative:  764\n",
      "True Positive:  10639\n"
     ]
    }
   ],
   "source": [
    "tn = conf_matrix[0][0]\n",
    "fp = conf_matrix[0][1]\n",
    "fn = conf_matrix[1][0]\n",
    "tp = conf_matrix[1][1]\n",
    "\n",
    "print(\"True Negative: \", tn)\n",
    "print(\"False Positive: \", fp)\n",
    "print(\"False Negative: \", fn)\n",
    "print(\"True Positive: \", tp)"
   ]
  },
  {
   "cell_type": "code",
   "execution_count": 36,
   "metadata": {},
   "outputs": [
    {
     "name": "stdout",
     "output_type": "stream",
     "text": [
      "Accuracy: 0.9377887280566677\n",
      "Precision: 0.9258550169698024\n",
      "Recall: 0.9330000876962203\n",
      "F-measure: 0.9294138202149035\n"
     ]
    }
   ],
   "source": [
    "accuracy = accuracy_score(y_test, y_pred)\n",
    "precision = metrics.precision_score(y_test, y_pred)\n",
    "recall = metrics.recall_score(y_test, y_pred)\n",
    "fmeasure = metrics.f1_score(y_test, y_pred)\n",
    "\n",
    "print(\"Accuracy:\", accuracy)\n",
    "print(\"Precision:\", precision)\n",
    "print(\"Recall:\", recall)\n",
    "print(\"F-measure:\", fmeasure)"
   ]
  },
  {
   "cell_type": "markdown",
   "metadata": {},
   "source": [
    "### 6.6 Decision Tree with GridSearchCV\n",
    "\n",
    "Tuned Parameters: {'criterion': 'gini', 'max_depth': 15}"
   ]
  },
  {
   "cell_type": "code",
   "execution_count": 50,
   "metadata": {},
   "outputs": [
    {
     "data": {
      "text/plain": [
       "GridSearchCV(cv=10, estimator=DecisionTreeClassifier(random_state=42),\n",
       "             n_jobs=-1,\n",
       "             param_grid={'criterion': ['gini', 'entropy'],\n",
       "                         'max_depth': [10, 15, 20, 25, 40, 50, 60, 80]})"
      ]
     },
     "execution_count": 50,
     "metadata": {},
     "output_type": "execute_result"
    }
   ],
   "source": [
    "param_grid = {'max_depth': [10, 15, 20, 25, 40, 50, 60,80],\n",
    "              'criterion': ['gini','entropy']}\n",
    "\n",
    "model_dt1 = DecisionTreeClassifier(random_state=42)\n",
    "grid = GridSearchCV(model_dt1, param_grid, n_jobs=-1, cv=10)\n",
    "grid.fit(X_train, y_train)"
   ]
  },
  {
   "cell_type": "code",
   "execution_count": 51,
   "metadata": {},
   "outputs": [
    {
     "name": "stdout",
     "output_type": "stream",
     "text": [
      "Best parameters found by grid search are: {'criterion': 'gini', 'max_depth': 15}\n"
     ]
    }
   ],
   "source": [
    "print('Best parameters found by grid search are:', grid.best_params_)"
   ]
  },
  {
   "cell_type": "code",
   "execution_count": 52,
   "metadata": {},
   "outputs": [
    {
     "name": "stdout",
     "output_type": "stream",
     "text": [
      "[[14077   496]\n",
      " [  826 10577]]\n"
     ]
    }
   ],
   "source": [
    "y_pred = grid.predict(X_test)\n",
    "conf_matrix = confusion_matrix(y_test, y_pred)\n",
    "print(conf_matrix)"
   ]
  },
  {
   "cell_type": "code",
   "execution_count": 53,
   "metadata": {},
   "outputs": [
    {
     "name": "stdout",
     "output_type": "stream",
     "text": [
      "True Negative:  14077\n",
      "False Positive:  496\n",
      "False Negative:  826\n",
      "True Positive:  10577\n"
     ]
    }
   ],
   "source": [
    "tn = conf_matrix[0][0]\n",
    "fp = conf_matrix[0][1]\n",
    "fn = conf_matrix[1][0]\n",
    "tp = conf_matrix[1][1]\n",
    "\n",
    "print(\"True Negative: \", tn)\n",
    "print(\"False Positive: \", fp)\n",
    "print(\"False Negative: \", fn)\n",
    "print(\"True Positive: \", tp)"
   ]
  },
  {
   "cell_type": "code",
   "execution_count": 54,
   "metadata": {},
   "outputs": [
    {
     "name": "stdout",
     "output_type": "stream",
     "text": [
      "Accuracy: 0.9491068678780412\n",
      "Precision: 0.9552063578072789\n",
      "Recall: 0.9275629220380601\n",
      "F-measure: 0.9411817049297028\n"
     ]
    }
   ],
   "source": [
    "accuracy = accuracy_score(y_test, y_pred)\n",
    "precision = metrics.precision_score(y_test, y_pred)\n",
    "recall = metrics.recall_score(y_test, y_pred)\n",
    "fmeasure = metrics.f1_score(y_test, y_pred)\n",
    "\n",
    "print(\"Accuracy:\", accuracy)\n",
    "print(\"Precision:\", precision)\n",
    "print(\"Recall:\", recall)\n",
    "print(\"F-measure:\", fmeasure)"
   ]
  },
  {
   "cell_type": "markdown",
   "metadata": {},
   "source": [
    "#### Key Takeaways\n",
    "<br>\n",
    "<div style=\"text-align: justify\">\n",
    "    Given entropy and gini, gini is the preferred criterion and it produces a higher accuracy (94.9%) and f-measure (95.5%) as compared to decision tree without GridSearchCV.\n",
    "</div>"
   ]
  },
  {
   "cell_type": "markdown",
   "metadata": {},
   "source": [
    "### 6.7 RandomForest w/o GridSearchCV\n",
    "<br>\n",
    "<div style=\"text-align: justify\">\n",
    "Unlike decision trees which are prone to overfitting, random forest is effective in providing useful information on the importance of each variable, thus determining those that have the greatest impact on the dependent variable. The training data will be divided into different sets of data and for each set, a decision tree will be constructed. Since each  tree is trained in parallel, random forests are efficient on large data sets (Cui, 2018).\n",
    "</div>"
   ]
  },
  {
   "cell_type": "code",
   "execution_count": 46,
   "metadata": {},
   "outputs": [
    {
     "data": {
      "text/plain": [
       "RandomForestClassifier(random_state=42)"
      ]
     },
     "execution_count": 46,
     "metadata": {},
     "output_type": "execute_result"
    }
   ],
   "source": [
    "from sklearn.ensemble import RandomForestClassifier\n",
    "\n",
    "model_rf = RandomForestClassifier(random_state=42)\n",
    "model_rf.fit(X_train, y_train)"
   ]
  },
  {
   "cell_type": "code",
   "execution_count": 47,
   "metadata": {},
   "outputs": [
    {
     "name": "stdout",
     "output_type": "stream",
     "text": [
      "[[14194   379]\n",
      " [  710 10693]]\n"
     ]
    }
   ],
   "source": [
    "y_pred = model_rf.predict(X_test)\n",
    "conf_matrix = confusion_matrix(y_test, y_pred)\n",
    "print(conf_matrix)"
   ]
  },
  {
   "cell_type": "code",
   "execution_count": 48,
   "metadata": {},
   "outputs": [
    {
     "name": "stdout",
     "output_type": "stream",
     "text": [
      "True Negative:  14194\n",
      "False Positive:  379\n",
      "False Negative:  710\n",
      "True Positive:  10693\n"
     ]
    }
   ],
   "source": [
    "tn = conf_matrix[0][0]\n",
    "fp = conf_matrix[0][1]\n",
    "fn = conf_matrix[1][0]\n",
    "tp = conf_matrix[1][1]\n",
    "\n",
    "print(\"True Negative: \", tn)\n",
    "print(\"False Positive: \", fp)\n",
    "print(\"False Negative: \", fn)\n",
    "print(\"True Positive: \", tp)"
   ]
  },
  {
   "cell_type": "code",
   "execution_count": 49,
   "metadata": {},
   "outputs": [
    {
     "name": "stdout",
     "output_type": "stream",
     "text": [
      "Accuracy: 0.9580766861718509\n",
      "Precision: 0.9657695086705202\n",
      "Recall: 0.9377356835920372\n",
      "F-measure: 0.9515461624026696\n"
     ]
    }
   ],
   "source": [
    "accuracy = accuracy_score(y_test, y_pred)\n",
    "precision = metrics.precision_score(y_test, y_pred)\n",
    "recall = metrics.recall_score(y_test, y_pred)\n",
    "fmeasure = metrics.f1_score(y_test, y_pred)\n",
    "\n",
    "print(\"Accuracy:\", accuracy)\n",
    "print(\"Precision:\", precision)\n",
    "print(\"Recall:\", recall)\n",
    "print(\"F-measure:\", fmeasure)"
   ]
  },
  {
   "cell_type": "markdown",
   "metadata": {},
   "source": [
    "### 6.8 RandomForest with GridSearchCV\n",
    "\n",
    "Tuned Parameters: {'max_depth': 35, 'min_samples_split': 5, 'n_estimators': 250}"
   ]
  },
  {
   "cell_type": "code",
   "execution_count": 55,
   "metadata": {},
   "outputs": [
    {
     "data": {
      "text/plain": [
       "GridSearchCV(cv=10, estimator=RandomForestClassifier(random_state=42),\n",
       "             n_jobs=-1,\n",
       "             param_grid={'max_depth': [35, 45, 55],\n",
       "                         'min_samples_split': [5, 15, 20],\n",
       "                         'n_estimators': [150, 250, 350]})"
      ]
     },
     "execution_count": 55,
     "metadata": {},
     "output_type": "execute_result"
    }
   ],
   "source": [
    "param_grid = {'n_estimators': [150, 250, 350],\n",
    "              'max_depth' : [35, 45, 55],\n",
    "              'min_samples_split' : [5, 15, 20]}\n",
    "\n",
    "model_rf1 = RandomForestClassifier(random_state=42)\n",
    "grid = GridSearchCV(model_rf1, param_grid, n_jobs=-1, cv=10)\n",
    "grid.fit(X_train, y_train)"
   ]
  },
  {
   "cell_type": "code",
   "execution_count": 56,
   "metadata": {},
   "outputs": [
    {
     "name": "stdout",
     "output_type": "stream",
     "text": [
      "Best parameters found by grid search are: {'max_depth': 35, 'min_samples_split': 5, 'n_estimators': 250}\n"
     ]
    }
   ],
   "source": [
    "print('Best parameters found by grid search are:', grid.best_params_)"
   ]
  },
  {
   "cell_type": "code",
   "execution_count": 57,
   "metadata": {},
   "outputs": [
    {
     "name": "stdout",
     "output_type": "stream",
     "text": [
      "[[14187   386]\n",
      " [  702 10701]]\n"
     ]
    }
   ],
   "source": [
    "y_pred = grid.predict(X_test)\n",
    "conf_matrix = confusion_matrix(y_test, y_pred)\n",
    "print(conf_matrix)"
   ]
  },
  {
   "cell_type": "code",
   "execution_count": 58,
   "metadata": {},
   "outputs": [
    {
     "name": "stdout",
     "output_type": "stream",
     "text": [
      "True Negative:  14187\n",
      "False Positive:  386\n",
      "False Negative:  702\n",
      "True Positive:  10701\n"
     ]
    }
   ],
   "source": [
    "tn = conf_matrix[0][0]\n",
    "fp = conf_matrix[0][1]\n",
    "fn = conf_matrix[1][0]\n",
    "tp = conf_matrix[1][1]\n",
    "\n",
    "print(\"True Negative: \", tn)\n",
    "print(\"False Positive: \", fp)\n",
    "print(\"False Negative: \", fn)\n",
    "print(\"True Positive: \", tp)"
   ]
  },
  {
   "cell_type": "code",
   "execution_count": 59,
   "metadata": {},
   "outputs": [
    {
     "name": "stdout",
     "output_type": "stream",
     "text": [
      "Accuracy: 0.9581151832460733\n",
      "Precision: 0.9651844502570578\n",
      "Recall: 0.9384372533543804\n",
      "F-measure: 0.951622943530458\n"
     ]
    }
   ],
   "source": [
    "accuracy = accuracy_score(y_test, y_pred)\n",
    "precision = metrics.precision_score(y_test, y_pred)\n",
    "recall = metrics.recall_score(y_test, y_pred)\n",
    "fmeasure = metrics.f1_score(y_test, y_pred)\n",
    "\n",
    "print(\"Accuracy:\", accuracy)\n",
    "print(\"Precision:\", precision)\n",
    "print(\"Recall:\", recall)\n",
    "print(\"F-measure:\", fmeasure)"
   ]
  },
  {
   "cell_type": "code",
   "execution_count": 60,
   "metadata": {},
   "outputs": [
    {
     "name": "stdout",
     "output_type": "stream",
     "text": [
      "Train Error:  0.008883199876809411\n",
      "Test Error:  0.041884816753926746\n"
     ]
    }
   ],
   "source": [
    "# Predict X_train\n",
    "X_train_pred = grid.predict(X_train)\n",
    "\n",
    "# Accuracy against y_train\n",
    "train_accuracy = accuracy_score(y_train, X_train_pred)\n",
    "\n",
    "print(\"Train Error: \", 1 - train_accuracy)\n",
    "print(\"Test Error: \", 1 - accuracy)"
   ]
  },
  {
   "cell_type": "markdown",
   "metadata": {},
   "source": [
    "#### Key Takeaways\n",
    "<br>\n",
    "<div style=\"text-align: justify\">\n",
    "    By increasing the number of trees in the forest, from 100 (default) to 350, it ensures that more sub-samples/observations of the dataset will be taken into account which thus helps to improve the predictive accuracy. Moreover, with larger depth of each tree, more splits are involved and hence, able to capture more information about the data. However, having more trees can be computationally intensive and might overfit.\n",
    "</div>"
   ]
  },
  {
   "cell_type": "markdown",
   "metadata": {},
   "source": [
    "### 6.9 Extremely Randomnized Tree w/o GridSearchCV\n",
    "<br>\n",
    "<div style=\"text-align: justify\">\n",
    "This tree-based ensemble method consists of randomizing strongly both attribute and cut-point choice when spliting a tree node. One of the strengths of  this technique is its computational efficiency (Geurts, Ernst and Wehenkel, 2006).\n",
    "</div>"
   ]
  },
  {
   "cell_type": "code",
   "execution_count": 61,
   "metadata": {},
   "outputs": [
    {
     "data": {
      "text/plain": [
       "ExtraTreesClassifier(random_state=42)"
      ]
     },
     "execution_count": 61,
     "metadata": {},
     "output_type": "execute_result"
    }
   ],
   "source": [
    "from sklearn.ensemble import ExtraTreesClassifier\n",
    "\n",
    "model_ert = ExtraTreesClassifier(random_state=42)\n",
    "model_ert.fit(X_train, y_train)"
   ]
  },
  {
   "cell_type": "code",
   "execution_count": 62,
   "metadata": {},
   "outputs": [
    {
     "name": "stdout",
     "output_type": "stream",
     "text": [
      "[[14148   425]\n",
      " [  722 10681]]\n"
     ]
    }
   ],
   "source": [
    "y_pred = model_ert.predict(X_test)\n",
    "conf_matrix = confusion_matrix(y_test, y_pred)\n",
    "print(conf_matrix)"
   ]
  },
  {
   "cell_type": "code",
   "execution_count": 63,
   "metadata": {},
   "outputs": [
    {
     "name": "stdout",
     "output_type": "stream",
     "text": [
      "True Negative:  14148\n",
      "False Positive:  425\n",
      "False Negative:  722\n",
      "True Positive:  10681\n"
     ]
    }
   ],
   "source": [
    "tn = conf_matrix[0][0]\n",
    "fp = conf_matrix[0][1]\n",
    "fn = conf_matrix[1][0]\n",
    "tp = conf_matrix[1][1]\n",
    "\n",
    "print(\"True Negative: \", tn)\n",
    "print(\"False Positive: \", fp)\n",
    "print(\"False Negative: \", fn)\n",
    "print(\"True Positive: \", tp)"
   ]
  },
  {
   "cell_type": "code",
   "execution_count": 64,
   "metadata": {},
   "outputs": [
    {
     "name": "stdout",
     "output_type": "stream",
     "text": [
      "Accuracy: 0.9558438558669541\n",
      "Precision: 0.9617323969025752\n",
      "Recall: 0.9366833289485224\n",
      "F-measure: 0.9490426051801503\n"
     ]
    }
   ],
   "source": [
    "accuracy = accuracy_score(y_test, y_pred)\n",
    "precision = metrics.precision_score(y_test, y_pred)\n",
    "recall = metrics.recall_score(y_test, y_pred)\n",
    "fmeasure = metrics.f1_score(y_test, y_pred)\n",
    "\n",
    "print(\"Accuracy:\", accuracy)\n",
    "print(\"Precision:\", precision)\n",
    "print(\"Recall:\", recall)\n",
    "print(\"F-measure:\", fmeasure)"
   ]
  },
  {
   "cell_type": "markdown",
   "metadata": {},
   "source": [
    "### 6.10 Extremely Randomnized Tree with GridSearchCV\n",
    "\n",
    "Tuned Parameters: {'max_depth': 20, 'n_estimators': 210}"
   ]
  },
  {
   "cell_type": "code",
   "execution_count": 66,
   "metadata": {},
   "outputs": [
    {
     "data": {
      "text/plain": [
       "GridSearchCV(cv=10, estimator=ExtraTreesClassifier(random_state=42), n_jobs=-1,\n",
       "             param_grid={'max_depth': [10, 20, 22, 24],\n",
       "                         'n_estimators': [130, 140, 150, 160, 210]})"
      ]
     },
     "execution_count": 66,
     "metadata": {},
     "output_type": "execute_result"
    }
   ],
   "source": [
    "param_grid = {\"n_estimators\": [130, 140, 150, 160,210],\n",
    "              \"max_depth\": [10, 20, 22, 24]}\n",
    "              #\"min_samples_split\": [5, 10, 15, 20],\n",
    "              #\"min_samples_leaf\": [1, 2, 5, 20]\n",
    "\n",
    "model_ert1 = ExtraTreesClassifier(random_state=42)\n",
    "grid = GridSearchCV(model_ert1, param_grid, n_jobs=-1, cv=10)                  \n",
    "grid.fit(X_train, y_train)"
   ]
  },
  {
   "cell_type": "code",
   "execution_count": 67,
   "metadata": {},
   "outputs": [
    {
     "name": "stdout",
     "output_type": "stream",
     "text": [
      "Best parameters found by grid search are: {'max_depth': 20, 'n_estimators': 210}\n"
     ]
    }
   ],
   "source": [
    "print('Best parameters found by grid search are:', grid.best_params_)"
   ]
  },
  {
   "cell_type": "code",
   "execution_count": 68,
   "metadata": {},
   "outputs": [
    {
     "name": "stdout",
     "output_type": "stream",
     "text": [
      "[[14179   394]\n",
      " [  710 10693]]\n"
     ]
    }
   ],
   "source": [
    "y_pred = grid.predict(X_test)\n",
    "conf_matrix = confusion_matrix(y_test, y_pred)\n",
    "print(conf_matrix)"
   ]
  },
  {
   "cell_type": "code",
   "execution_count": 69,
   "metadata": {},
   "outputs": [
    {
     "name": "stdout",
     "output_type": "stream",
     "text": [
      "True Negative:  14179\n",
      "False Positive:  394\n",
      "False Negative:  710\n",
      "True Positive:  10693\n"
     ]
    }
   ],
   "source": [
    "tn = conf_matrix[0][0]\n",
    "fp = conf_matrix[0][1]\n",
    "fn = conf_matrix[1][0]\n",
    "tp = conf_matrix[1][1]\n",
    "\n",
    "print(\"True Negative: \", tn)\n",
    "print(\"False Positive: \", fp)\n",
    "print(\"False Negative: \", fn)\n",
    "print(\"True Positive: \", tp)"
   ]
  },
  {
   "cell_type": "code",
   "execution_count": 70,
   "metadata": {},
   "outputs": [
    {
     "name": "stdout",
     "output_type": "stream",
     "text": [
      "Accuracy: 0.9574992300585156\n",
      "Precision: 0.9644628844592766\n",
      "Recall: 0.9377356835920372\n",
      "F-measure: 0.9509115162294353\n"
     ]
    }
   ],
   "source": [
    "accuracy = accuracy_score(y_test, y_pred)\n",
    "precision = metrics.precision_score(y_test, y_pred)\n",
    "recall = metrics.recall_score(y_test, y_pred)\n",
    "fmeasure = metrics.f1_score(y_test, y_pred)\n",
    "\n",
    "print(\"Accuracy:\", accuracy)\n",
    "print(\"Precision:\", precision)\n",
    "print(\"Recall:\", recall)\n",
    "print(\"F-measure:\", fmeasure)"
   ]
  },
  {
   "cell_type": "code",
   "execution_count": 71,
   "metadata": {},
   "outputs": [
    {
     "name": "stdout",
     "output_type": "stream",
     "text": [
      "Train Error:  0.009768632583923575\n",
      "Test Error:  0.04250076994148444\n"
     ]
    }
   ],
   "source": [
    "# Predict X_train\n",
    "X_train_pred = grid.predict(X_train)\n",
    "\n",
    "# Accuracy against y_train\n",
    "train_accuracy = accuracy_score(y_train, X_train_pred)\n",
    "\n",
    "print(\"Train Error: \", 1 - train_accuracy)\n",
    "print(\"Test Error: \", 1 - accuracy)"
   ]
  },
  {
   "cell_type": "markdown",
   "metadata": {},
   "source": [
    "#### Key Takeaways\n",
    "<br>\n",
    "<div style=\"text-align: justify\">\n",
    "    After fitting the decision tree with a range of values of 10, 20, 22 and 24 for maximum depth parameter, it is noted that max_depth of 20 would provide the optimal result. While increasing the n_estimators parameter, it is necessary to ensure that it does not reduce the performance of the model. Hence, the optimal n_estimators from a range of values is found to be 210.\n",
    "</div>"
   ]
  },
  {
   "cell_type": "markdown",
   "metadata": {},
   "source": [
    "### 6.11 AdaBoost w/o GridSearchCV\n",
    "<br>\n",
    "<div style=\"text-align: justify\">\n",
    "AdaBoost is one of the most popular boosting algorithms in customer churn prediction (Clemente, Giner-Bosch and San Matías, n.d.). Observations which are misclassified will be assigned higher weights to increase its chances of being correctly classified. The use of multiple weak models, where decision boundaries results are combined, will gradually improve the accuracy of the models (Rahman, Irfan, Raza, Ghori, Yaqoob & Awais, 2020).\n",
    "</div>"
   ]
  },
  {
   "cell_type": "code",
   "execution_count": 72,
   "metadata": {},
   "outputs": [
    {
     "data": {
      "text/plain": [
       "AdaBoostClassifier(random_state=42)"
      ]
     },
     "execution_count": 72,
     "metadata": {},
     "output_type": "execute_result"
    }
   ],
   "source": [
    "from sklearn.ensemble import AdaBoostClassifier\n",
    "\n",
    "model_ada = AdaBoostClassifier(random_state=42)\n",
    "model_ada.fit(X_train, y_train)"
   ]
  },
  {
   "cell_type": "code",
   "execution_count": 73,
   "metadata": {},
   "outputs": [
    {
     "name": "stdout",
     "output_type": "stream",
     "text": [
      "[[13532  1041]\n",
      " [ 1198 10205]]\n"
     ]
    }
   ],
   "source": [
    "y_pred = model_ada.predict(X_test)\n",
    "conf_matrix = confusion_matrix(y_test, y_pred)\n",
    "print(conf_matrix)"
   ]
  },
  {
   "cell_type": "code",
   "execution_count": 74,
   "metadata": {},
   "outputs": [
    {
     "name": "stdout",
     "output_type": "stream",
     "text": [
      "True Negative:  13532\n",
      "False Positive:  1041\n",
      "False Negative:  1198\n",
      "True Positive:  10205\n"
     ]
    }
   ],
   "source": [
    "tn = conf_matrix[0][0]\n",
    "fp = conf_matrix[0][1]\n",
    "fn = conf_matrix[1][0]\n",
    "tp = conf_matrix[1][1]\n",
    "\n",
    "print(\"True Negative: \", tn)\n",
    "print(\"False Positive: \", fp)\n",
    "print(\"False Negative: \", fn)\n",
    "print(\"True Positive: \", tp)"
   ]
  },
  {
   "cell_type": "code",
   "execution_count": 75,
   "metadata": {},
   "outputs": [
    {
     "name": "stdout",
     "output_type": "stream",
     "text": [
      "Accuracy: 0.9138050508161379\n",
      "Precision: 0.907433754223724\n",
      "Recall: 0.8949399280890994\n",
      "F-measure: 0.9011435383460639\n"
     ]
    }
   ],
   "source": [
    "accuracy = accuracy_score(y_test, y_pred)\n",
    "precision = metrics.precision_score(y_test, y_pred)\n",
    "recall = metrics.recall_score(y_test, y_pred)\n",
    "fmeasure = metrics.f1_score(y_test, y_pred)\n",
    "\n",
    "print(\"Accuracy:\", accuracy)\n",
    "print(\"Precision:\", precision)\n",
    "print(\"Recall:\", recall)\n",
    "print(\"F-measure:\", fmeasure)"
   ]
  },
  {
   "cell_type": "markdown",
   "metadata": {},
   "source": [
    "### 6.12 AdaBoost with GridSearchCV\n",
    "\n",
    "Tuned Parameters: {'n_estimators': 280}"
   ]
  },
  {
   "cell_type": "code",
   "execution_count": 76,
   "metadata": {},
   "outputs": [
    {
     "data": {
      "text/plain": [
       "GridSearchCV(cv=10, estimator=AdaBoostClassifier(random_state=42), n_jobs=-1,\n",
       "             param_grid={'n_estimators': [30, 40, 50, 80, 90, 100, 130, 180,\n",
       "                                          280, 450, 500]})"
      ]
     },
     "execution_count": 76,
     "metadata": {},
     "output_type": "execute_result"
    }
   ],
   "source": [
    "param_grid = {'n_estimators': [30, 40, 50, 80, 90, 100, 130, 180, 280, 450, 500]}\n",
    "\n",
    "model_ada1 = AdaBoostClassifier(random_state=42) \n",
    "grid = GridSearchCV(model_ada1, param_grid, n_jobs=-1, cv=10)\n",
    "grid.fit(X_train, y_train)"
   ]
  },
  {
   "cell_type": "code",
   "execution_count": 77,
   "metadata": {},
   "outputs": [
    {
     "name": "stdout",
     "output_type": "stream",
     "text": [
      "Best parameters found by grid search are: {'n_estimators': 280}\n"
     ]
    }
   ],
   "source": [
    "print('Best parameters found by grid search are:', grid.best_params_)"
   ]
  },
  {
   "cell_type": "code",
   "execution_count": 78,
   "metadata": {},
   "outputs": [
    {
     "name": "stdout",
     "output_type": "stream",
     "text": [
      "[[13520  1053]\n",
      " [ 1143 10260]]\n"
     ]
    }
   ],
   "source": [
    "y_pred = grid.predict(X_test)\n",
    "conf_matrix = confusion_matrix(y_test, y_pred)\n",
    "print(conf_matrix)"
   ]
  },
  {
   "cell_type": "code",
   "execution_count": 79,
   "metadata": {},
   "outputs": [
    {
     "name": "stdout",
     "output_type": "stream",
     "text": [
      "True Negative:  13520\n",
      "False Positive:  1053\n",
      "False Negative:  1143\n",
      "True Positive:  10260\n"
     ]
    }
   ],
   "source": [
    "tn = conf_matrix[0][0]\n",
    "fp = conf_matrix[0][1]\n",
    "fn = conf_matrix[1][0]\n",
    "tp = conf_matrix[1][1]\n",
    "\n",
    "print(\"True Negative: \", tn)\n",
    "print(\"False Positive: \", fp)\n",
    "print(\"False Negative: \", fn)\n",
    "print(\"True Positive: \", tp)"
   ]
  },
  {
   "cell_type": "code",
   "execution_count": 80,
   "metadata": {},
   "outputs": [
    {
     "name": "stdout",
     "output_type": "stream",
     "text": [
      "Accuracy: 0.9154604250076994\n",
      "Precision: 0.9069212410501193\n",
      "Recall: 0.8997632202052092\n",
      "F-measure: 0.9033280507131537\n"
     ]
    }
   ],
   "source": [
    "accuracy = accuracy_score(y_test, y_pred)\n",
    "precision = metrics.precision_score(y_test, y_pred)\n",
    "recall = metrics.recall_score(y_test, y_pred)\n",
    "fmeasure = metrics.f1_score(y_test, y_pred)\n",
    "\n",
    "print(\"Accuracy:\", accuracy)\n",
    "print(\"Precision:\", precision)\n",
    "print(\"Recall:\", recall)\n",
    "print(\"F-measure:\", fmeasure)"
   ]
  },
  {
   "cell_type": "markdown",
   "metadata": {},
   "source": [
    "#### Key Takeaways\n",
    "<br>\n",
    "<div style=\"text-align: justify\">\n",
    "    After fitting adaboost model with a wide range of values for n_estimators parameter, it is noted that n_estimators of 280 would provide the optimal result. As compared to the other adaboost parameters, n_estimators is an important parameter that can aid in improving the performance of the model by changing the number of base models. This explains why only n_estimators parameter is being included.\n",
    "</div>"
   ]
  },
  {
   "cell_type": "markdown",
   "metadata": {},
   "source": [
    "### 6.13 XGBoost w/o GridSearchCV\n",
    "<br>\n",
    "<div style=\"text-align: justify\">\n",
    "XGBoost is highly scalable, quick to execute and typically outperforms other algorithms (Hirko, 2019). It uses a histogram based algorithm to filter the observations used for splitting and leverages multiple machine learning algorithms to improve the accuracy of predictions. In comparison to LightGBM and CatBoost, the computation time for XGBoost is longer and hence higher complexity (Rahman, Irfan, Raza, Ghori, Yaqoob & Awais, 2020). \n",
    "</div>"
   ]
  },
  {
   "cell_type": "code",
   "execution_count": 83,
   "metadata": {},
   "outputs": [
    {
     "name": "stderr",
     "output_type": "stream",
     "text": [
      "C:\\Users\\Ong Yan Ning\\Anaconda3\\lib\\site-packages\\xgboost\\sklearn.py:892: UserWarning: The use of label encoder in XGBClassifier is deprecated and will be removed in a future release. To remove this warning, do the following: 1) Pass option use_label_encoder=False when constructing XGBClassifier object; and 2) Encode your labels (y) as integers starting with 0, i.e. 0, 1, 2, ..., [num_class - 1].\n",
      "  warnings.warn(label_encoder_deprecation_msg, UserWarning)\n"
     ]
    },
    {
     "name": "stdout",
     "output_type": "stream",
     "text": [
      "[18:50:09] WARNING: C:/Users/Administrator/workspace/xgboost-win64_release_1.3.0/src/learner.cc:1061: Starting in XGBoost 1.3.0, the default evaluation metric used with the objective 'binary:logistic' was changed from 'error' to 'logloss'. Explicitly set eval_metric if you'd like to restore the old behavior.\n"
     ]
    },
    {
     "data": {
      "text/plain": [
       "XGBClassifier(base_score=0.5, booster='gbtree', colsample_bylevel=1,\n",
       "              colsample_bynode=1, colsample_bytree=1, gamma=0, gpu_id=-1,\n",
       "              importance_type='gain', interaction_constraints='',\n",
       "              learning_rate=0.300000012, max_delta_step=0, max_depth=6,\n",
       "              min_child_weight=1, missing=nan, monotone_constraints='()',\n",
       "              n_estimators=100, n_jobs=8, num_parallel_tree=1, random_state=42,\n",
       "              reg_alpha=0, reg_lambda=1, scale_pos_weight=1, subsample=1,\n",
       "              tree_method='exact', validate_parameters=1, verbosity=None)"
      ]
     },
     "execution_count": 83,
     "metadata": {},
     "output_type": "execute_result"
    }
   ],
   "source": [
    "import xgboost as xgb\n",
    "\n",
    "model_xgb = xgb.XGBClassifier(random_state=42)\n",
    "model_xgb.fit(X_train, y_train)"
   ]
  },
  {
   "cell_type": "code",
   "execution_count": 84,
   "metadata": {},
   "outputs": [
    {
     "name": "stdout",
     "output_type": "stream",
     "text": [
      "[[14191   382]\n",
      " [  717 10686]]\n"
     ]
    }
   ],
   "source": [
    "y_pred = model_xgb.predict(X_test)\n",
    "conf_matrix = confusion_matrix(y_test, y_pred)\n",
    "print(conf_matrix)"
   ]
  },
  {
   "cell_type": "code",
   "execution_count": 85,
   "metadata": {},
   "outputs": [
    {
     "name": "stdout",
     "output_type": "stream",
     "text": [
      "True Negative:  14191\n",
      "False Positive:  382\n",
      "False Negative:  717\n",
      "True Positive:  10686\n"
     ]
    }
   ],
   "source": [
    "tn = conf_matrix[0][0]\n",
    "fp = conf_matrix[0][1]\n",
    "fn = conf_matrix[1][0]\n",
    "tp = conf_matrix[1][1]\n",
    "\n",
    "print(\"True Negative: \", tn)\n",
    "print(\"False Positive: \", fp)\n",
    "print(\"False Negative: \", fn)\n",
    "print(\"True Positive: \", tp)"
   ]
  },
  {
   "cell_type": "code",
   "execution_count": 86,
   "metadata": {},
   "outputs": [
    {
     "name": "stdout",
     "output_type": "stream",
     "text": [
      "Accuracy: 0.9576917154296274\n",
      "Precision: 0.9654860860137333\n",
      "Recall: 0.9371218100499868\n",
      "F-measure: 0.9510925192470294\n"
     ]
    }
   ],
   "source": [
    "accuracy = accuracy_score(y_test, y_pred)\n",
    "precision = metrics.precision_score(y_test, y_pred)\n",
    "recall = metrics.recall_score(y_test, y_pred)\n",
    "fmeasure = metrics.f1_score(y_test, y_pred)\n",
    "\n",
    "print(\"Accuracy:\", accuracy)\n",
    "print(\"Precision:\", precision)\n",
    "print(\"Recall:\", recall)\n",
    "print(\"F-measure:\", fmeasure)"
   ]
  },
  {
   "cell_type": "markdown",
   "metadata": {},
   "source": [
    "### 6.14 XGBoost with GridSearchCV\n",
    "\n",
    "Tuned Parameters: {'gamma': 5, 'learning_rate': 0.1, 'max_depth': 15, 'n_estimators': 150}"
   ]
  },
  {
   "cell_type": "code",
   "execution_count": 87,
   "metadata": {},
   "outputs": [
    {
     "name": "stderr",
     "output_type": "stream",
     "text": [
      "C:\\Users\\Ong Yan Ning\\Anaconda3\\lib\\site-packages\\xgboost\\sklearn.py:892: UserWarning: The use of label encoder in XGBClassifier is deprecated and will be removed in a future release. To remove this warning, do the following: 1) Pass option use_label_encoder=False when constructing XGBClassifier object; and 2) Encode your labels (y) as integers starting with 0, i.e. 0, 1, 2, ..., [num_class - 1].\n",
      "  warnings.warn(label_encoder_deprecation_msg, UserWarning)\n"
     ]
    },
    {
     "name": "stdout",
     "output_type": "stream",
     "text": [
      "[19:28:31] WARNING: C:/Users/Administrator/workspace/xgboost-win64_release_1.3.0/src/learner.cc:1061: Starting in XGBoost 1.3.0, the default evaluation metric used with the objective 'binary:logistic' was changed from 'error' to 'logloss'. Explicitly set eval_metric if you'd like to restore the old behavior.\n"
     ]
    },
    {
     "data": {
      "text/plain": [
       "GridSearchCV(cv=10,\n",
       "             estimator=XGBClassifier(base_score=None, booster=None,\n",
       "                                     colsample_bylevel=None,\n",
       "                                     colsample_bynode=None,\n",
       "                                     colsample_bytree=None, gamma=None,\n",
       "                                     gpu_id=None, importance_type='gain',\n",
       "                                     interaction_constraints=None,\n",
       "                                     learning_rate=None, max_delta_step=None,\n",
       "                                     max_depth=None, min_child_weight=None,\n",
       "                                     missing=nan, monotone_constraints=None,\n",
       "                                     n_estimators=100, n_jobs=None,\n",
       "                                     num_parallel_tree=None, random_state=42,\n",
       "                                     reg_alpha=None, reg_lambda=None,\n",
       "                                     scale_pos_weight=None, subsample=None,\n",
       "                                     tree_method=None, validate_parameters=None,\n",
       "                                     verbosity=None),\n",
       "             n_jobs=-1,\n",
       "             param_grid={'gamma': [0, 1, 5], 'learning_rate': [0.1],\n",
       "                         'max_depth': [5, 10, 15], 'n_estimators': [100, 150]})"
      ]
     },
     "execution_count": 87,
     "metadata": {},
     "output_type": "execute_result"
    }
   ],
   "source": [
    "param_grid = {'n_estimators': [100, 150],\n",
    "              'max_depth': [5,10,15],\n",
    "              'gamma': [0,1,5],\n",
    "              'learning_rate': [0.1]}\n",
    "\n",
    "model_xgb1 = xgb.XGBClassifier(random_state=42)\n",
    "grid = GridSearchCV(model_xgb1, param_grid, n_jobs=-1, cv=10)\n",
    "grid.fit(X_train, y_train)"
   ]
  },
  {
   "cell_type": "code",
   "execution_count": 88,
   "metadata": {},
   "outputs": [
    {
     "name": "stdout",
     "output_type": "stream",
     "text": [
      "Best parameters found by grid search are: {'gamma': 5, 'learning_rate': 0.1, 'max_depth': 15, 'n_estimators': 150}\n"
     ]
    }
   ],
   "source": [
    "print('Best parameters found by grid search are:', grid.best_params_)"
   ]
  },
  {
   "cell_type": "code",
   "execution_count": 89,
   "metadata": {},
   "outputs": [
    {
     "name": "stdout",
     "output_type": "stream",
     "text": [
      "[[14246   327]\n",
      " [  692 10711]]\n"
     ]
    }
   ],
   "source": [
    "y_pred = grid.predict(X_test)\n",
    "conf_matrix = confusion_matrix(y_test, y_pred)\n",
    "print(conf_matrix)"
   ]
  },
  {
   "cell_type": "code",
   "execution_count": 90,
   "metadata": {},
   "outputs": [
    {
     "name": "stdout",
     "output_type": "stream",
     "text": [
      "True Negative:  14246\n",
      "False Positive:  327\n",
      "False Negative:  692\n",
      "True Positive:  10711\n"
     ]
    }
   ],
   "source": [
    "tn = conf_matrix[0][0]\n",
    "fp = conf_matrix[0][1]\n",
    "fn = conf_matrix[1][0]\n",
    "tp = conf_matrix[1][1]\n",
    "\n",
    "print(\"True Negative: \", tn)\n",
    "print(\"False Positive: \", fp)\n",
    "print(\"False Negative: \", fn)\n",
    "print(\"True Positive: \", tp)"
   ]
  },
  {
   "cell_type": "code",
   "execution_count": 91,
   "metadata": {},
   "outputs": [
    {
     "name": "stdout",
     "output_type": "stream",
     "text": [
      "Accuracy: 0.9607714813674161\n",
      "Precision: 0.9703750679470918\n",
      "Recall: 0.9393142155573094\n",
      "F-measure: 0.9545920413528808\n"
     ]
    }
   ],
   "source": [
    "accuracy = accuracy_score(y_test, y_pred)\n",
    "precision = metrics.precision_score(y_test, y_pred)\n",
    "recall = metrics.recall_score(y_test, y_pred)\n",
    "fmeasure = metrics.f1_score(y_test, y_pred)\n",
    "\n",
    "print(\"Accuracy:\", accuracy)\n",
    "print(\"Precision:\", precision)\n",
    "print(\"Recall:\", recall)\n",
    "print(\"F-measure:\", fmeasure)"
   ]
  },
  {
   "cell_type": "code",
   "execution_count": 92,
   "metadata": {},
   "outputs": [
    {
     "name": "stdout",
     "output_type": "stream",
     "text": [
      "Train Error:  0.028738065906991017\n",
      "Test Error:  0.03922851863258392\n"
     ]
    }
   ],
   "source": [
    "# Predict X_train\n",
    "X_train_pred = grid.predict(X_train)\n",
    "\n",
    "# Accuracy against y_train\n",
    "train_accuracy = accuracy_score(y_train, X_train_pred)\n",
    "\n",
    "print(\"Train Error: \", 1 - train_accuracy)\n",
    "print(\"Test Error: \", 1 - accuracy)"
   ]
  },
  {
   "cell_type": "markdown",
   "metadata": {},
   "source": [
    "#### Key Takeaways\n",
    "<br>\n",
    "<div style=\"text-align: justify\">\n",
    "    The optimal value gamma found is 5. By increasing the value (default is 0), the algorithm will be more conservative and it reduces the likelihood of overfitting. By fine-tuning the hyperparameters, the accuracy of the model has increased from 95.8% to 96.1% as well as f-measure from 95.1% to 95.5%.\n",
    "</div>"
   ]
  },
  {
   "cell_type": "markdown",
   "metadata": {},
   "source": [
    "### 6.15 GradientBoost w/o GridSearchCV\n",
    "<br>\n",
    "<div style=\"text-align: justify\">\n",
    "Gradient boosting re-defines boosting as a numerical optimisation problem where its objective is to minimise the loss function of the model by adding weak learners using gradient descent. It is a stage-wise additive model that generates learners during the learning process whereby trees are added one at a time and existing trees are not changed (Mujtaba, 2020).\n",
    "</div>"
   ]
  },
  {
   "cell_type": "code",
   "execution_count": 93,
   "metadata": {},
   "outputs": [
    {
     "data": {
      "text/plain": [
       "GradientBoostingClassifier(random_state=42)"
      ]
     },
     "execution_count": 93,
     "metadata": {},
     "output_type": "execute_result"
    }
   ],
   "source": [
    "from sklearn.ensemble import GradientBoostingClassifier\n",
    "\n",
    "model_gb = GradientBoostingClassifier(random_state=42)\n",
    "model_gb.fit(X_train, y_train)"
   ]
  },
  {
   "cell_type": "code",
   "execution_count": 94,
   "metadata": {},
   "outputs": [
    {
     "name": "stdout",
     "output_type": "stream",
     "text": [
      "[[13845   728]\n",
      " [  993 10410]]\n"
     ]
    }
   ],
   "source": [
    "y_pred = model_gb.predict(X_test)\n",
    "conf_matrix = confusion_matrix(y_test, y_pred)\n",
    "print(conf_matrix)"
   ]
  },
  {
   "cell_type": "code",
   "execution_count": 95,
   "metadata": {},
   "outputs": [
    {
     "name": "stdout",
     "output_type": "stream",
     "text": [
      "True Negative:  13845\n",
      "False Positive:  728\n",
      "False Negative:  993\n",
      "True Positive:  10410\n"
     ]
    }
   ],
   "source": [
    "tn = conf_matrix[0][0]\n",
    "fp = conf_matrix[0][1]\n",
    "fn = conf_matrix[1][0]\n",
    "tp = conf_matrix[1][1]\n",
    "\n",
    "print(\"True Negative: \", tn)\n",
    "print(\"False Positive: \", fp)\n",
    "print(\"False Negative: \", fn)\n",
    "print(\"True Positive: \", tp)"
   ]
  },
  {
   "cell_type": "code",
   "execution_count": 96,
   "metadata": {},
   "outputs": [
    {
     "name": "stdout",
     "output_type": "stream",
     "text": [
      "Accuracy: 0.93374653526332\n",
      "Precision: 0.9346381756150117\n",
      "Recall: 0.912917653249145\n",
      "F-measure: 0.923650237345282\n"
     ]
    }
   ],
   "source": [
    "accuracy = accuracy_score(y_test, y_pred)\n",
    "precision = metrics.precision_score(y_test, y_pred)\n",
    "recall = metrics.recall_score(y_test, y_pred)\n",
    "fmeasure = metrics.f1_score(y_test, y_pred)\n",
    "\n",
    "print(\"Accuracy:\", accuracy)\n",
    "print(\"Precision:\", precision)\n",
    "print(\"Recall:\", recall)\n",
    "print(\"F-measure:\", fmeasure)"
   ]
  },
  {
   "cell_type": "markdown",
   "metadata": {},
   "source": [
    "### 6.16 GradientBoost with GridSearchCV\n",
    "\n",
    "Tuned Parameters: {'max_depth': 6, 'n_estimators': 500}"
   ]
  },
  {
   "cell_type": "code",
   "execution_count": 97,
   "metadata": {},
   "outputs": [
    {
     "data": {
      "text/plain": [
       "GridSearchCV(cv=10, estimator=GradientBoostingClassifier(random_state=42),\n",
       "             n_jobs=-1,\n",
       "             param_grid={'max_depth': [6, 8, 10], 'n_estimators': [450, 500]})"
      ]
     },
     "execution_count": 97,
     "metadata": {},
     "output_type": "execute_result"
    }
   ],
   "source": [
    "param_grid = {'n_estimators': [450,500], \n",
    "              'max_depth':[6,8,10]}\n",
    "\n",
    "model_gb1 = GradientBoostingClassifier(random_state=42)\n",
    "grid = GridSearchCV(model_gb1, param_grid, n_jobs=-1, cv=10)                  \n",
    "grid.fit(X_train, y_train)"
   ]
  },
  {
   "cell_type": "code",
   "execution_count": 98,
   "metadata": {},
   "outputs": [
    {
     "name": "stdout",
     "output_type": "stream",
     "text": [
      "Best parameters found by grid search are: {'max_depth': 6, 'n_estimators': 500}\n"
     ]
    }
   ],
   "source": [
    "print('Best parameters found by grid search are:', grid.best_params_)"
   ]
  },
  {
   "cell_type": "code",
   "execution_count": 99,
   "metadata": {},
   "outputs": [
    {
     "name": "stdout",
     "output_type": "stream",
     "text": [
      "[[14164   409]\n",
      " [  672 10731]]\n"
     ]
    }
   ],
   "source": [
    "y_pred = grid.predict(X_test)\n",
    "conf_matrix = confusion_matrix(y_test, y_pred)\n",
    "print(conf_matrix)"
   ]
  },
  {
   "cell_type": "code",
   "execution_count": 100,
   "metadata": {},
   "outputs": [
    {
     "name": "stdout",
     "output_type": "stream",
     "text": [
      "True Negative:  14164\n",
      "False Positive:  409\n",
      "False Negative:  672\n",
      "True Positive:  10731\n"
     ]
    }
   ],
   "source": [
    "tn = conf_matrix[0][0]\n",
    "fp = conf_matrix[0][1]\n",
    "fn = conf_matrix[1][0]\n",
    "tp = conf_matrix[1][1]\n",
    "\n",
    "print(\"True Negative: \", tn)\n",
    "print(\"False Positive: \", fp)\n",
    "print(\"False Negative: \", fn)\n",
    "print(\"True Positive: \", tp)"
   ]
  },
  {
   "cell_type": "code",
   "execution_count": 101,
   "metadata": {},
   "outputs": [
    {
     "name": "stdout",
     "output_type": "stream",
     "text": [
      "Accuracy: 0.9583846627656298\n",
      "Precision: 0.9632854578096948\n",
      "Recall: 0.9410681399631676\n",
      "F-measure: 0.9520471986869539\n"
     ]
    }
   ],
   "source": [
    "accuracy = accuracy_score(y_test, y_pred)\n",
    "precision = metrics.precision_score(y_test, y_pred)\n",
    "recall = metrics.recall_score(y_test, y_pred)\n",
    "fmeasure = metrics.f1_score(y_test, y_pred)\n",
    "\n",
    "print(\"Accuracy:\", accuracy)\n",
    "print(\"Precision:\", precision)\n",
    "print(\"Recall:\", recall)\n",
    "print(\"F-measure:\", fmeasure)"
   ]
  },
  {
   "cell_type": "markdown",
   "metadata": {},
   "source": [
    "#### Key Takeaways\n",
    "<br>\n",
    "<div style=\"text-align: justify\">\n",
    "    The parameters of GradientBoost with GridSearchCV are predefined as 'n_estimators': [450,500] and 'max_depth': [6,8,10]. After fine-tuning the hyperparameters, it is noted that a n_estimators of 500 and max_depth of 6 would provide the optimal results without decreasing the performance of the model. <br><br>\n",
    "    Moreover, upon trying out other values of n_estimators (more than 500) and max_depth (more than 10), these parameters did not perform well as compared to the optimal parameters mentioned previously.\n",
    "</div>"
   ]
  },
  {
   "cell_type": "markdown",
   "metadata": {},
   "source": [
    "### 6.17 CatBoost w/o GridSearchCV\n",
    "<br>\n",
    "<div style=\"text-align: justify\">\n",
    "CatBoost is an algorithm that uses gradient boosting on decision trees. Instead of converting each categorical value into binary values, CatBoost applies an efficient encoding method that leads to an improvement in quality of the models by reducing overfitting (Eitle and Buxmann, 2019). It is ideally suited for applications with large amount of categorical data. In comparison to other machine learning methods, CatBoost does not require extensive data training, is robust as it does not need extensive hyper-parameter tuning and reduce the chances of overfitting (Ray, 2017).\n",
    "</div>"
   ]
  },
  {
   "cell_type": "code",
   "execution_count": 102,
   "metadata": {},
   "outputs": [
    {
     "name": "stdout",
     "output_type": "stream",
     "text": [
      "Learning rate set to 0.074823\n",
      "0:\tlearn: 0.5634325\ttotal: 112ms\tremaining: 1m 52s\n",
      "1:\tlearn: 0.4966481\ttotal: 143ms\tremaining: 1m 11s\n",
      "2:\tlearn: 0.4294736\ttotal: 160ms\tremaining: 53.1s\n",
      "3:\tlearn: 0.3893393\ttotal: 178ms\tremaining: 44.4s\n",
      "4:\tlearn: 0.3606726\ttotal: 198ms\tremaining: 39.3s\n",
      "5:\tlearn: 0.3356531\ttotal: 214ms\tremaining: 35.5s\n",
      "6:\tlearn: 0.3142600\ttotal: 254ms\tremaining: 36s\n",
      "7:\tlearn: 0.2970195\ttotal: 273ms\tremaining: 33.9s\n",
      "8:\tlearn: 0.2825469\ttotal: 292ms\tremaining: 32.1s\n",
      "9:\tlearn: 0.2720296\ttotal: 308ms\tremaining: 30.5s\n",
      "10:\tlearn: 0.2625067\ttotal: 324ms\tremaining: 29.1s\n",
      "11:\tlearn: 0.2501596\ttotal: 341ms\tremaining: 28.1s\n",
      "12:\tlearn: 0.2385033\ttotal: 360ms\tremaining: 27.4s\n",
      "13:\tlearn: 0.2315154\ttotal: 379ms\tremaining: 26.7s\n",
      "14:\tlearn: 0.2246179\ttotal: 396ms\tremaining: 26s\n",
      "15:\tlearn: 0.2197732\ttotal: 415ms\tremaining: 25.5s\n",
      "16:\tlearn: 0.2150821\ttotal: 434ms\tremaining: 25.1s\n",
      "17:\tlearn: 0.2088822\ttotal: 452ms\tremaining: 24.7s\n",
      "18:\tlearn: 0.2061740\ttotal: 470ms\tremaining: 24.3s\n",
      "19:\tlearn: 0.2034316\ttotal: 486ms\tremaining: 23.8s\n",
      "20:\tlearn: 0.2002666\ttotal: 510ms\tremaining: 23.8s\n",
      "21:\tlearn: 0.1979326\ttotal: 528ms\tremaining: 23.5s\n",
      "22:\tlearn: 0.1951200\ttotal: 547ms\tremaining: 23.2s\n",
      "23:\tlearn: 0.1919666\ttotal: 565ms\tremaining: 23s\n",
      "24:\tlearn: 0.1899624\ttotal: 588ms\tremaining: 22.9s\n",
      "25:\tlearn: 0.1869898\ttotal: 606ms\tremaining: 22.7s\n",
      "26:\tlearn: 0.1849570\ttotal: 627ms\tremaining: 22.6s\n",
      "27:\tlearn: 0.1830760\ttotal: 645ms\tremaining: 22.4s\n",
      "28:\tlearn: 0.1816243\ttotal: 662ms\tremaining: 22.2s\n",
      "29:\tlearn: 0.1797410\ttotal: 683ms\tremaining: 22.1s\n",
      "30:\tlearn: 0.1785058\ttotal: 702ms\tremaining: 21.9s\n",
      "31:\tlearn: 0.1767323\ttotal: 724ms\tremaining: 21.9s\n",
      "32:\tlearn: 0.1741122\ttotal: 741ms\tremaining: 21.7s\n",
      "33:\tlearn: 0.1721687\ttotal: 762ms\tremaining: 21.6s\n",
      "34:\tlearn: 0.1708177\ttotal: 779ms\tremaining: 21.5s\n",
      "35:\tlearn: 0.1683860\ttotal: 798ms\tremaining: 21.4s\n",
      "36:\tlearn: 0.1671455\ttotal: 819ms\tremaining: 21.3s\n",
      "37:\tlearn: 0.1655961\ttotal: 838ms\tremaining: 21.2s\n",
      "38:\tlearn: 0.1644723\ttotal: 858ms\tremaining: 21.2s\n",
      "39:\tlearn: 0.1636897\ttotal: 878ms\tremaining: 21.1s\n",
      "40:\tlearn: 0.1629296\ttotal: 906ms\tremaining: 21.2s\n",
      "41:\tlearn: 0.1618446\ttotal: 945ms\tremaining: 21.5s\n",
      "42:\tlearn: 0.1606960\ttotal: 964ms\tremaining: 21.4s\n",
      "43:\tlearn: 0.1602595\ttotal: 979ms\tremaining: 21.3s\n",
      "44:\tlearn: 0.1587536\ttotal: 997ms\tremaining: 21.2s\n",
      "45:\tlearn: 0.1580407\ttotal: 1.02s\tremaining: 21.1s\n",
      "46:\tlearn: 0.1572000\ttotal: 1.03s\tremaining: 21s\n",
      "47:\tlearn: 0.1567314\ttotal: 1.05s\tremaining: 20.9s\n",
      "48:\tlearn: 0.1555991\ttotal: 1.09s\tremaining: 21.1s\n",
      "49:\tlearn: 0.1552865\ttotal: 1.11s\tremaining: 21.2s\n",
      "50:\tlearn: 0.1545953\ttotal: 1.15s\tremaining: 21.3s\n",
      "51:\tlearn: 0.1536713\ttotal: 1.17s\tremaining: 21.4s\n",
      "52:\tlearn: 0.1527397\ttotal: 1.19s\tremaining: 21.3s\n",
      "53:\tlearn: 0.1518983\ttotal: 1.23s\tremaining: 21.6s\n",
      "54:\tlearn: 0.1508870\ttotal: 1.28s\tremaining: 22.1s\n",
      "55:\tlearn: 0.1501418\ttotal: 1.32s\tremaining: 22.3s\n",
      "56:\tlearn: 0.1497327\ttotal: 1.34s\tremaining: 22.2s\n",
      "57:\tlearn: 0.1494494\ttotal: 1.36s\tremaining: 22.2s\n",
      "58:\tlearn: 0.1488508\ttotal: 1.38s\tremaining: 22s\n",
      "59:\tlearn: 0.1481641\ttotal: 1.41s\tremaining: 22.1s\n",
      "60:\tlearn: 0.1473187\ttotal: 1.43s\tremaining: 22s\n",
      "61:\tlearn: 0.1468174\ttotal: 1.46s\tremaining: 22s\n",
      "62:\tlearn: 0.1462118\ttotal: 1.47s\tremaining: 21.9s\n",
      "63:\tlearn: 0.1444733\ttotal: 1.5s\tremaining: 21.9s\n",
      "64:\tlearn: 0.1439047\ttotal: 1.52s\tremaining: 21.9s\n",
      "65:\tlearn: 0.1431971\ttotal: 1.54s\tremaining: 21.8s\n",
      "66:\tlearn: 0.1426922\ttotal: 1.57s\tremaining: 21.9s\n",
      "67:\tlearn: 0.1421628\ttotal: 1.61s\tremaining: 22s\n",
      "68:\tlearn: 0.1417875\ttotal: 1.63s\tremaining: 22s\n",
      "69:\tlearn: 0.1415415\ttotal: 1.66s\tremaining: 22s\n",
      "70:\tlearn: 0.1412261\ttotal: 1.67s\tremaining: 21.9s\n",
      "71:\tlearn: 0.1405333\ttotal: 1.69s\tremaining: 21.8s\n",
      "72:\tlearn: 0.1401427\ttotal: 1.71s\tremaining: 21.8s\n",
      "73:\tlearn: 0.1395813\ttotal: 1.74s\tremaining: 21.8s\n",
      "74:\tlearn: 0.1391562\ttotal: 1.76s\tremaining: 21.8s\n",
      "75:\tlearn: 0.1388198\ttotal: 1.78s\tremaining: 21.7s\n",
      "76:\tlearn: 0.1384516\ttotal: 1.82s\tremaining: 21.8s\n",
      "77:\tlearn: 0.1381777\ttotal: 1.84s\tremaining: 21.7s\n",
      "78:\tlearn: 0.1375555\ttotal: 1.86s\tremaining: 21.7s\n",
      "79:\tlearn: 0.1372117\ttotal: 1.88s\tremaining: 21.6s\n",
      "80:\tlearn: 0.1366540\ttotal: 1.9s\tremaining: 21.6s\n",
      "81:\tlearn: 0.1357772\ttotal: 1.92s\tremaining: 21.5s\n",
      "82:\tlearn: 0.1352993\ttotal: 1.94s\tremaining: 21.4s\n",
      "83:\tlearn: 0.1347985\ttotal: 1.96s\tremaining: 21.3s\n",
      "84:\tlearn: 0.1345745\ttotal: 1.97s\tremaining: 21.3s\n",
      "85:\tlearn: 0.1339881\ttotal: 1.99s\tremaining: 21.2s\n",
      "86:\tlearn: 0.1335784\ttotal: 2.01s\tremaining: 21.1s\n",
      "87:\tlearn: 0.1329862\ttotal: 2.04s\tremaining: 21.1s\n",
      "88:\tlearn: 0.1325342\ttotal: 2.06s\tremaining: 21.1s\n",
      "89:\tlearn: 0.1323313\ttotal: 2.08s\tremaining: 21s\n",
      "90:\tlearn: 0.1320869\ttotal: 2.1s\tremaining: 21s\n",
      "91:\tlearn: 0.1316196\ttotal: 2.14s\tremaining: 21.1s\n",
      "92:\tlearn: 0.1309518\ttotal: 2.17s\tremaining: 21.2s\n",
      "93:\tlearn: 0.1305304\ttotal: 2.19s\tremaining: 21.2s\n",
      "94:\tlearn: 0.1302807\ttotal: 2.22s\tremaining: 21.2s\n",
      "95:\tlearn: 0.1300105\ttotal: 2.25s\tremaining: 21.2s\n",
      "96:\tlearn: 0.1296395\ttotal: 2.28s\tremaining: 21.2s\n",
      "97:\tlearn: 0.1293272\ttotal: 2.31s\tremaining: 21.3s\n",
      "98:\tlearn: 0.1289592\ttotal: 2.34s\tremaining: 21.3s\n",
      "99:\tlearn: 0.1287863\ttotal: 2.37s\tremaining: 21.4s\n",
      "100:\tlearn: 0.1282287\ttotal: 2.41s\tremaining: 21.5s\n",
      "101:\tlearn: 0.1280630\ttotal: 2.44s\tremaining: 21.5s\n",
      "102:\tlearn: 0.1276936\ttotal: 2.5s\tremaining: 21.7s\n",
      "103:\tlearn: 0.1274684\ttotal: 2.54s\tremaining: 21.9s\n",
      "104:\tlearn: 0.1272931\ttotal: 2.58s\tremaining: 22s\n",
      "105:\tlearn: 0.1270532\ttotal: 2.62s\tremaining: 22.1s\n",
      "106:\tlearn: 0.1268855\ttotal: 2.65s\tremaining: 22.1s\n",
      "107:\tlearn: 0.1263669\ttotal: 2.69s\tremaining: 22.3s\n",
      "108:\tlearn: 0.1258989\ttotal: 2.73s\tremaining: 22.3s\n",
      "109:\tlearn: 0.1256862\ttotal: 2.76s\tremaining: 22.4s\n",
      "110:\tlearn: 0.1255503\ttotal: 2.8s\tremaining: 22.5s\n",
      "111:\tlearn: 0.1254042\ttotal: 2.84s\tremaining: 22.5s\n",
      "112:\tlearn: 0.1250252\ttotal: 2.9s\tremaining: 22.7s\n",
      "113:\tlearn: 0.1244699\ttotal: 2.94s\tremaining: 22.8s\n",
      "114:\tlearn: 0.1241769\ttotal: 2.99s\tremaining: 23s\n",
      "115:\tlearn: 0.1240918\ttotal: 3.04s\tremaining: 23.2s\n",
      "116:\tlearn: 0.1237162\ttotal: 3.09s\tremaining: 23.3s\n",
      "117:\tlearn: 0.1233753\ttotal: 3.14s\tremaining: 23.5s\n",
      "118:\tlearn: 0.1231979\ttotal: 3.2s\tremaining: 23.7s\n",
      "119:\tlearn: 0.1229701\ttotal: 3.26s\tremaining: 23.9s\n",
      "120:\tlearn: 0.1226388\ttotal: 3.32s\tremaining: 24.1s\n",
      "121:\tlearn: 0.1224202\ttotal: 3.37s\tremaining: 24.3s\n",
      "122:\tlearn: 0.1221965\ttotal: 3.41s\tremaining: 24.3s\n",
      "123:\tlearn: 0.1220846\ttotal: 3.45s\tremaining: 24.4s\n",
      "124:\tlearn: 0.1218100\ttotal: 3.5s\tremaining: 24.5s\n",
      "125:\tlearn: 0.1215998\ttotal: 3.56s\tremaining: 24.7s\n",
      "126:\tlearn: 0.1213582\ttotal: 3.61s\tremaining: 24.8s\n",
      "127:\tlearn: 0.1211418\ttotal: 3.65s\tremaining: 24.9s\n",
      "128:\tlearn: 0.1208938\ttotal: 3.7s\tremaining: 25s\n",
      "129:\tlearn: 0.1206641\ttotal: 3.76s\tremaining: 25.1s\n",
      "130:\tlearn: 0.1204685\ttotal: 3.81s\tremaining: 25.3s\n",
      "131:\tlearn: 0.1202103\ttotal: 3.87s\tremaining: 25.4s\n",
      "132:\tlearn: 0.1200878\ttotal: 3.91s\tremaining: 25.5s\n",
      "133:\tlearn: 0.1199349\ttotal: 3.97s\tremaining: 25.6s\n",
      "134:\tlearn: 0.1197817\ttotal: 4.02s\tremaining: 25.8s\n",
      "135:\tlearn: 0.1195975\ttotal: 4.07s\tremaining: 25.8s\n",
      "136:\tlearn: 0.1193633\ttotal: 4.12s\tremaining: 25.9s\n",
      "137:\tlearn: 0.1191541\ttotal: 4.17s\tremaining: 26s\n",
      "138:\tlearn: 0.1191146\ttotal: 4.22s\tremaining: 26.1s\n",
      "139:\tlearn: 0.1185868\ttotal: 4.28s\tremaining: 26.3s\n",
      "140:\tlearn: 0.1183885\ttotal: 4.33s\tremaining: 26.4s\n",
      "141:\tlearn: 0.1181199\ttotal: 4.4s\tremaining: 26.6s\n",
      "142:\tlearn: 0.1179218\ttotal: 4.45s\tremaining: 26.7s\n",
      "143:\tlearn: 0.1178020\ttotal: 4.51s\tremaining: 26.8s\n",
      "144:\tlearn: 0.1175505\ttotal: 4.57s\tremaining: 26.9s\n",
      "145:\tlearn: 0.1173003\ttotal: 4.62s\tremaining: 27s\n",
      "146:\tlearn: 0.1172004\ttotal: 4.66s\tremaining: 27.1s\n",
      "147:\tlearn: 0.1169837\ttotal: 4.71s\tremaining: 27.1s\n",
      "148:\tlearn: 0.1167602\ttotal: 4.76s\tremaining: 27.2s\n",
      "149:\tlearn: 0.1165630\ttotal: 4.82s\tremaining: 27.3s\n",
      "150:\tlearn: 0.1164377\ttotal: 4.88s\tremaining: 27.4s\n",
      "151:\tlearn: 0.1163411\ttotal: 4.93s\tremaining: 27.5s\n",
      "152:\tlearn: 0.1161184\ttotal: 4.98s\tremaining: 27.6s\n",
      "153:\tlearn: 0.1160063\ttotal: 5.02s\tremaining: 27.6s\n",
      "154:\tlearn: 0.1157692\ttotal: 5.07s\tremaining: 27.7s\n",
      "155:\tlearn: 0.1156383\ttotal: 5.13s\tremaining: 27.7s\n",
      "156:\tlearn: 0.1155809\ttotal: 5.19s\tremaining: 27.9s\n",
      "157:\tlearn: 0.1152623\ttotal: 5.25s\tremaining: 28s\n",
      "158:\tlearn: 0.1151433\ttotal: 5.31s\tremaining: 28.1s\n",
      "159:\tlearn: 0.1149436\ttotal: 5.37s\tremaining: 28.2s\n"
     ]
    },
    {
     "name": "stdout",
     "output_type": "stream",
     "text": [
      "160:\tlearn: 0.1147543\ttotal: 5.42s\tremaining: 28.2s\n",
      "161:\tlearn: 0.1144618\ttotal: 5.47s\tremaining: 28.3s\n",
      "162:\tlearn: 0.1143068\ttotal: 5.53s\tremaining: 28.4s\n",
      "163:\tlearn: 0.1142045\ttotal: 5.58s\tremaining: 28.4s\n",
      "164:\tlearn: 0.1139196\ttotal: 5.63s\tremaining: 28.5s\n",
      "165:\tlearn: 0.1138155\ttotal: 5.67s\tremaining: 28.5s\n",
      "166:\tlearn: 0.1136544\ttotal: 5.71s\tremaining: 28.5s\n",
      "167:\tlearn: 0.1134474\ttotal: 5.75s\tremaining: 28.5s\n",
      "168:\tlearn: 0.1132482\ttotal: 5.8s\tremaining: 28.5s\n",
      "169:\tlearn: 0.1131022\ttotal: 5.85s\tremaining: 28.6s\n",
      "170:\tlearn: 0.1129164\ttotal: 5.9s\tremaining: 28.6s\n",
      "171:\tlearn: 0.1126949\ttotal: 5.96s\tremaining: 28.7s\n",
      "172:\tlearn: 0.1124791\ttotal: 6.01s\tremaining: 28.7s\n",
      "173:\tlearn: 0.1122998\ttotal: 6.05s\tremaining: 28.7s\n",
      "174:\tlearn: 0.1121457\ttotal: 6.09s\tremaining: 28.7s\n",
      "175:\tlearn: 0.1120658\ttotal: 6.13s\tremaining: 28.7s\n",
      "176:\tlearn: 0.1119511\ttotal: 6.18s\tremaining: 28.7s\n",
      "177:\tlearn: 0.1118430\ttotal: 6.23s\tremaining: 28.8s\n",
      "178:\tlearn: 0.1117604\ttotal: 6.27s\tremaining: 28.8s\n",
      "179:\tlearn: 0.1116419\ttotal: 6.32s\tremaining: 28.8s\n",
      "180:\tlearn: 0.1115160\ttotal: 6.37s\tremaining: 28.8s\n",
      "181:\tlearn: 0.1112852\ttotal: 6.41s\tremaining: 28.8s\n",
      "182:\tlearn: 0.1111747\ttotal: 6.45s\tremaining: 28.8s\n",
      "183:\tlearn: 0.1110184\ttotal: 6.49s\tremaining: 28.8s\n",
      "184:\tlearn: 0.1108294\ttotal: 6.54s\tremaining: 28.8s\n",
      "185:\tlearn: 0.1107236\ttotal: 6.58s\tremaining: 28.8s\n",
      "186:\tlearn: 0.1105970\ttotal: 6.63s\tremaining: 28.8s\n",
      "187:\tlearn: 0.1104317\ttotal: 6.67s\tremaining: 28.8s\n",
      "188:\tlearn: 0.1102654\ttotal: 6.71s\tremaining: 28.8s\n",
      "189:\tlearn: 0.1101694\ttotal: 6.75s\tremaining: 28.8s\n",
      "190:\tlearn: 0.1100453\ttotal: 6.79s\tremaining: 28.8s\n",
      "191:\tlearn: 0.1098954\ttotal: 6.84s\tremaining: 28.8s\n",
      "192:\tlearn: 0.1097451\ttotal: 6.88s\tremaining: 28.8s\n",
      "193:\tlearn: 0.1096653\ttotal: 6.92s\tremaining: 28.8s\n",
      "194:\tlearn: 0.1095523\ttotal: 6.96s\tremaining: 28.8s\n",
      "195:\tlearn: 0.1093654\ttotal: 7s\tremaining: 28.7s\n",
      "196:\tlearn: 0.1092677\ttotal: 7.05s\tremaining: 28.7s\n",
      "197:\tlearn: 0.1091691\ttotal: 7.09s\tremaining: 28.7s\n",
      "198:\tlearn: 0.1090379\ttotal: 7.13s\tremaining: 28.7s\n",
      "199:\tlearn: 0.1089270\ttotal: 7.18s\tremaining: 28.7s\n",
      "200:\tlearn: 0.1088608\ttotal: 7.22s\tremaining: 28.7s\n",
      "201:\tlearn: 0.1088156\ttotal: 7.27s\tremaining: 28.7s\n",
      "202:\tlearn: 0.1087132\ttotal: 7.31s\tremaining: 28.7s\n",
      "203:\tlearn: 0.1085781\ttotal: 7.36s\tremaining: 28.7s\n",
      "204:\tlearn: 0.1083709\ttotal: 7.4s\tremaining: 28.7s\n",
      "205:\tlearn: 0.1082544\ttotal: 7.44s\tremaining: 28.7s\n",
      "206:\tlearn: 0.1081489\ttotal: 7.49s\tremaining: 28.7s\n",
      "207:\tlearn: 0.1080784\ttotal: 7.53s\tremaining: 28.7s\n",
      "208:\tlearn: 0.1079788\ttotal: 7.58s\tremaining: 28.7s\n",
      "209:\tlearn: 0.1079006\ttotal: 7.62s\tremaining: 28.7s\n",
      "210:\tlearn: 0.1078648\ttotal: 7.66s\tremaining: 28.7s\n",
      "211:\tlearn: 0.1077506\ttotal: 7.71s\tremaining: 28.6s\n",
      "212:\tlearn: 0.1076209\ttotal: 7.75s\tremaining: 28.6s\n",
      "213:\tlearn: 0.1074673\ttotal: 7.79s\tremaining: 28.6s\n",
      "214:\tlearn: 0.1072866\ttotal: 7.84s\tremaining: 28.6s\n",
      "215:\tlearn: 0.1071738\ttotal: 7.89s\tremaining: 28.6s\n",
      "216:\tlearn: 0.1071047\ttotal: 7.93s\tremaining: 28.6s\n",
      "217:\tlearn: 0.1069418\ttotal: 7.97s\tremaining: 28.6s\n",
      "218:\tlearn: 0.1068883\ttotal: 8s\tremaining: 28.5s\n",
      "219:\tlearn: 0.1067900\ttotal: 8.04s\tremaining: 28.5s\n",
      "220:\tlearn: 0.1065845\ttotal: 8.08s\tremaining: 28.5s\n",
      "221:\tlearn: 0.1065118\ttotal: 8.12s\tremaining: 28.4s\n",
      "222:\tlearn: 0.1063563\ttotal: 8.15s\tremaining: 28.4s\n",
      "223:\tlearn: 0.1062942\ttotal: 8.19s\tremaining: 28.4s\n",
      "224:\tlearn: 0.1062070\ttotal: 8.23s\tremaining: 28.4s\n",
      "225:\tlearn: 0.1060863\ttotal: 8.28s\tremaining: 28.4s\n",
      "226:\tlearn: 0.1059916\ttotal: 8.32s\tremaining: 28.3s\n",
      "227:\tlearn: 0.1059135\ttotal: 8.35s\tremaining: 28.3s\n",
      "228:\tlearn: 0.1057944\ttotal: 8.39s\tremaining: 28.2s\n",
      "229:\tlearn: 0.1056571\ttotal: 8.42s\tremaining: 28.2s\n",
      "230:\tlearn: 0.1055272\ttotal: 8.47s\tremaining: 28.2s\n",
      "231:\tlearn: 0.1054176\ttotal: 8.51s\tremaining: 28.2s\n",
      "232:\tlearn: 0.1053286\ttotal: 8.55s\tremaining: 28.2s\n",
      "233:\tlearn: 0.1051923\ttotal: 8.6s\tremaining: 28.1s\n",
      "234:\tlearn: 0.1050975\ttotal: 8.64s\tremaining: 28.1s\n",
      "235:\tlearn: 0.1050192\ttotal: 8.68s\tremaining: 28.1s\n",
      "236:\tlearn: 0.1049058\ttotal: 8.72s\tremaining: 28.1s\n",
      "237:\tlearn: 0.1048464\ttotal: 8.76s\tremaining: 28.1s\n",
      "238:\tlearn: 0.1047622\ttotal: 8.8s\tremaining: 28s\n",
      "239:\tlearn: 0.1046979\ttotal: 8.84s\tremaining: 28s\n",
      "240:\tlearn: 0.1045780\ttotal: 8.88s\tremaining: 28s\n",
      "241:\tlearn: 0.1044757\ttotal: 8.91s\tremaining: 27.9s\n",
      "242:\tlearn: 0.1042933\ttotal: 8.95s\tremaining: 27.9s\n",
      "243:\tlearn: 0.1040516\ttotal: 8.99s\tremaining: 27.8s\n",
      "244:\tlearn: 0.1039886\ttotal: 9.02s\tremaining: 27.8s\n",
      "245:\tlearn: 0.1038214\ttotal: 9.06s\tremaining: 27.8s\n",
      "246:\tlearn: 0.1037484\ttotal: 9.1s\tremaining: 27.7s\n",
      "247:\tlearn: 0.1036572\ttotal: 9.14s\tremaining: 27.7s\n",
      "248:\tlearn: 0.1035884\ttotal: 9.19s\tremaining: 27.7s\n",
      "249:\tlearn: 0.1033539\ttotal: 9.23s\tremaining: 27.7s\n",
      "250:\tlearn: 0.1033128\ttotal: 9.27s\tremaining: 27.7s\n",
      "251:\tlearn: 0.1032439\ttotal: 9.3s\tremaining: 27.6s\n",
      "252:\tlearn: 0.1030285\ttotal: 9.34s\tremaining: 27.6s\n",
      "253:\tlearn: 0.1029213\ttotal: 9.38s\tremaining: 27.5s\n",
      "254:\tlearn: 0.1028674\ttotal: 9.42s\tremaining: 27.5s\n",
      "255:\tlearn: 0.1027159\ttotal: 9.47s\tremaining: 27.5s\n",
      "256:\tlearn: 0.1026530\ttotal: 9.51s\tremaining: 27.5s\n",
      "257:\tlearn: 0.1026065\ttotal: 9.55s\tremaining: 27.5s\n",
      "258:\tlearn: 0.1024766\ttotal: 9.6s\tremaining: 27.5s\n",
      "259:\tlearn: 0.1023929\ttotal: 9.63s\tremaining: 27.4s\n",
      "260:\tlearn: 0.1023348\ttotal: 9.67s\tremaining: 27.4s\n",
      "261:\tlearn: 0.1022081\ttotal: 9.71s\tremaining: 27.4s\n",
      "262:\tlearn: 0.1021100\ttotal: 9.75s\tremaining: 27.3s\n",
      "263:\tlearn: 0.1020368\ttotal: 9.78s\tremaining: 27.3s\n",
      "264:\tlearn: 0.1019548\ttotal: 9.82s\tremaining: 27.2s\n",
      "265:\tlearn: 0.1019242\ttotal: 9.85s\tremaining: 27.2s\n",
      "266:\tlearn: 0.1018275\ttotal: 9.89s\tremaining: 27.2s\n",
      "267:\tlearn: 0.1017025\ttotal: 9.93s\tremaining: 27.1s\n",
      "268:\tlearn: 0.1015919\ttotal: 9.96s\tremaining: 27.1s\n",
      "269:\tlearn: 0.1015148\ttotal: 10s\tremaining: 27s\n",
      "270:\tlearn: 0.1014850\ttotal: 10s\tremaining: 27s\n",
      "271:\tlearn: 0.1014245\ttotal: 10.1s\tremaining: 26.9s\n",
      "272:\tlearn: 0.1013866\ttotal: 10.1s\tremaining: 26.9s\n",
      "273:\tlearn: 0.1013054\ttotal: 10.2s\tremaining: 26.9s\n",
      "274:\tlearn: 0.1012071\ttotal: 10.2s\tremaining: 26.9s\n",
      "275:\tlearn: 0.1011683\ttotal: 10.3s\tremaining: 26.9s\n",
      "276:\tlearn: 0.1010896\ttotal: 10.3s\tremaining: 26.9s\n",
      "277:\tlearn: 0.1010381\ttotal: 10.4s\tremaining: 26.9s\n",
      "278:\tlearn: 0.1009828\ttotal: 10.4s\tremaining: 26.9s\n",
      "279:\tlearn: 0.1009321\ttotal: 10.5s\tremaining: 26.9s\n",
      "280:\tlearn: 0.1008756\ttotal: 10.5s\tremaining: 26.9s\n",
      "281:\tlearn: 0.1008197\ttotal: 10.5s\tremaining: 26.8s\n",
      "282:\tlearn: 0.1007379\ttotal: 10.6s\tremaining: 26.8s\n",
      "283:\tlearn: 0.1006452\ttotal: 10.6s\tremaining: 26.8s\n",
      "284:\tlearn: 0.1006019\ttotal: 10.6s\tremaining: 26.7s\n",
      "285:\tlearn: 0.1004909\ttotal: 10.7s\tremaining: 26.7s\n",
      "286:\tlearn: 0.1003861\ttotal: 10.7s\tremaining: 26.7s\n",
      "287:\tlearn: 0.1002823\ttotal: 10.8s\tremaining: 26.7s\n",
      "288:\tlearn: 0.1002444\ttotal: 10.8s\tremaining: 26.6s\n",
      "289:\tlearn: 0.1000827\ttotal: 10.9s\tremaining: 26.6s\n",
      "290:\tlearn: 0.1000003\ttotal: 10.9s\tremaining: 26.6s\n",
      "291:\tlearn: 0.0999221\ttotal: 10.9s\tremaining: 26.5s\n",
      "292:\tlearn: 0.0998459\ttotal: 11s\tremaining: 26.5s\n",
      "293:\tlearn: 0.0997562\ttotal: 11s\tremaining: 26.5s\n",
      "294:\tlearn: 0.0997038\ttotal: 11.1s\tremaining: 26.5s\n",
      "295:\tlearn: 0.0996052\ttotal: 11.2s\tremaining: 26.6s\n",
      "296:\tlearn: 0.0995392\ttotal: 11.2s\tremaining: 26.6s\n",
      "297:\tlearn: 0.0994858\ttotal: 11.3s\tremaining: 26.5s\n",
      "298:\tlearn: 0.0994172\ttotal: 11.3s\tremaining: 26.5s\n",
      "299:\tlearn: 0.0993533\ttotal: 11.4s\tremaining: 26.5s\n",
      "300:\tlearn: 0.0993059\ttotal: 11.4s\tremaining: 26.5s\n",
      "301:\tlearn: 0.0992083\ttotal: 11.4s\tremaining: 26.4s\n",
      "302:\tlearn: 0.0991405\ttotal: 11.5s\tremaining: 26.4s\n",
      "303:\tlearn: 0.0991092\ttotal: 11.5s\tremaining: 26.4s\n",
      "304:\tlearn: 0.0990518\ttotal: 11.6s\tremaining: 26.3s\n",
      "305:\tlearn: 0.0990326\ttotal: 11.6s\tremaining: 26.3s\n",
      "306:\tlearn: 0.0989231\ttotal: 11.6s\tremaining: 26.2s\n",
      "307:\tlearn: 0.0988503\ttotal: 11.7s\tremaining: 26.2s\n",
      "308:\tlearn: 0.0987908\ttotal: 11.7s\tremaining: 26.2s\n",
      "309:\tlearn: 0.0987650\ttotal: 11.7s\tremaining: 26.1s\n",
      "310:\tlearn: 0.0986894\ttotal: 11.8s\tremaining: 26.1s\n",
      "311:\tlearn: 0.0985224\ttotal: 11.8s\tremaining: 26.1s\n",
      "312:\tlearn: 0.0984454\ttotal: 11.9s\tremaining: 26.1s\n",
      "313:\tlearn: 0.0983792\ttotal: 11.9s\tremaining: 26.1s\n",
      "314:\tlearn: 0.0983362\ttotal: 12s\tremaining: 26.1s\n",
      "315:\tlearn: 0.0982873\ttotal: 12s\tremaining: 26s\n",
      "316:\tlearn: 0.0982426\ttotal: 12.1s\tremaining: 26s\n",
      "317:\tlearn: 0.0981991\ttotal: 12.1s\tremaining: 26s\n",
      "318:\tlearn: 0.0981522\ttotal: 12.2s\tremaining: 26s\n",
      "319:\tlearn: 0.0981034\ttotal: 12.2s\tremaining: 25.9s\n",
      "320:\tlearn: 0.0980262\ttotal: 12.3s\tremaining: 25.9s\n"
     ]
    },
    {
     "name": "stdout",
     "output_type": "stream",
     "text": [
      "321:\tlearn: 0.0979274\ttotal: 12.3s\tremaining: 25.9s\n",
      "322:\tlearn: 0.0978841\ttotal: 12.3s\tremaining: 25.9s\n",
      "323:\tlearn: 0.0978220\ttotal: 12.4s\tremaining: 25.8s\n",
      "324:\tlearn: 0.0977527\ttotal: 12.4s\tremaining: 25.8s\n",
      "325:\tlearn: 0.0976800\ttotal: 12.5s\tremaining: 25.8s\n",
      "326:\tlearn: 0.0976145\ttotal: 12.5s\tremaining: 25.7s\n",
      "327:\tlearn: 0.0975794\ttotal: 12.5s\tremaining: 25.7s\n",
      "328:\tlearn: 0.0975219\ttotal: 12.6s\tremaining: 25.7s\n",
      "329:\tlearn: 0.0974513\ttotal: 12.6s\tremaining: 25.6s\n",
      "330:\tlearn: 0.0973899\ttotal: 12.7s\tremaining: 25.6s\n",
      "331:\tlearn: 0.0973446\ttotal: 12.7s\tremaining: 25.6s\n",
      "332:\tlearn: 0.0973012\ttotal: 12.8s\tremaining: 25.6s\n",
      "333:\tlearn: 0.0972542\ttotal: 12.8s\tremaining: 25.5s\n",
      "334:\tlearn: 0.0972241\ttotal: 12.8s\tremaining: 25.5s\n",
      "335:\tlearn: 0.0971789\ttotal: 12.9s\tremaining: 25.5s\n",
      "336:\tlearn: 0.0971399\ttotal: 13s\tremaining: 25.5s\n",
      "337:\tlearn: 0.0970803\ttotal: 13s\tremaining: 25.5s\n",
      "338:\tlearn: 0.0970032\ttotal: 13s\tremaining: 25.4s\n",
      "339:\tlearn: 0.0969381\ttotal: 13.1s\tremaining: 25.4s\n",
      "340:\tlearn: 0.0968896\ttotal: 13.1s\tremaining: 25.4s\n",
      "341:\tlearn: 0.0967743\ttotal: 13.2s\tremaining: 25.3s\n",
      "342:\tlearn: 0.0967027\ttotal: 13.2s\tremaining: 25.3s\n",
      "343:\tlearn: 0.0966058\ttotal: 13.2s\tremaining: 25.2s\n",
      "344:\tlearn: 0.0965529\ttotal: 13.3s\tremaining: 25.2s\n",
      "345:\tlearn: 0.0964730\ttotal: 13.3s\tremaining: 25.2s\n",
      "346:\tlearn: 0.0964404\ttotal: 13.4s\tremaining: 25.1s\n",
      "347:\tlearn: 0.0963566\ttotal: 13.4s\tremaining: 25.1s\n",
      "348:\tlearn: 0.0962987\ttotal: 13.4s\tremaining: 25.1s\n",
      "349:\tlearn: 0.0962703\ttotal: 13.5s\tremaining: 25s\n",
      "350:\tlearn: 0.0961727\ttotal: 13.5s\tremaining: 25s\n",
      "351:\tlearn: 0.0961437\ttotal: 13.6s\tremaining: 25s\n",
      "352:\tlearn: 0.0960689\ttotal: 13.6s\tremaining: 24.9s\n",
      "353:\tlearn: 0.0960071\ttotal: 13.6s\tremaining: 24.9s\n",
      "354:\tlearn: 0.0959709\ttotal: 13.7s\tremaining: 24.9s\n",
      "355:\tlearn: 0.0959337\ttotal: 13.7s\tremaining: 24.8s\n",
      "356:\tlearn: 0.0958986\ttotal: 13.8s\tremaining: 24.8s\n",
      "357:\tlearn: 0.0958396\ttotal: 13.8s\tremaining: 24.7s\n",
      "358:\tlearn: 0.0957979\ttotal: 13.8s\tremaining: 24.7s\n",
      "359:\tlearn: 0.0957205\ttotal: 13.9s\tremaining: 24.7s\n",
      "360:\tlearn: 0.0956538\ttotal: 13.9s\tremaining: 24.6s\n",
      "361:\tlearn: 0.0955835\ttotal: 14s\tremaining: 24.6s\n",
      "362:\tlearn: 0.0955427\ttotal: 14s\tremaining: 24.6s\n",
      "363:\tlearn: 0.0955269\ttotal: 14s\tremaining: 24.5s\n",
      "364:\tlearn: 0.0955011\ttotal: 14.1s\tremaining: 24.5s\n",
      "365:\tlearn: 0.0954472\ttotal: 14.1s\tremaining: 24.5s\n",
      "366:\tlearn: 0.0954155\ttotal: 14.2s\tremaining: 24.4s\n",
      "367:\tlearn: 0.0953644\ttotal: 14.2s\tremaining: 24.4s\n",
      "368:\tlearn: 0.0952789\ttotal: 14.2s\tremaining: 24.4s\n",
      "369:\tlearn: 0.0952172\ttotal: 14.3s\tremaining: 24.3s\n",
      "370:\tlearn: 0.0951706\ttotal: 14.3s\tremaining: 24.3s\n",
      "371:\tlearn: 0.0951291\ttotal: 14.4s\tremaining: 24.2s\n",
      "372:\tlearn: 0.0950764\ttotal: 14.4s\tremaining: 24.2s\n",
      "373:\tlearn: 0.0950221\ttotal: 14.4s\tremaining: 24.2s\n",
      "374:\tlearn: 0.0949647\ttotal: 14.5s\tremaining: 24.1s\n",
      "375:\tlearn: 0.0948791\ttotal: 14.5s\tremaining: 24.1s\n",
      "376:\tlearn: 0.0948316\ttotal: 14.6s\tremaining: 24.1s\n",
      "377:\tlearn: 0.0947863\ttotal: 14.6s\tremaining: 24s\n",
      "378:\tlearn: 0.0947233\ttotal: 14.6s\tremaining: 24s\n",
      "379:\tlearn: 0.0946290\ttotal: 14.7s\tremaining: 23.9s\n",
      "380:\tlearn: 0.0945777\ttotal: 14.7s\tremaining: 23.9s\n",
      "381:\tlearn: 0.0945383\ttotal: 14.8s\tremaining: 23.9s\n",
      "382:\tlearn: 0.0944876\ttotal: 14.8s\tremaining: 23.8s\n",
      "383:\tlearn: 0.0944073\ttotal: 14.8s\tremaining: 23.8s\n",
      "384:\tlearn: 0.0943647\ttotal: 14.9s\tremaining: 23.8s\n",
      "385:\tlearn: 0.0942654\ttotal: 14.9s\tremaining: 23.7s\n",
      "386:\tlearn: 0.0942222\ttotal: 15s\tremaining: 23.7s\n",
      "387:\tlearn: 0.0941401\ttotal: 15s\tremaining: 23.6s\n",
      "388:\tlearn: 0.0940439\ttotal: 15s\tremaining: 23.6s\n",
      "389:\tlearn: 0.0939755\ttotal: 15.1s\tremaining: 23.6s\n",
      "390:\tlearn: 0.0939471\ttotal: 15.1s\tremaining: 23.5s\n",
      "391:\tlearn: 0.0938817\ttotal: 15.2s\tremaining: 23.5s\n",
      "392:\tlearn: 0.0938250\ttotal: 15.2s\tremaining: 23.5s\n",
      "393:\tlearn: 0.0937053\ttotal: 15.2s\tremaining: 23.4s\n",
      "394:\tlearn: 0.0936761\ttotal: 15.3s\tremaining: 23.4s\n",
      "395:\tlearn: 0.0936332\ttotal: 15.3s\tremaining: 23.4s\n",
      "396:\tlearn: 0.0935802\ttotal: 15.4s\tremaining: 23.3s\n",
      "397:\tlearn: 0.0935148\ttotal: 15.4s\tremaining: 23.3s\n",
      "398:\tlearn: 0.0934928\ttotal: 15.5s\tremaining: 23.3s\n",
      "399:\tlearn: 0.0934185\ttotal: 15.5s\tremaining: 23.3s\n",
      "400:\tlearn: 0.0933714\ttotal: 15.6s\tremaining: 23.3s\n",
      "401:\tlearn: 0.0933217\ttotal: 15.6s\tremaining: 23.2s\n",
      "402:\tlearn: 0.0932305\ttotal: 15.7s\tremaining: 23.2s\n",
      "403:\tlearn: 0.0931835\ttotal: 15.7s\tremaining: 23.2s\n",
      "404:\tlearn: 0.0931074\ttotal: 15.8s\tremaining: 23.1s\n",
      "405:\tlearn: 0.0930250\ttotal: 15.8s\tremaining: 23.1s\n",
      "406:\tlearn: 0.0929885\ttotal: 15.9s\tremaining: 23.1s\n",
      "407:\tlearn: 0.0929486\ttotal: 15.9s\tremaining: 23.1s\n",
      "408:\tlearn: 0.0929102\ttotal: 15.9s\tremaining: 23s\n",
      "409:\tlearn: 0.0928678\ttotal: 16s\tremaining: 23s\n",
      "410:\tlearn: 0.0928214\ttotal: 16s\tremaining: 23s\n",
      "411:\tlearn: 0.0927640\ttotal: 16.1s\tremaining: 22.9s\n",
      "412:\tlearn: 0.0926985\ttotal: 16.1s\tremaining: 22.9s\n",
      "413:\tlearn: 0.0926240\ttotal: 16.2s\tremaining: 22.9s\n",
      "414:\tlearn: 0.0925860\ttotal: 16.2s\tremaining: 22.8s\n",
      "415:\tlearn: 0.0925535\ttotal: 16.2s\tremaining: 22.8s\n",
      "416:\tlearn: 0.0925037\ttotal: 16.3s\tremaining: 22.8s\n",
      "417:\tlearn: 0.0924113\ttotal: 16.3s\tremaining: 22.7s\n",
      "418:\tlearn: 0.0923759\ttotal: 16.4s\tremaining: 22.7s\n",
      "419:\tlearn: 0.0923501\ttotal: 16.4s\tremaining: 22.6s\n",
      "420:\tlearn: 0.0922862\ttotal: 16.4s\tremaining: 22.6s\n",
      "421:\tlearn: 0.0922217\ttotal: 16.5s\tremaining: 22.6s\n",
      "422:\tlearn: 0.0921828\ttotal: 16.5s\tremaining: 22.5s\n",
      "423:\tlearn: 0.0921401\ttotal: 16.6s\tremaining: 22.5s\n",
      "424:\tlearn: 0.0921155\ttotal: 16.6s\tremaining: 22.5s\n",
      "425:\tlearn: 0.0920504\ttotal: 16.7s\tremaining: 22.4s\n",
      "426:\tlearn: 0.0919806\ttotal: 16.7s\tremaining: 22.4s\n",
      "427:\tlearn: 0.0919597\ttotal: 16.7s\tremaining: 22.4s\n",
      "428:\tlearn: 0.0919292\ttotal: 16.8s\tremaining: 22.3s\n",
      "429:\tlearn: 0.0919007\ttotal: 16.8s\tremaining: 22.3s\n",
      "430:\tlearn: 0.0918489\ttotal: 16.9s\tremaining: 22.3s\n",
      "431:\tlearn: 0.0918056\ttotal: 16.9s\tremaining: 22.2s\n",
      "432:\tlearn: 0.0917756\ttotal: 16.9s\tremaining: 22.2s\n",
      "433:\tlearn: 0.0917409\ttotal: 17s\tremaining: 22.1s\n",
      "434:\tlearn: 0.0917078\ttotal: 17s\tremaining: 22.1s\n",
      "435:\tlearn: 0.0916885\ttotal: 17.1s\tremaining: 22.1s\n",
      "436:\tlearn: 0.0916463\ttotal: 17.1s\tremaining: 22s\n",
      "437:\tlearn: 0.0916172\ttotal: 17.1s\tremaining: 22s\n",
      "438:\tlearn: 0.0915826\ttotal: 17.2s\tremaining: 22s\n",
      "439:\tlearn: 0.0915593\ttotal: 17.2s\tremaining: 21.9s\n",
      "440:\tlearn: 0.0915298\ttotal: 17.3s\tremaining: 21.9s\n",
      "441:\tlearn: 0.0915069\ttotal: 17.3s\tremaining: 21.8s\n",
      "442:\tlearn: 0.0914305\ttotal: 17.3s\tremaining: 21.8s\n",
      "443:\tlearn: 0.0913703\ttotal: 17.4s\tremaining: 21.8s\n",
      "444:\tlearn: 0.0913247\ttotal: 17.4s\tremaining: 21.7s\n",
      "445:\tlearn: 0.0912759\ttotal: 17.5s\tremaining: 21.7s\n",
      "446:\tlearn: 0.0911988\ttotal: 17.5s\tremaining: 21.7s\n",
      "447:\tlearn: 0.0911549\ttotal: 17.5s\tremaining: 21.6s\n",
      "448:\tlearn: 0.0911255\ttotal: 17.6s\tremaining: 21.6s\n",
      "449:\tlearn: 0.0910933\ttotal: 17.6s\tremaining: 21.5s\n",
      "450:\tlearn: 0.0910291\ttotal: 17.7s\tremaining: 21.5s\n",
      "451:\tlearn: 0.0910007\ttotal: 17.7s\tremaining: 21.5s\n",
      "452:\tlearn: 0.0909481\ttotal: 17.7s\tremaining: 21.4s\n",
      "453:\tlearn: 0.0909249\ttotal: 17.8s\tremaining: 21.4s\n",
      "454:\tlearn: 0.0909060\ttotal: 17.8s\tremaining: 21.3s\n",
      "455:\tlearn: 0.0908677\ttotal: 17.9s\tremaining: 21.3s\n",
      "456:\tlearn: 0.0908247\ttotal: 17.9s\tremaining: 21.3s\n",
      "457:\tlearn: 0.0907925\ttotal: 17.9s\tremaining: 21.2s\n",
      "458:\tlearn: 0.0907524\ttotal: 18s\tremaining: 21.2s\n",
      "459:\tlearn: 0.0906810\ttotal: 18s\tremaining: 21.2s\n",
      "460:\tlearn: 0.0906566\ttotal: 18.1s\tremaining: 21.1s\n",
      "461:\tlearn: 0.0905785\ttotal: 18.1s\tremaining: 21.1s\n",
      "462:\tlearn: 0.0905628\ttotal: 18.2s\tremaining: 21.1s\n",
      "463:\tlearn: 0.0905436\ttotal: 18.2s\tremaining: 21s\n",
      "464:\tlearn: 0.0905043\ttotal: 18.2s\tremaining: 21s\n",
      "465:\tlearn: 0.0904692\ttotal: 18.3s\tremaining: 20.9s\n",
      "466:\tlearn: 0.0904511\ttotal: 18.3s\tremaining: 20.9s\n",
      "467:\tlearn: 0.0904087\ttotal: 18.4s\tremaining: 20.9s\n",
      "468:\tlearn: 0.0903729\ttotal: 18.4s\tremaining: 20.8s\n",
      "469:\tlearn: 0.0903524\ttotal: 18.4s\tremaining: 20.8s\n",
      "470:\tlearn: 0.0903243\ttotal: 18.5s\tremaining: 20.7s\n",
      "471:\tlearn: 0.0903118\ttotal: 18.5s\tremaining: 20.7s\n",
      "472:\tlearn: 0.0902849\ttotal: 18.6s\tremaining: 20.7s\n",
      "473:\tlearn: 0.0902618\ttotal: 18.6s\tremaining: 20.6s\n",
      "474:\tlearn: 0.0902222\ttotal: 18.6s\tremaining: 20.6s\n",
      "475:\tlearn: 0.0901922\ttotal: 18.7s\tremaining: 20.6s\n",
      "476:\tlearn: 0.0901668\ttotal: 18.7s\tremaining: 20.5s\n",
      "477:\tlearn: 0.0901303\ttotal: 18.8s\tremaining: 20.5s\n",
      "478:\tlearn: 0.0900935\ttotal: 18.8s\tremaining: 20.5s\n",
      "479:\tlearn: 0.0900289\ttotal: 18.8s\tremaining: 20.4s\n",
      "480:\tlearn: 0.0899919\ttotal: 18.9s\tremaining: 20.4s\n"
     ]
    },
    {
     "name": "stdout",
     "output_type": "stream",
     "text": [
      "481:\tlearn: 0.0899655\ttotal: 18.9s\tremaining: 20.3s\n",
      "482:\tlearn: 0.0899410\ttotal: 19s\tremaining: 20.3s\n",
      "483:\tlearn: 0.0898918\ttotal: 19s\tremaining: 20.3s\n",
      "484:\tlearn: 0.0898664\ttotal: 19.1s\tremaining: 20.2s\n",
      "485:\tlearn: 0.0898450\ttotal: 19.1s\tremaining: 20.2s\n",
      "486:\tlearn: 0.0897905\ttotal: 19.1s\tremaining: 20.2s\n",
      "487:\tlearn: 0.0897528\ttotal: 19.2s\tremaining: 20.1s\n",
      "488:\tlearn: 0.0896966\ttotal: 19.2s\tremaining: 20.1s\n",
      "489:\tlearn: 0.0896632\ttotal: 19.3s\tremaining: 20.1s\n",
      "490:\tlearn: 0.0896522\ttotal: 19.3s\tremaining: 20s\n",
      "491:\tlearn: 0.0896110\ttotal: 19.4s\tremaining: 20s\n",
      "492:\tlearn: 0.0895768\ttotal: 19.4s\tremaining: 20s\n",
      "493:\tlearn: 0.0895424\ttotal: 19.5s\tremaining: 19.9s\n",
      "494:\tlearn: 0.0894958\ttotal: 19.5s\tremaining: 19.9s\n",
      "495:\tlearn: 0.0894662\ttotal: 19.5s\tremaining: 19.8s\n",
      "496:\tlearn: 0.0894340\ttotal: 19.6s\tremaining: 19.8s\n",
      "497:\tlearn: 0.0894111\ttotal: 19.6s\tremaining: 19.8s\n",
      "498:\tlearn: 0.0893722\ttotal: 19.7s\tremaining: 19.7s\n",
      "499:\tlearn: 0.0893348\ttotal: 19.7s\tremaining: 19.7s\n",
      "500:\tlearn: 0.0892725\ttotal: 19.7s\tremaining: 19.6s\n",
      "501:\tlearn: 0.0892285\ttotal: 19.8s\tremaining: 19.6s\n",
      "502:\tlearn: 0.0891866\ttotal: 19.8s\tremaining: 19.6s\n",
      "503:\tlearn: 0.0891432\ttotal: 19.9s\tremaining: 19.5s\n",
      "504:\tlearn: 0.0890705\ttotal: 19.9s\tremaining: 19.5s\n",
      "505:\tlearn: 0.0890243\ttotal: 19.9s\tremaining: 19.5s\n",
      "506:\tlearn: 0.0890019\ttotal: 20s\tremaining: 19.4s\n",
      "507:\tlearn: 0.0889921\ttotal: 20s\tremaining: 19.4s\n",
      "508:\tlearn: 0.0889369\ttotal: 20.1s\tremaining: 19.3s\n",
      "509:\tlearn: 0.0888975\ttotal: 20.1s\tremaining: 19.3s\n",
      "510:\tlearn: 0.0888520\ttotal: 20.1s\tremaining: 19.3s\n",
      "511:\tlearn: 0.0887968\ttotal: 20.2s\tremaining: 19.2s\n",
      "512:\tlearn: 0.0887651\ttotal: 20.2s\tremaining: 19.2s\n",
      "513:\tlearn: 0.0887120\ttotal: 20.2s\tremaining: 19.1s\n",
      "514:\tlearn: 0.0886914\ttotal: 20.3s\tremaining: 19.1s\n",
      "515:\tlearn: 0.0886478\ttotal: 20.3s\tremaining: 19.1s\n",
      "516:\tlearn: 0.0886186\ttotal: 20.4s\tremaining: 19s\n",
      "517:\tlearn: 0.0885884\ttotal: 20.4s\tremaining: 19s\n",
      "518:\tlearn: 0.0885779\ttotal: 20.4s\tremaining: 18.9s\n",
      "519:\tlearn: 0.0885536\ttotal: 20.5s\tremaining: 18.9s\n",
      "520:\tlearn: 0.0885037\ttotal: 20.5s\tremaining: 18.9s\n",
      "521:\tlearn: 0.0884888\ttotal: 20.6s\tremaining: 18.8s\n",
      "522:\tlearn: 0.0884642\ttotal: 20.6s\tremaining: 18.8s\n",
      "523:\tlearn: 0.0884427\ttotal: 20.7s\tremaining: 18.8s\n",
      "524:\tlearn: 0.0884273\ttotal: 20.7s\tremaining: 18.7s\n",
      "525:\tlearn: 0.0883298\ttotal: 20.8s\tremaining: 18.7s\n",
      "526:\tlearn: 0.0882948\ttotal: 20.8s\tremaining: 18.7s\n",
      "527:\tlearn: 0.0882565\ttotal: 20.9s\tremaining: 18.7s\n",
      "528:\tlearn: 0.0882094\ttotal: 20.9s\tremaining: 18.6s\n",
      "529:\tlearn: 0.0881871\ttotal: 21s\tremaining: 18.6s\n",
      "530:\tlearn: 0.0881633\ttotal: 21s\tremaining: 18.6s\n",
      "531:\tlearn: 0.0881284\ttotal: 21.1s\tremaining: 18.5s\n",
      "532:\tlearn: 0.0880943\ttotal: 21.1s\tremaining: 18.5s\n",
      "533:\tlearn: 0.0880672\ttotal: 21.2s\tremaining: 18.5s\n",
      "534:\tlearn: 0.0880241\ttotal: 21.2s\tremaining: 18.4s\n",
      "535:\tlearn: 0.0879988\ttotal: 21.3s\tremaining: 18.4s\n",
      "536:\tlearn: 0.0879429\ttotal: 21.3s\tremaining: 18.4s\n",
      "537:\tlearn: 0.0878870\ttotal: 21.4s\tremaining: 18.4s\n",
      "538:\tlearn: 0.0878727\ttotal: 21.4s\tremaining: 18.3s\n",
      "539:\tlearn: 0.0878393\ttotal: 21.5s\tremaining: 18.3s\n",
      "540:\tlearn: 0.0877626\ttotal: 21.5s\tremaining: 18.2s\n",
      "541:\tlearn: 0.0877291\ttotal: 21.5s\tremaining: 18.2s\n",
      "542:\tlearn: 0.0876855\ttotal: 21.6s\tremaining: 18.2s\n",
      "543:\tlearn: 0.0876502\ttotal: 21.6s\tremaining: 18.1s\n",
      "544:\tlearn: 0.0876162\ttotal: 21.7s\tremaining: 18.1s\n",
      "545:\tlearn: 0.0875995\ttotal: 21.7s\tremaining: 18.1s\n",
      "546:\tlearn: 0.0875824\ttotal: 21.8s\tremaining: 18s\n",
      "547:\tlearn: 0.0875194\ttotal: 21.8s\tremaining: 18s\n",
      "548:\tlearn: 0.0874958\ttotal: 21.9s\tremaining: 18s\n",
      "549:\tlearn: 0.0874756\ttotal: 22s\tremaining: 18s\n",
      "550:\tlearn: 0.0874498\ttotal: 22s\tremaining: 17.9s\n",
      "551:\tlearn: 0.0874217\ttotal: 22.1s\tremaining: 17.9s\n",
      "552:\tlearn: 0.0874013\ttotal: 22.1s\tremaining: 17.9s\n",
      "553:\tlearn: 0.0873754\ttotal: 22.1s\tremaining: 17.8s\n",
      "554:\tlearn: 0.0873514\ttotal: 22.2s\tremaining: 17.8s\n",
      "555:\tlearn: 0.0873186\ttotal: 22.2s\tremaining: 17.7s\n",
      "556:\tlearn: 0.0872920\ttotal: 22.3s\tremaining: 17.7s\n",
      "557:\tlearn: 0.0872754\ttotal: 22.3s\tremaining: 17.7s\n",
      "558:\tlearn: 0.0872512\ttotal: 22.4s\tremaining: 17.6s\n",
      "559:\tlearn: 0.0872289\ttotal: 22.4s\tremaining: 17.6s\n",
      "560:\tlearn: 0.0871974\ttotal: 22.4s\tremaining: 17.5s\n",
      "561:\tlearn: 0.0871662\ttotal: 22.5s\tremaining: 17.5s\n",
      "562:\tlearn: 0.0871345\ttotal: 22.5s\tremaining: 17.5s\n",
      "563:\tlearn: 0.0871186\ttotal: 22.5s\tremaining: 17.4s\n",
      "564:\tlearn: 0.0870840\ttotal: 22.6s\tremaining: 17.4s\n",
      "565:\tlearn: 0.0870706\ttotal: 22.6s\tremaining: 17.3s\n",
      "566:\tlearn: 0.0870508\ttotal: 22.7s\tremaining: 17.3s\n",
      "567:\tlearn: 0.0870223\ttotal: 22.7s\tremaining: 17.3s\n",
      "568:\tlearn: 0.0869864\ttotal: 22.7s\tremaining: 17.2s\n",
      "569:\tlearn: 0.0869604\ttotal: 22.8s\tremaining: 17.2s\n",
      "570:\tlearn: 0.0869474\ttotal: 22.8s\tremaining: 17.1s\n",
      "571:\tlearn: 0.0868860\ttotal: 22.9s\tremaining: 17.1s\n",
      "572:\tlearn: 0.0868614\ttotal: 22.9s\tremaining: 17.1s\n",
      "573:\tlearn: 0.0868449\ttotal: 22.9s\tremaining: 17s\n",
      "574:\tlearn: 0.0868146\ttotal: 23s\tremaining: 17s\n",
      "575:\tlearn: 0.0867382\ttotal: 23s\tremaining: 16.9s\n",
      "576:\tlearn: 0.0866995\ttotal: 23s\tremaining: 16.9s\n",
      "577:\tlearn: 0.0866696\ttotal: 23.1s\tremaining: 16.9s\n",
      "578:\tlearn: 0.0866437\ttotal: 23.1s\tremaining: 16.8s\n",
      "579:\tlearn: 0.0866300\ttotal: 23.2s\tremaining: 16.8s\n",
      "580:\tlearn: 0.0865910\ttotal: 23.2s\tremaining: 16.7s\n",
      "581:\tlearn: 0.0865675\ttotal: 23.2s\tremaining: 16.7s\n",
      "582:\tlearn: 0.0865459\ttotal: 23.3s\tremaining: 16.6s\n",
      "583:\tlearn: 0.0865251\ttotal: 23.3s\tremaining: 16.6s\n",
      "584:\tlearn: 0.0865066\ttotal: 23.3s\tremaining: 16.5s\n",
      "585:\tlearn: 0.0864342\ttotal: 23.4s\tremaining: 16.5s\n",
      "586:\tlearn: 0.0863741\ttotal: 23.4s\tremaining: 16.5s\n",
      "587:\tlearn: 0.0863268\ttotal: 23.4s\tremaining: 16.4s\n",
      "588:\tlearn: 0.0862911\ttotal: 23.5s\tremaining: 16.4s\n",
      "589:\tlearn: 0.0862684\ttotal: 23.5s\tremaining: 16.3s\n",
      "590:\tlearn: 0.0862169\ttotal: 23.5s\tremaining: 16.3s\n",
      "591:\tlearn: 0.0861838\ttotal: 23.6s\tremaining: 16.3s\n",
      "592:\tlearn: 0.0861619\ttotal: 23.6s\tremaining: 16.2s\n",
      "593:\tlearn: 0.0861242\ttotal: 23.7s\tremaining: 16.2s\n",
      "594:\tlearn: 0.0860812\ttotal: 23.7s\tremaining: 16.1s\n",
      "595:\tlearn: 0.0860456\ttotal: 23.7s\tremaining: 16.1s\n",
      "596:\tlearn: 0.0860207\ttotal: 23.8s\tremaining: 16s\n",
      "597:\tlearn: 0.0859893\ttotal: 23.8s\tremaining: 16s\n",
      "598:\tlearn: 0.0859737\ttotal: 23.8s\tremaining: 16s\n",
      "599:\tlearn: 0.0859570\ttotal: 23.9s\tremaining: 15.9s\n",
      "600:\tlearn: 0.0859278\ttotal: 23.9s\tremaining: 15.9s\n",
      "601:\tlearn: 0.0858663\ttotal: 24s\tremaining: 15.8s\n",
      "602:\tlearn: 0.0858540\ttotal: 24s\tremaining: 15.8s\n",
      "603:\tlearn: 0.0858298\ttotal: 24s\tremaining: 15.8s\n",
      "604:\tlearn: 0.0858063\ttotal: 24.1s\tremaining: 15.7s\n",
      "605:\tlearn: 0.0857863\ttotal: 24.1s\tremaining: 15.7s\n",
      "606:\tlearn: 0.0857386\ttotal: 24.1s\tremaining: 15.6s\n",
      "607:\tlearn: 0.0857208\ttotal: 24.2s\tremaining: 15.6s\n",
      "608:\tlearn: 0.0856770\ttotal: 24.2s\tremaining: 15.5s\n",
      "609:\tlearn: 0.0856251\ttotal: 24.3s\tremaining: 15.5s\n",
      "610:\tlearn: 0.0855973\ttotal: 24.3s\tremaining: 15.5s\n",
      "611:\tlearn: 0.0855605\ttotal: 24.3s\tremaining: 15.4s\n",
      "612:\tlearn: 0.0855370\ttotal: 24.4s\tremaining: 15.4s\n",
      "613:\tlearn: 0.0855080\ttotal: 24.4s\tremaining: 15.3s\n",
      "614:\tlearn: 0.0854881\ttotal: 24.4s\tremaining: 15.3s\n",
      "615:\tlearn: 0.0854558\ttotal: 24.5s\tremaining: 15.3s\n",
      "616:\tlearn: 0.0854262\ttotal: 24.5s\tremaining: 15.2s\n",
      "617:\tlearn: 0.0853785\ttotal: 24.5s\tremaining: 15.2s\n",
      "618:\tlearn: 0.0853479\ttotal: 24.6s\tremaining: 15.1s\n",
      "619:\tlearn: 0.0853256\ttotal: 24.6s\tremaining: 15.1s\n",
      "620:\tlearn: 0.0852842\ttotal: 24.7s\tremaining: 15.1s\n",
      "621:\tlearn: 0.0852484\ttotal: 24.7s\tremaining: 15s\n",
      "622:\tlearn: 0.0852277\ttotal: 24.7s\tremaining: 15s\n",
      "623:\tlearn: 0.0851988\ttotal: 24.8s\tremaining: 14.9s\n",
      "624:\tlearn: 0.0851618\ttotal: 24.8s\tremaining: 14.9s\n",
      "625:\tlearn: 0.0850912\ttotal: 24.9s\tremaining: 14.8s\n",
      "626:\tlearn: 0.0850606\ttotal: 24.9s\tremaining: 14.8s\n",
      "627:\tlearn: 0.0850327\ttotal: 24.9s\tremaining: 14.8s\n",
      "628:\tlearn: 0.0849777\ttotal: 25s\tremaining: 14.7s\n",
      "629:\tlearn: 0.0849491\ttotal: 25s\tremaining: 14.7s\n",
      "630:\tlearn: 0.0849331\ttotal: 25s\tremaining: 14.6s\n",
      "631:\tlearn: 0.0848984\ttotal: 25.1s\tremaining: 14.6s\n",
      "632:\tlearn: 0.0848808\ttotal: 25.1s\tremaining: 14.6s\n",
      "633:\tlearn: 0.0848671\ttotal: 25.1s\tremaining: 14.5s\n",
      "634:\tlearn: 0.0847985\ttotal: 25.2s\tremaining: 14.5s\n",
      "635:\tlearn: 0.0847838\ttotal: 25.2s\tremaining: 14.4s\n",
      "636:\tlearn: 0.0847629\ttotal: 25.3s\tremaining: 14.4s\n",
      "637:\tlearn: 0.0847375\ttotal: 25.3s\tremaining: 14.4s\n",
      "638:\tlearn: 0.0847054\ttotal: 25.3s\tremaining: 14.3s\n",
      "639:\tlearn: 0.0846798\ttotal: 25.4s\tremaining: 14.3s\n",
      "640:\tlearn: 0.0846547\ttotal: 25.4s\tremaining: 14.2s\n"
     ]
    },
    {
     "name": "stdout",
     "output_type": "stream",
     "text": [
      "641:\tlearn: 0.0846282\ttotal: 25.4s\tremaining: 14.2s\n",
      "642:\tlearn: 0.0845991\ttotal: 25.5s\tremaining: 14.1s\n",
      "643:\tlearn: 0.0845836\ttotal: 25.5s\tremaining: 14.1s\n",
      "644:\tlearn: 0.0845427\ttotal: 25.5s\tremaining: 14.1s\n",
      "645:\tlearn: 0.0844557\ttotal: 25.6s\tremaining: 14s\n",
      "646:\tlearn: 0.0844181\ttotal: 25.6s\tremaining: 14s\n",
      "647:\tlearn: 0.0843958\ttotal: 25.6s\tremaining: 13.9s\n",
      "648:\tlearn: 0.0843443\ttotal: 25.7s\tremaining: 13.9s\n",
      "649:\tlearn: 0.0843226\ttotal: 25.7s\tremaining: 13.8s\n",
      "650:\tlearn: 0.0842878\ttotal: 25.7s\tremaining: 13.8s\n",
      "651:\tlearn: 0.0842638\ttotal: 25.8s\tremaining: 13.8s\n",
      "652:\tlearn: 0.0842389\ttotal: 25.8s\tremaining: 13.7s\n",
      "653:\tlearn: 0.0841769\ttotal: 25.9s\tremaining: 13.7s\n",
      "654:\tlearn: 0.0841393\ttotal: 25.9s\tremaining: 13.6s\n",
      "655:\tlearn: 0.0840943\ttotal: 25.9s\tremaining: 13.6s\n",
      "656:\tlearn: 0.0840282\ttotal: 26s\tremaining: 13.6s\n",
      "657:\tlearn: 0.0839895\ttotal: 26s\tremaining: 13.5s\n",
      "658:\tlearn: 0.0839546\ttotal: 26s\tremaining: 13.5s\n",
      "659:\tlearn: 0.0839284\ttotal: 26.1s\tremaining: 13.4s\n",
      "660:\tlearn: 0.0838892\ttotal: 26.1s\tremaining: 13.4s\n",
      "661:\tlearn: 0.0838643\ttotal: 26.2s\tremaining: 13.4s\n",
      "662:\tlearn: 0.0838245\ttotal: 26.2s\tremaining: 13.3s\n",
      "663:\tlearn: 0.0838061\ttotal: 26.3s\tremaining: 13.3s\n",
      "664:\tlearn: 0.0837830\ttotal: 26.3s\tremaining: 13.3s\n",
      "665:\tlearn: 0.0837657\ttotal: 26.3s\tremaining: 13.2s\n",
      "666:\tlearn: 0.0837339\ttotal: 26.4s\tremaining: 13.2s\n",
      "667:\tlearn: 0.0837195\ttotal: 26.4s\tremaining: 13.1s\n",
      "668:\tlearn: 0.0837037\ttotal: 26.5s\tremaining: 13.1s\n",
      "669:\tlearn: 0.0836743\ttotal: 26.5s\tremaining: 13.1s\n",
      "670:\tlearn: 0.0836557\ttotal: 26.6s\tremaining: 13s\n",
      "671:\tlearn: 0.0836399\ttotal: 26.6s\tremaining: 13s\n",
      "672:\tlearn: 0.0836051\ttotal: 26.6s\tremaining: 12.9s\n",
      "673:\tlearn: 0.0835660\ttotal: 26.7s\tremaining: 12.9s\n",
      "674:\tlearn: 0.0835473\ttotal: 26.7s\tremaining: 12.9s\n",
      "675:\tlearn: 0.0835188\ttotal: 26.7s\tremaining: 12.8s\n",
      "676:\tlearn: 0.0835016\ttotal: 26.8s\tremaining: 12.8s\n",
      "677:\tlearn: 0.0834800\ttotal: 26.8s\tremaining: 12.7s\n",
      "678:\tlearn: 0.0834341\ttotal: 26.9s\tremaining: 12.7s\n",
      "679:\tlearn: 0.0833887\ttotal: 26.9s\tremaining: 12.7s\n",
      "680:\tlearn: 0.0833399\ttotal: 27s\tremaining: 12.6s\n",
      "681:\tlearn: 0.0833231\ttotal: 27s\tremaining: 12.6s\n",
      "682:\tlearn: 0.0832982\ttotal: 27.1s\tremaining: 12.6s\n",
      "683:\tlearn: 0.0832888\ttotal: 27.1s\tremaining: 12.5s\n",
      "684:\tlearn: 0.0832610\ttotal: 27.2s\tremaining: 12.5s\n",
      "685:\tlearn: 0.0832246\ttotal: 27.2s\tremaining: 12.4s\n",
      "686:\tlearn: 0.0831819\ttotal: 27.2s\tremaining: 12.4s\n",
      "687:\tlearn: 0.0831486\ttotal: 27.3s\tremaining: 12.4s\n",
      "688:\tlearn: 0.0830673\ttotal: 27.3s\tremaining: 12.3s\n",
      "689:\tlearn: 0.0830406\ttotal: 27.4s\tremaining: 12.3s\n",
      "690:\tlearn: 0.0830051\ttotal: 27.4s\tremaining: 12.3s\n",
      "691:\tlearn: 0.0829869\ttotal: 27.5s\tremaining: 12.2s\n",
      "692:\tlearn: 0.0829603\ttotal: 27.5s\tremaining: 12.2s\n",
      "693:\tlearn: 0.0829357\ttotal: 27.5s\tremaining: 12.1s\n",
      "694:\tlearn: 0.0829152\ttotal: 27.6s\tremaining: 12.1s\n",
      "695:\tlearn: 0.0829094\ttotal: 27.6s\tremaining: 12.1s\n",
      "696:\tlearn: 0.0828930\ttotal: 27.7s\tremaining: 12s\n",
      "697:\tlearn: 0.0828686\ttotal: 27.7s\tremaining: 12s\n",
      "698:\tlearn: 0.0828567\ttotal: 27.8s\tremaining: 12s\n",
      "699:\tlearn: 0.0828342\ttotal: 27.8s\tremaining: 11.9s\n",
      "700:\tlearn: 0.0828057\ttotal: 27.8s\tremaining: 11.9s\n",
      "701:\tlearn: 0.0827933\ttotal: 27.9s\tremaining: 11.8s\n",
      "702:\tlearn: 0.0827741\ttotal: 27.9s\tremaining: 11.8s\n",
      "703:\tlearn: 0.0827586\ttotal: 27.9s\tremaining: 11.8s\n",
      "704:\tlearn: 0.0827354\ttotal: 28s\tremaining: 11.7s\n",
      "705:\tlearn: 0.0826954\ttotal: 28s\tremaining: 11.7s\n",
      "706:\tlearn: 0.0826717\ttotal: 28.1s\tremaining: 11.6s\n",
      "707:\tlearn: 0.0826523\ttotal: 28.1s\tremaining: 11.6s\n",
      "708:\tlearn: 0.0826221\ttotal: 28.2s\tremaining: 11.6s\n",
      "709:\tlearn: 0.0825956\ttotal: 28.2s\tremaining: 11.5s\n",
      "710:\tlearn: 0.0825763\ttotal: 28.3s\tremaining: 11.5s\n",
      "711:\tlearn: 0.0825193\ttotal: 28.3s\tremaining: 11.4s\n",
      "712:\tlearn: 0.0824789\ttotal: 28.3s\tremaining: 11.4s\n",
      "713:\tlearn: 0.0824428\ttotal: 28.4s\tremaining: 11.4s\n",
      "714:\tlearn: 0.0824311\ttotal: 28.4s\tremaining: 11.3s\n",
      "715:\tlearn: 0.0824121\ttotal: 28.4s\tremaining: 11.3s\n",
      "716:\tlearn: 0.0823859\ttotal: 28.5s\tremaining: 11.2s\n",
      "717:\tlearn: 0.0823588\ttotal: 28.5s\tremaining: 11.2s\n",
      "718:\tlearn: 0.0823346\ttotal: 28.6s\tremaining: 11.2s\n",
      "719:\tlearn: 0.0823286\ttotal: 28.6s\tremaining: 11.1s\n",
      "720:\tlearn: 0.0822942\ttotal: 28.6s\tremaining: 11.1s\n",
      "721:\tlearn: 0.0822718\ttotal: 28.7s\tremaining: 11s\n",
      "722:\tlearn: 0.0822371\ttotal: 28.7s\tremaining: 11s\n",
      "723:\tlearn: 0.0821752\ttotal: 28.8s\tremaining: 11s\n",
      "724:\tlearn: 0.0821534\ttotal: 28.8s\tremaining: 10.9s\n",
      "725:\tlearn: 0.0820943\ttotal: 28.9s\tremaining: 10.9s\n",
      "726:\tlearn: 0.0820582\ttotal: 28.9s\tremaining: 10.9s\n",
      "727:\tlearn: 0.0820398\ttotal: 28.9s\tremaining: 10.8s\n",
      "728:\tlearn: 0.0820201\ttotal: 29s\tremaining: 10.8s\n",
      "729:\tlearn: 0.0820022\ttotal: 29s\tremaining: 10.7s\n",
      "730:\tlearn: 0.0819756\ttotal: 29s\tremaining: 10.7s\n",
      "731:\tlearn: 0.0819603\ttotal: 29.1s\tremaining: 10.6s\n",
      "732:\tlearn: 0.0819415\ttotal: 29.1s\tremaining: 10.6s\n",
      "733:\tlearn: 0.0819179\ttotal: 29.2s\tremaining: 10.6s\n",
      "734:\tlearn: 0.0818909\ttotal: 29.2s\tremaining: 10.5s\n",
      "735:\tlearn: 0.0818662\ttotal: 29.2s\tremaining: 10.5s\n",
      "736:\tlearn: 0.0818188\ttotal: 29.3s\tremaining: 10.5s\n",
      "737:\tlearn: 0.0817880\ttotal: 29.3s\tremaining: 10.4s\n",
      "738:\tlearn: 0.0817458\ttotal: 29.4s\tremaining: 10.4s\n",
      "739:\tlearn: 0.0817323\ttotal: 29.4s\tremaining: 10.3s\n",
      "740:\tlearn: 0.0816765\ttotal: 29.5s\tremaining: 10.3s\n",
      "741:\tlearn: 0.0816427\ttotal: 29.5s\tremaining: 10.3s\n",
      "742:\tlearn: 0.0816130\ttotal: 29.5s\tremaining: 10.2s\n",
      "743:\tlearn: 0.0815973\ttotal: 29.6s\tremaining: 10.2s\n",
      "744:\tlearn: 0.0815699\ttotal: 29.6s\tremaining: 10.1s\n",
      "745:\tlearn: 0.0815423\ttotal: 29.7s\tremaining: 10.1s\n",
      "746:\tlearn: 0.0814948\ttotal: 29.7s\tremaining: 10.1s\n",
      "747:\tlearn: 0.0814740\ttotal: 29.8s\tremaining: 10s\n",
      "748:\tlearn: 0.0814525\ttotal: 29.8s\tremaining: 9.98s\n",
      "749:\tlearn: 0.0814316\ttotal: 29.8s\tremaining: 9.94s\n",
      "750:\tlearn: 0.0814177\ttotal: 29.9s\tremaining: 9.9s\n",
      "751:\tlearn: 0.0813818\ttotal: 29.9s\tremaining: 9.86s\n",
      "752:\tlearn: 0.0813612\ttotal: 30s\tremaining: 9.82s\n",
      "753:\tlearn: 0.0813204\ttotal: 30s\tremaining: 9.79s\n",
      "754:\tlearn: 0.0812911\ttotal: 30s\tremaining: 9.75s\n",
      "755:\tlearn: 0.0812602\ttotal: 30.1s\tremaining: 9.71s\n",
      "756:\tlearn: 0.0812335\ttotal: 30.1s\tremaining: 9.67s\n",
      "757:\tlearn: 0.0812242\ttotal: 30.2s\tremaining: 9.63s\n",
      "758:\tlearn: 0.0811965\ttotal: 30.2s\tremaining: 9.59s\n",
      "759:\tlearn: 0.0811313\ttotal: 30.2s\tremaining: 9.55s\n",
      "760:\tlearn: 0.0811034\ttotal: 30.3s\tremaining: 9.51s\n",
      "761:\tlearn: 0.0810840\ttotal: 30.3s\tremaining: 9.47s\n",
      "762:\tlearn: 0.0810623\ttotal: 30.4s\tremaining: 9.43s\n",
      "763:\tlearn: 0.0810339\ttotal: 30.4s\tremaining: 9.39s\n",
      "764:\tlearn: 0.0810110\ttotal: 30.4s\tremaining: 9.35s\n",
      "765:\tlearn: 0.0809633\ttotal: 30.5s\tremaining: 9.31s\n",
      "766:\tlearn: 0.0809445\ttotal: 30.5s\tremaining: 9.27s\n",
      "767:\tlearn: 0.0809376\ttotal: 30.6s\tremaining: 9.23s\n",
      "768:\tlearn: 0.0809097\ttotal: 30.6s\tremaining: 9.19s\n",
      "769:\tlearn: 0.0808921\ttotal: 30.6s\tremaining: 9.15s\n",
      "770:\tlearn: 0.0808529\ttotal: 30.7s\tremaining: 9.12s\n",
      "771:\tlearn: 0.0808239\ttotal: 30.7s\tremaining: 9.08s\n",
      "772:\tlearn: 0.0807844\ttotal: 30.8s\tremaining: 9.04s\n",
      "773:\tlearn: 0.0807388\ttotal: 30.8s\tremaining: 9s\n",
      "774:\tlearn: 0.0807102\ttotal: 30.9s\tremaining: 8.96s\n",
      "775:\tlearn: 0.0806941\ttotal: 30.9s\tremaining: 8.92s\n",
      "776:\tlearn: 0.0806695\ttotal: 30.9s\tremaining: 8.88s\n",
      "777:\tlearn: 0.0806367\ttotal: 31s\tremaining: 8.84s\n",
      "778:\tlearn: 0.0806212\ttotal: 31s\tremaining: 8.8s\n",
      "779:\tlearn: 0.0805977\ttotal: 31.1s\tremaining: 8.76s\n",
      "780:\tlearn: 0.0805706\ttotal: 31.1s\tremaining: 8.72s\n",
      "781:\tlearn: 0.0805515\ttotal: 31.1s\tremaining: 8.68s\n",
      "782:\tlearn: 0.0805294\ttotal: 31.2s\tremaining: 8.64s\n",
      "783:\tlearn: 0.0804884\ttotal: 31.2s\tremaining: 8.61s\n",
      "784:\tlearn: 0.0804721\ttotal: 31.3s\tremaining: 8.57s\n",
      "785:\tlearn: 0.0804582\ttotal: 31.3s\tremaining: 8.53s\n",
      "786:\tlearn: 0.0804346\ttotal: 31.4s\tremaining: 8.49s\n",
      "787:\tlearn: 0.0804000\ttotal: 31.4s\tremaining: 8.45s\n",
      "788:\tlearn: 0.0803865\ttotal: 31.5s\tremaining: 8.41s\n",
      "789:\tlearn: 0.0803658\ttotal: 31.5s\tremaining: 8.37s\n",
      "790:\tlearn: 0.0803549\ttotal: 31.6s\tremaining: 8.34s\n",
      "791:\tlearn: 0.0803358\ttotal: 31.6s\tremaining: 8.3s\n",
      "792:\tlearn: 0.0803132\ttotal: 31.7s\tremaining: 8.26s\n",
      "793:\tlearn: 0.0802833\ttotal: 31.7s\tremaining: 8.22s\n",
      "794:\tlearn: 0.0802555\ttotal: 31.7s\tremaining: 8.19s\n",
      "795:\tlearn: 0.0802278\ttotal: 31.8s\tremaining: 8.14s\n",
      "796:\tlearn: 0.0801874\ttotal: 31.8s\tremaining: 8.11s\n",
      "797:\tlearn: 0.0801679\ttotal: 31.9s\tremaining: 8.07s\n",
      "798:\tlearn: 0.0801304\ttotal: 31.9s\tremaining: 8.03s\n",
      "799:\tlearn: 0.0800958\ttotal: 32s\tremaining: 7.99s\n",
      "800:\tlearn: 0.0800810\ttotal: 32s\tremaining: 7.95s\n",
      "801:\tlearn: 0.0800596\ttotal: 32s\tremaining: 7.91s\n",
      "802:\tlearn: 0.0799551\ttotal: 32.1s\tremaining: 7.87s\n",
      "803:\tlearn: 0.0798955\ttotal: 32.1s\tremaining: 7.83s\n"
     ]
    },
    {
     "name": "stdout",
     "output_type": "stream",
     "text": [
      "804:\tlearn: 0.0798621\ttotal: 32.2s\tremaining: 7.79s\n",
      "805:\tlearn: 0.0798229\ttotal: 32.2s\tremaining: 7.75s\n",
      "806:\tlearn: 0.0798042\ttotal: 32.3s\tremaining: 7.71s\n",
      "807:\tlearn: 0.0797723\ttotal: 32.3s\tremaining: 7.67s\n",
      "808:\tlearn: 0.0797299\ttotal: 32.4s\tremaining: 7.64s\n",
      "809:\tlearn: 0.0797025\ttotal: 32.4s\tremaining: 7.6s\n",
      "810:\tlearn: 0.0796753\ttotal: 32.4s\tremaining: 7.56s\n",
      "811:\tlearn: 0.0796417\ttotal: 32.5s\tremaining: 7.52s\n",
      "812:\tlearn: 0.0796157\ttotal: 32.5s\tremaining: 7.48s\n",
      "813:\tlearn: 0.0795788\ttotal: 32.6s\tremaining: 7.44s\n",
      "814:\tlearn: 0.0795624\ttotal: 32.6s\tremaining: 7.4s\n",
      "815:\tlearn: 0.0795052\ttotal: 32.6s\tremaining: 7.36s\n",
      "816:\tlearn: 0.0794800\ttotal: 32.7s\tremaining: 7.32s\n",
      "817:\tlearn: 0.0794507\ttotal: 32.7s\tremaining: 7.28s\n",
      "818:\tlearn: 0.0794355\ttotal: 32.8s\tremaining: 7.24s\n",
      "819:\tlearn: 0.0794167\ttotal: 32.8s\tremaining: 7.2s\n",
      "820:\tlearn: 0.0793974\ttotal: 32.8s\tremaining: 7.16s\n",
      "821:\tlearn: 0.0793727\ttotal: 32.9s\tremaining: 7.12s\n",
      "822:\tlearn: 0.0793519\ttotal: 32.9s\tremaining: 7.08s\n",
      "823:\tlearn: 0.0793263\ttotal: 33s\tremaining: 7.04s\n",
      "824:\tlearn: 0.0792957\ttotal: 33s\tremaining: 7s\n",
      "825:\tlearn: 0.0792651\ttotal: 33s\tremaining: 6.96s\n",
      "826:\tlearn: 0.0792330\ttotal: 33.1s\tremaining: 6.92s\n",
      "827:\tlearn: 0.0792092\ttotal: 33.1s\tremaining: 6.88s\n",
      "828:\tlearn: 0.0791945\ttotal: 33.2s\tremaining: 6.84s\n",
      "829:\tlearn: 0.0791722\ttotal: 33.2s\tremaining: 6.8s\n",
      "830:\tlearn: 0.0791544\ttotal: 33.2s\tremaining: 6.76s\n",
      "831:\tlearn: 0.0791226\ttotal: 33.3s\tremaining: 6.72s\n",
      "832:\tlearn: 0.0791042\ttotal: 33.3s\tremaining: 6.68s\n",
      "833:\tlearn: 0.0790642\ttotal: 33.4s\tremaining: 6.64s\n",
      "834:\tlearn: 0.0790294\ttotal: 33.4s\tremaining: 6.6s\n",
      "835:\tlearn: 0.0789962\ttotal: 33.5s\tremaining: 6.56s\n",
      "836:\tlearn: 0.0789698\ttotal: 33.5s\tremaining: 6.52s\n",
      "837:\tlearn: 0.0789411\ttotal: 33.5s\tremaining: 6.48s\n",
      "838:\tlearn: 0.0789129\ttotal: 33.6s\tremaining: 6.44s\n",
      "839:\tlearn: 0.0788831\ttotal: 33.6s\tremaining: 6.4s\n",
      "840:\tlearn: 0.0788617\ttotal: 33.6s\tremaining: 6.36s\n",
      "841:\tlearn: 0.0788336\ttotal: 33.7s\tremaining: 6.32s\n",
      "842:\tlearn: 0.0788044\ttotal: 33.7s\tremaining: 6.28s\n",
      "843:\tlearn: 0.0787850\ttotal: 33.7s\tremaining: 6.24s\n",
      "844:\tlearn: 0.0787581\ttotal: 33.8s\tremaining: 6.2s\n",
      "845:\tlearn: 0.0787339\ttotal: 33.8s\tremaining: 6.16s\n",
      "846:\tlearn: 0.0787215\ttotal: 33.9s\tremaining: 6.12s\n",
      "847:\tlearn: 0.0786865\ttotal: 33.9s\tremaining: 6.08s\n",
      "848:\tlearn: 0.0786701\ttotal: 33.9s\tremaining: 6.04s\n",
      "849:\tlearn: 0.0786322\ttotal: 34s\tremaining: 6s\n",
      "850:\tlearn: 0.0786231\ttotal: 34s\tremaining: 5.96s\n",
      "851:\tlearn: 0.0786018\ttotal: 34.1s\tremaining: 5.92s\n",
      "852:\tlearn: 0.0785758\ttotal: 34.1s\tremaining: 5.88s\n",
      "853:\tlearn: 0.0785573\ttotal: 34.2s\tremaining: 5.84s\n",
      "854:\tlearn: 0.0785150\ttotal: 34.2s\tremaining: 5.8s\n",
      "855:\tlearn: 0.0784984\ttotal: 34.2s\tremaining: 5.76s\n",
      "856:\tlearn: 0.0784538\ttotal: 34.3s\tremaining: 5.72s\n",
      "857:\tlearn: 0.0784466\ttotal: 34.3s\tremaining: 5.68s\n",
      "858:\tlearn: 0.0784200\ttotal: 34.4s\tremaining: 5.64s\n",
      "859:\tlearn: 0.0784007\ttotal: 34.4s\tremaining: 5.6s\n",
      "860:\tlearn: 0.0783751\ttotal: 34.4s\tremaining: 5.56s\n",
      "861:\tlearn: 0.0783590\ttotal: 34.5s\tremaining: 5.52s\n",
      "862:\tlearn: 0.0783409\ttotal: 34.5s\tremaining: 5.48s\n",
      "863:\tlearn: 0.0782863\ttotal: 34.6s\tremaining: 5.44s\n",
      "864:\tlearn: 0.0782626\ttotal: 34.6s\tremaining: 5.4s\n",
      "865:\tlearn: 0.0782337\ttotal: 34.6s\tremaining: 5.36s\n",
      "866:\tlearn: 0.0781965\ttotal: 34.7s\tremaining: 5.32s\n",
      "867:\tlearn: 0.0781687\ttotal: 34.7s\tremaining: 5.28s\n",
      "868:\tlearn: 0.0781318\ttotal: 34.8s\tremaining: 5.24s\n",
      "869:\tlearn: 0.0781185\ttotal: 34.8s\tremaining: 5.2s\n",
      "870:\tlearn: 0.0780919\ttotal: 34.8s\tremaining: 5.16s\n",
      "871:\tlearn: 0.0780591\ttotal: 34.9s\tremaining: 5.12s\n",
      "872:\tlearn: 0.0780147\ttotal: 34.9s\tremaining: 5.08s\n",
      "873:\tlearn: 0.0779875\ttotal: 34.9s\tremaining: 5.04s\n",
      "874:\tlearn: 0.0779754\ttotal: 35s\tremaining: 5s\n",
      "875:\tlearn: 0.0779493\ttotal: 35s\tremaining: 4.95s\n",
      "876:\tlearn: 0.0779240\ttotal: 35.1s\tremaining: 4.92s\n",
      "877:\tlearn: 0.0778984\ttotal: 35.1s\tremaining: 4.88s\n",
      "878:\tlearn: 0.0778840\ttotal: 35.1s\tremaining: 4.83s\n",
      "879:\tlearn: 0.0778687\ttotal: 35.2s\tremaining: 4.79s\n",
      "880:\tlearn: 0.0778408\ttotal: 35.2s\tremaining: 4.75s\n",
      "881:\tlearn: 0.0778117\ttotal: 35.3s\tremaining: 4.72s\n",
      "882:\tlearn: 0.0778024\ttotal: 35.3s\tremaining: 4.67s\n",
      "883:\tlearn: 0.0777813\ttotal: 35.3s\tremaining: 4.63s\n",
      "884:\tlearn: 0.0777392\ttotal: 35.4s\tremaining: 4.59s\n",
      "885:\tlearn: 0.0777191\ttotal: 35.4s\tremaining: 4.55s\n",
      "886:\tlearn: 0.0777020\ttotal: 35.4s\tremaining: 4.51s\n",
      "887:\tlearn: 0.0776841\ttotal: 35.5s\tremaining: 4.47s\n",
      "888:\tlearn: 0.0776740\ttotal: 35.5s\tremaining: 4.43s\n",
      "889:\tlearn: 0.0776463\ttotal: 35.6s\tremaining: 4.39s\n",
      "890:\tlearn: 0.0776248\ttotal: 35.6s\tremaining: 4.35s\n",
      "891:\tlearn: 0.0776093\ttotal: 35.6s\tremaining: 4.32s\n",
      "892:\tlearn: 0.0775905\ttotal: 35.7s\tremaining: 4.28s\n",
      "893:\tlearn: 0.0775610\ttotal: 35.7s\tremaining: 4.24s\n",
      "894:\tlearn: 0.0775453\ttotal: 35.8s\tremaining: 4.2s\n",
      "895:\tlearn: 0.0775312\ttotal: 35.8s\tremaining: 4.16s\n",
      "896:\tlearn: 0.0775255\ttotal: 35.9s\tremaining: 4.12s\n",
      "897:\tlearn: 0.0774719\ttotal: 35.9s\tremaining: 4.08s\n",
      "898:\tlearn: 0.0774617\ttotal: 36s\tremaining: 4.04s\n",
      "899:\tlearn: 0.0774398\ttotal: 36s\tremaining: 4s\n",
      "900:\tlearn: 0.0774228\ttotal: 36.1s\tremaining: 3.96s\n",
      "901:\tlearn: 0.0774015\ttotal: 36.1s\tremaining: 3.92s\n",
      "902:\tlearn: 0.0773787\ttotal: 36.1s\tremaining: 3.88s\n",
      "903:\tlearn: 0.0773684\ttotal: 36.2s\tremaining: 3.84s\n",
      "904:\tlearn: 0.0773408\ttotal: 36.2s\tremaining: 3.8s\n",
      "905:\tlearn: 0.0773276\ttotal: 36.3s\tremaining: 3.76s\n",
      "906:\tlearn: 0.0773126\ttotal: 36.3s\tremaining: 3.73s\n",
      "907:\tlearn: 0.0772881\ttotal: 36.4s\tremaining: 3.69s\n",
      "908:\tlearn: 0.0772719\ttotal: 36.4s\tremaining: 3.65s\n",
      "909:\tlearn: 0.0772585\ttotal: 36.5s\tremaining: 3.61s\n",
      "910:\tlearn: 0.0772394\ttotal: 36.5s\tremaining: 3.57s\n",
      "911:\tlearn: 0.0772251\ttotal: 36.6s\tremaining: 3.53s\n",
      "912:\tlearn: 0.0772251\ttotal: 36.6s\tremaining: 3.49s\n",
      "913:\tlearn: 0.0772074\ttotal: 36.6s\tremaining: 3.45s\n",
      "914:\tlearn: 0.0771955\ttotal: 36.7s\tremaining: 3.41s\n",
      "915:\tlearn: 0.0771749\ttotal: 36.7s\tremaining: 3.37s\n",
      "916:\tlearn: 0.0771585\ttotal: 36.8s\tremaining: 3.33s\n",
      "917:\tlearn: 0.0771413\ttotal: 36.9s\tremaining: 3.29s\n",
      "918:\tlearn: 0.0771138\ttotal: 36.9s\tremaining: 3.25s\n",
      "919:\tlearn: 0.0770928\ttotal: 36.9s\tremaining: 3.21s\n",
      "920:\tlearn: 0.0770792\ttotal: 37s\tremaining: 3.17s\n",
      "921:\tlearn: 0.0770730\ttotal: 37s\tremaining: 3.13s\n",
      "922:\tlearn: 0.0770498\ttotal: 37.1s\tremaining: 3.09s\n",
      "923:\tlearn: 0.0770394\ttotal: 37.2s\tremaining: 3.06s\n",
      "924:\tlearn: 0.0770017\ttotal: 37.2s\tremaining: 3.02s\n",
      "925:\tlearn: 0.0769684\ttotal: 37.3s\tremaining: 2.98s\n",
      "926:\tlearn: 0.0769285\ttotal: 37.3s\tremaining: 2.94s\n",
      "927:\tlearn: 0.0769110\ttotal: 37.4s\tremaining: 2.9s\n",
      "928:\tlearn: 0.0768923\ttotal: 37.4s\tremaining: 2.86s\n",
      "929:\tlearn: 0.0768784\ttotal: 37.4s\tremaining: 2.82s\n",
      "930:\tlearn: 0.0768536\ttotal: 37.5s\tremaining: 2.78s\n",
      "931:\tlearn: 0.0768475\ttotal: 37.5s\tremaining: 2.74s\n",
      "932:\tlearn: 0.0768312\ttotal: 37.6s\tremaining: 2.7s\n",
      "933:\tlearn: 0.0768156\ttotal: 37.6s\tremaining: 2.66s\n",
      "934:\tlearn: 0.0767800\ttotal: 37.6s\tremaining: 2.62s\n",
      "935:\tlearn: 0.0767495\ttotal: 37.7s\tremaining: 2.58s\n",
      "936:\tlearn: 0.0767280\ttotal: 37.7s\tremaining: 2.54s\n",
      "937:\tlearn: 0.0767055\ttotal: 37.8s\tremaining: 2.5s\n",
      "938:\tlearn: 0.0766498\ttotal: 37.8s\tremaining: 2.46s\n",
      "939:\tlearn: 0.0766306\ttotal: 37.8s\tremaining: 2.42s\n",
      "940:\tlearn: 0.0766173\ttotal: 37.9s\tremaining: 2.37s\n",
      "941:\tlearn: 0.0766003\ttotal: 37.9s\tremaining: 2.33s\n",
      "942:\tlearn: 0.0765799\ttotal: 38s\tremaining: 2.29s\n",
      "943:\tlearn: 0.0765651\ttotal: 38s\tremaining: 2.25s\n",
      "944:\tlearn: 0.0765518\ttotal: 38s\tremaining: 2.21s\n",
      "945:\tlearn: 0.0765267\ttotal: 38.1s\tremaining: 2.17s\n",
      "946:\tlearn: 0.0765165\ttotal: 38.1s\tremaining: 2.13s\n",
      "947:\tlearn: 0.0765020\ttotal: 38.1s\tremaining: 2.09s\n",
      "948:\tlearn: 0.0764744\ttotal: 38.2s\tremaining: 2.05s\n",
      "949:\tlearn: 0.0764635\ttotal: 38.2s\tremaining: 2.01s\n",
      "950:\tlearn: 0.0764224\ttotal: 38.2s\tremaining: 1.97s\n",
      "951:\tlearn: 0.0763955\ttotal: 38.3s\tremaining: 1.93s\n",
      "952:\tlearn: 0.0763667\ttotal: 38.3s\tremaining: 1.89s\n",
      "953:\tlearn: 0.0763543\ttotal: 38.4s\tremaining: 1.85s\n",
      "954:\tlearn: 0.0763501\ttotal: 38.4s\tremaining: 1.81s\n",
      "955:\tlearn: 0.0763164\ttotal: 38.4s\tremaining: 1.77s\n",
      "956:\tlearn: 0.0762985\ttotal: 38.5s\tremaining: 1.73s\n",
      "957:\tlearn: 0.0762672\ttotal: 38.5s\tremaining: 1.69s\n",
      "958:\tlearn: 0.0762508\ttotal: 38.5s\tremaining: 1.65s\n",
      "959:\tlearn: 0.0762401\ttotal: 38.6s\tremaining: 1.61s\n",
      "960:\tlearn: 0.0762144\ttotal: 38.6s\tremaining: 1.57s\n",
      "961:\tlearn: 0.0761773\ttotal: 38.6s\tremaining: 1.53s\n",
      "962:\tlearn: 0.0761586\ttotal: 38.7s\tremaining: 1.49s\n"
     ]
    },
    {
     "name": "stdout",
     "output_type": "stream",
     "text": [
      "963:\tlearn: 0.0761284\ttotal: 38.7s\tremaining: 1.45s\n",
      "964:\tlearn: 0.0761108\ttotal: 38.8s\tremaining: 1.41s\n",
      "965:\tlearn: 0.0760988\ttotal: 38.8s\tremaining: 1.36s\n",
      "966:\tlearn: 0.0760906\ttotal: 38.8s\tremaining: 1.32s\n",
      "967:\tlearn: 0.0760669\ttotal: 38.9s\tremaining: 1.28s\n",
      "968:\tlearn: 0.0760517\ttotal: 38.9s\tremaining: 1.24s\n",
      "969:\tlearn: 0.0760336\ttotal: 38.9s\tremaining: 1.2s\n",
      "970:\tlearn: 0.0760178\ttotal: 39s\tremaining: 1.16s\n",
      "971:\tlearn: 0.0760049\ttotal: 39s\tremaining: 1.12s\n",
      "972:\tlearn: 0.0759904\ttotal: 39s\tremaining: 1.08s\n",
      "973:\tlearn: 0.0759603\ttotal: 39.1s\tremaining: 1.04s\n",
      "974:\tlearn: 0.0759329\ttotal: 39.1s\tremaining: 1s\n",
      "975:\tlearn: 0.0758923\ttotal: 39.1s\tremaining: 963ms\n",
      "976:\tlearn: 0.0758660\ttotal: 39.2s\tremaining: 922ms\n",
      "977:\tlearn: 0.0758484\ttotal: 39.2s\tremaining: 882ms\n",
      "978:\tlearn: 0.0758406\ttotal: 39.2s\tremaining: 842ms\n",
      "979:\tlearn: 0.0758178\ttotal: 39.3s\tremaining: 802ms\n",
      "980:\tlearn: 0.0757900\ttotal: 39.3s\tremaining: 762ms\n",
      "981:\tlearn: 0.0757738\ttotal: 39.4s\tremaining: 721ms\n",
      "982:\tlearn: 0.0757519\ttotal: 39.4s\tremaining: 681ms\n",
      "983:\tlearn: 0.0757238\ttotal: 39.4s\tremaining: 641ms\n",
      "984:\tlearn: 0.0757171\ttotal: 39.5s\tremaining: 601ms\n",
      "985:\tlearn: 0.0756833\ttotal: 39.5s\tremaining: 561ms\n",
      "986:\tlearn: 0.0756681\ttotal: 39.5s\tremaining: 521ms\n",
      "987:\tlearn: 0.0756400\ttotal: 39.6s\tremaining: 481ms\n",
      "988:\tlearn: 0.0755958\ttotal: 39.6s\tremaining: 441ms\n",
      "989:\tlearn: 0.0755718\ttotal: 39.6s\tremaining: 400ms\n",
      "990:\tlearn: 0.0755604\ttotal: 39.7s\tremaining: 360ms\n",
      "991:\tlearn: 0.0755376\ttotal: 39.7s\tremaining: 320ms\n",
      "992:\tlearn: 0.0755153\ttotal: 39.8s\tremaining: 280ms\n",
      "993:\tlearn: 0.0754844\ttotal: 39.8s\tremaining: 240ms\n",
      "994:\tlearn: 0.0754666\ttotal: 39.8s\tremaining: 200ms\n",
      "995:\tlearn: 0.0754541\ttotal: 39.9s\tremaining: 160ms\n",
      "996:\tlearn: 0.0754181\ttotal: 39.9s\tremaining: 120ms\n",
      "997:\tlearn: 0.0753978\ttotal: 39.9s\tremaining: 80ms\n",
      "998:\tlearn: 0.0753811\ttotal: 40s\tremaining: 40ms\n",
      "999:\tlearn: 0.0753590\ttotal: 40s\tremaining: 0us\n"
     ]
    },
    {
     "data": {
      "text/plain": [
       "<catboost.core.CatBoostClassifier at 0x27d10707f40>"
      ]
     },
     "execution_count": 102,
     "metadata": {},
     "output_type": "execute_result"
    }
   ],
   "source": [
    "from catboost import CatBoostClassifier\n",
    "\n",
    "model_cb = CatBoostClassifier(random_state=42)\n",
    "model_cb.fit(X_train, y_train)"
   ]
  },
  {
   "cell_type": "code",
   "execution_count": 103,
   "metadata": {},
   "outputs": [
    {
     "name": "stdout",
     "output_type": "stream",
     "text": [
      "[[14230   343]\n",
      " [  692 10711]]\n"
     ]
    }
   ],
   "source": [
    "y_pred = model_cb.predict(X_test)\n",
    "conf_matrix = confusion_matrix(y_test, y_pred)\n",
    "print(conf_matrix)"
   ]
  },
  {
   "cell_type": "code",
   "execution_count": 104,
   "metadata": {},
   "outputs": [
    {
     "name": "stdout",
     "output_type": "stream",
     "text": [
      "True Negative:  14230\n",
      "False Positive:  343\n",
      "False Negative:  692\n",
      "True Positive:  10711\n"
     ]
    }
   ],
   "source": [
    "tn = conf_matrix[0][0]\n",
    "fp = conf_matrix[0][1]\n",
    "fn = conf_matrix[1][0]\n",
    "tp = conf_matrix[1][1]\n",
    "\n",
    "print(\"True Negative: \", tn)\n",
    "print(\"False Positive: \", fp)\n",
    "print(\"False Negative: \", fn)\n",
    "print(\"True Positive: \", tp)"
   ]
  },
  {
   "cell_type": "code",
   "execution_count": 105,
   "metadata": {},
   "outputs": [
    {
     "name": "stdout",
     "output_type": "stream",
     "text": [
      "Accuracy: 0.9601555281798583\n",
      "Precision: 0.9689705084132441\n",
      "Recall: 0.9393142155573094\n",
      "F-measure: 0.9539119205592911\n"
     ]
    }
   ],
   "source": [
    "accuracy = accuracy_score(y_test, y_pred)\n",
    "precision = metrics.precision_score(y_test, y_pred)\n",
    "recall = metrics.recall_score(y_test, y_pred)\n",
    "fmeasure = metrics.f1_score(y_test, y_pred)\n",
    "\n",
    "print(\"Accuracy:\", accuracy)\n",
    "print(\"Precision:\", precision)\n",
    "print(\"Recall:\", recall)\n",
    "print(\"F-measure:\", fmeasure)"
   ]
  },
  {
   "cell_type": "markdown",
   "metadata": {},
   "source": [
    "### 6.18 CatBoost with GridSearchCV\n",
    "\n",
    "Tuned Parameters: {'depth': 8, 'learning_rate': 0.1, 'n_estimators': 350}"
   ]
  },
  {
   "cell_type": "code",
   "execution_count": 106,
   "metadata": {},
   "outputs": [
    {
     "name": "stdout",
     "output_type": "stream",
     "text": [
      "0:\tlearn: 0.5177863\ttotal: 37.5ms\tremaining: 13.1s\n",
      "1:\tlearn: 0.4338036\ttotal: 74.3ms\tremaining: 12.9s\n",
      "2:\tlearn: 0.3538858\ttotal: 105ms\tremaining: 12.2s\n",
      "3:\tlearn: 0.3027540\ttotal: 136ms\tremaining: 11.8s\n",
      "4:\tlearn: 0.2770231\ttotal: 171ms\tremaining: 11.8s\n",
      "5:\tlearn: 0.2588304\ttotal: 206ms\tremaining: 11.8s\n",
      "6:\tlearn: 0.2369871\ttotal: 239ms\tremaining: 11.7s\n",
      "7:\tlearn: 0.2248739\ttotal: 284ms\tremaining: 12.1s\n",
      "8:\tlearn: 0.2159939\ttotal: 334ms\tremaining: 12.7s\n",
      "9:\tlearn: 0.2057484\ttotal: 384ms\tremaining: 13.1s\n",
      "10:\tlearn: 0.1961886\ttotal: 446ms\tremaining: 13.7s\n",
      "11:\tlearn: 0.1899643\ttotal: 500ms\tremaining: 14.1s\n",
      "12:\tlearn: 0.1821279\ttotal: 552ms\tremaining: 14.3s\n",
      "13:\tlearn: 0.1752288\ttotal: 622ms\tremaining: 14.9s\n",
      "14:\tlearn: 0.1699629\ttotal: 670ms\tremaining: 15s\n",
      "15:\tlearn: 0.1674179\ttotal: 724ms\tremaining: 15.1s\n",
      "16:\tlearn: 0.1647210\ttotal: 769ms\tremaining: 15.1s\n",
      "17:\tlearn: 0.1618256\ttotal: 826ms\tremaining: 15.2s\n",
      "18:\tlearn: 0.1583037\ttotal: 885ms\tremaining: 15.4s\n",
      "19:\tlearn: 0.1560197\ttotal: 940ms\tremaining: 15.5s\n",
      "20:\tlearn: 0.1542062\ttotal: 991ms\tremaining: 15.5s\n",
      "21:\tlearn: 0.1516261\ttotal: 1.04s\tremaining: 15.6s\n",
      "22:\tlearn: 0.1484273\ttotal: 1.1s\tremaining: 15.7s\n",
      "23:\tlearn: 0.1459751\ttotal: 1.15s\tremaining: 15.7s\n",
      "24:\tlearn: 0.1450581\ttotal: 1.2s\tremaining: 15.6s\n",
      "25:\tlearn: 0.1440188\ttotal: 1.25s\tremaining: 15.6s\n",
      "26:\tlearn: 0.1427230\ttotal: 1.32s\tremaining: 15.8s\n",
      "27:\tlearn: 0.1412326\ttotal: 1.38s\tremaining: 15.9s\n",
      "28:\tlearn: 0.1397596\ttotal: 1.45s\tremaining: 16s\n",
      "29:\tlearn: 0.1375994\ttotal: 1.5s\tremaining: 16s\n",
      "30:\tlearn: 0.1363739\ttotal: 1.56s\tremaining: 16s\n",
      "31:\tlearn: 0.1349378\ttotal: 1.61s\tremaining: 16s\n",
      "32:\tlearn: 0.1336936\ttotal: 1.68s\tremaining: 16.1s\n",
      "33:\tlearn: 0.1325102\ttotal: 1.74s\tremaining: 16.1s\n",
      "34:\tlearn: 0.1314959\ttotal: 1.78s\tremaining: 16.1s\n",
      "35:\tlearn: 0.1307543\ttotal: 1.84s\tremaining: 16.1s\n",
      "36:\tlearn: 0.1300783\ttotal: 1.91s\tremaining: 16.1s\n",
      "37:\tlearn: 0.1297782\ttotal: 1.95s\tremaining: 16s\n",
      "38:\tlearn: 0.1285707\ttotal: 2s\tremaining: 16s\n",
      "39:\tlearn: 0.1272939\ttotal: 2.06s\tremaining: 15.9s\n",
      "40:\tlearn: 0.1265337\ttotal: 2.12s\tremaining: 15.9s\n",
      "41:\tlearn: 0.1259248\ttotal: 2.17s\tremaining: 15.9s\n",
      "42:\tlearn: 0.1251555\ttotal: 2.21s\tremaining: 15.8s\n",
      "43:\tlearn: 0.1246421\ttotal: 2.27s\tremaining: 15.8s\n",
      "44:\tlearn: 0.1238454\ttotal: 2.32s\tremaining: 15.7s\n",
      "45:\tlearn: 0.1230515\ttotal: 2.38s\tremaining: 15.7s\n",
      "46:\tlearn: 0.1222705\ttotal: 2.43s\tremaining: 15.7s\n",
      "47:\tlearn: 0.1218347\ttotal: 2.5s\tremaining: 15.7s\n",
      "48:\tlearn: 0.1211156\ttotal: 2.55s\tremaining: 15.7s\n",
      "49:\tlearn: 0.1206441\ttotal: 2.6s\tremaining: 15.6s\n",
      "50:\tlearn: 0.1196865\ttotal: 2.65s\tremaining: 15.5s\n",
      "51:\tlearn: 0.1192499\ttotal: 2.71s\tremaining: 15.5s\n",
      "52:\tlearn: 0.1182771\ttotal: 2.77s\tremaining: 15.5s\n",
      "53:\tlearn: 0.1176629\ttotal: 2.82s\tremaining: 15.4s\n",
      "54:\tlearn: 0.1169510\ttotal: 2.87s\tremaining: 15.4s\n",
      "55:\tlearn: 0.1164828\ttotal: 2.92s\tremaining: 15.3s\n",
      "56:\tlearn: 0.1160202\ttotal: 2.99s\tremaining: 15.4s\n",
      "57:\tlearn: 0.1151068\ttotal: 3.04s\tremaining: 15.3s\n",
      "58:\tlearn: 0.1147153\ttotal: 3.1s\tremaining: 15.3s\n",
      "59:\tlearn: 0.1141740\ttotal: 3.16s\tremaining: 15.3s\n",
      "60:\tlearn: 0.1136928\ttotal: 3.22s\tremaining: 15.3s\n",
      "61:\tlearn: 0.1131736\ttotal: 3.27s\tremaining: 15.2s\n",
      "62:\tlearn: 0.1126238\ttotal: 3.31s\tremaining: 15.1s\n",
      "63:\tlearn: 0.1123293\ttotal: 3.36s\tremaining: 15s\n",
      "64:\tlearn: 0.1117334\ttotal: 3.42s\tremaining: 15s\n",
      "65:\tlearn: 0.1114895\ttotal: 3.47s\tremaining: 14.9s\n",
      "66:\tlearn: 0.1112347\ttotal: 3.53s\tremaining: 14.9s\n",
      "67:\tlearn: 0.1109924\ttotal: 3.59s\tremaining: 14.9s\n",
      "68:\tlearn: 0.1105566\ttotal: 3.64s\tremaining: 14.8s\n",
      "69:\tlearn: 0.1101243\ttotal: 3.7s\tremaining: 14.8s\n",
      "70:\tlearn: 0.1097620\ttotal: 3.76s\tremaining: 14.8s\n",
      "71:\tlearn: 0.1090806\ttotal: 3.81s\tremaining: 14.7s\n",
      "72:\tlearn: 0.1088691\ttotal: 3.88s\tremaining: 14.7s\n",
      "73:\tlearn: 0.1084852\ttotal: 3.96s\tremaining: 14.8s\n",
      "74:\tlearn: 0.1081840\ttotal: 4.04s\tremaining: 14.8s\n",
      "75:\tlearn: 0.1079193\ttotal: 4.11s\tremaining: 14.8s\n",
      "76:\tlearn: 0.1075184\ttotal: 4.16s\tremaining: 14.8s\n",
      "77:\tlearn: 0.1071311\ttotal: 4.22s\tremaining: 14.7s\n",
      "78:\tlearn: 0.1068916\ttotal: 4.27s\tremaining: 14.6s\n",
      "79:\tlearn: 0.1066500\ttotal: 4.32s\tremaining: 14.6s\n",
      "80:\tlearn: 0.1063732\ttotal: 4.38s\tremaining: 14.5s\n",
      "81:\tlearn: 0.1061858\ttotal: 4.42s\tremaining: 14.5s\n",
      "82:\tlearn: 0.1057232\ttotal: 4.48s\tremaining: 14.4s\n",
      "83:\tlearn: 0.1054200\ttotal: 4.54s\tremaining: 14.4s\n",
      "84:\tlearn: 0.1048634\ttotal: 4.6s\tremaining: 14.3s\n",
      "85:\tlearn: 0.1045665\ttotal: 4.65s\tremaining: 14.3s\n",
      "86:\tlearn: 0.1041935\ttotal: 4.71s\tremaining: 14.2s\n",
      "87:\tlearn: 0.1038895\ttotal: 4.77s\tremaining: 14.2s\n",
      "88:\tlearn: 0.1037452\ttotal: 4.83s\tremaining: 14.2s\n",
      "89:\tlearn: 0.1033196\ttotal: 4.89s\tremaining: 14.1s\n",
      "90:\tlearn: 0.1028723\ttotal: 4.96s\tremaining: 14.1s\n",
      "91:\tlearn: 0.1026960\ttotal: 5.03s\tremaining: 14.1s\n",
      "92:\tlearn: 0.1023254\ttotal: 5.09s\tremaining: 14.1s\n",
      "93:\tlearn: 0.1021228\ttotal: 5.16s\tremaining: 14s\n",
      "94:\tlearn: 0.1016375\ttotal: 5.22s\tremaining: 14s\n",
      "95:\tlearn: 0.1011516\ttotal: 5.29s\tremaining: 14s\n",
      "96:\tlearn: 0.1008848\ttotal: 5.35s\tremaining: 13.9s\n",
      "97:\tlearn: 0.1005768\ttotal: 5.41s\tremaining: 13.9s\n",
      "98:\tlearn: 0.1004137\ttotal: 5.46s\tremaining: 13.8s\n",
      "99:\tlearn: 0.1001953\ttotal: 5.52s\tremaining: 13.8s\n",
      "100:\tlearn: 0.1000224\ttotal: 5.58s\tremaining: 13.8s\n",
      "101:\tlearn: 0.0997263\ttotal: 5.64s\tremaining: 13.7s\n",
      "102:\tlearn: 0.0993820\ttotal: 5.7s\tremaining: 13.7s\n",
      "103:\tlearn: 0.0991887\ttotal: 5.75s\tremaining: 13.6s\n",
      "104:\tlearn: 0.0988886\ttotal: 5.81s\tremaining: 13.6s\n",
      "105:\tlearn: 0.0984825\ttotal: 5.87s\tremaining: 13.5s\n",
      "106:\tlearn: 0.0981529\ttotal: 5.93s\tremaining: 13.5s\n",
      "107:\tlearn: 0.0979084\ttotal: 5.98s\tremaining: 13.4s\n",
      "108:\tlearn: 0.0974835\ttotal: 6.03s\tremaining: 13.3s\n",
      "109:\tlearn: 0.0973155\ttotal: 6.08s\tremaining: 13.3s\n",
      "110:\tlearn: 0.0970620\ttotal: 6.14s\tremaining: 13.2s\n",
      "111:\tlearn: 0.0968955\ttotal: 6.2s\tremaining: 13.2s\n",
      "112:\tlearn: 0.0967049\ttotal: 6.25s\tremaining: 13.1s\n",
      "113:\tlearn: 0.0965592\ttotal: 6.31s\tremaining: 13.1s\n",
      "114:\tlearn: 0.0963790\ttotal: 6.38s\tremaining: 13s\n",
      "115:\tlearn: 0.0962823\ttotal: 6.43s\tremaining: 13s\n",
      "116:\tlearn: 0.0960682\ttotal: 6.49s\tremaining: 12.9s\n",
      "117:\tlearn: 0.0958370\ttotal: 6.54s\tremaining: 12.9s\n",
      "118:\tlearn: 0.0956467\ttotal: 6.6s\tremaining: 12.8s\n",
      "119:\tlearn: 0.0954101\ttotal: 6.66s\tremaining: 12.8s\n",
      "120:\tlearn: 0.0952221\ttotal: 6.71s\tremaining: 12.7s\n",
      "121:\tlearn: 0.0951248\ttotal: 6.77s\tremaining: 12.7s\n",
      "122:\tlearn: 0.0949048\ttotal: 6.82s\tremaining: 12.6s\n",
      "123:\tlearn: 0.0946736\ttotal: 6.88s\tremaining: 12.5s\n",
      "124:\tlearn: 0.0943800\ttotal: 6.95s\tremaining: 12.5s\n",
      "125:\tlearn: 0.0941885\ttotal: 7s\tremaining: 12.5s\n",
      "126:\tlearn: 0.0940791\ttotal: 7.06s\tremaining: 12.4s\n",
      "127:\tlearn: 0.0937622\ttotal: 7.12s\tremaining: 12.3s\n",
      "128:\tlearn: 0.0935790\ttotal: 7.17s\tremaining: 12.3s\n",
      "129:\tlearn: 0.0932926\ttotal: 7.23s\tremaining: 12.2s\n",
      "130:\tlearn: 0.0931091\ttotal: 7.28s\tremaining: 12.2s\n",
      "131:\tlearn: 0.0929414\ttotal: 7.34s\tremaining: 12.1s\n",
      "132:\tlearn: 0.0927502\ttotal: 7.39s\tremaining: 12.1s\n",
      "133:\tlearn: 0.0925944\ttotal: 7.45s\tremaining: 12s\n",
      "134:\tlearn: 0.0924609\ttotal: 7.5s\tremaining: 11.9s\n",
      "135:\tlearn: 0.0923052\ttotal: 7.56s\tremaining: 11.9s\n",
      "136:\tlearn: 0.0921638\ttotal: 7.61s\tremaining: 11.8s\n",
      "137:\tlearn: 0.0920230\ttotal: 7.67s\tremaining: 11.8s\n",
      "138:\tlearn: 0.0919530\ttotal: 7.72s\tremaining: 11.7s\n",
      "139:\tlearn: 0.0917798\ttotal: 7.78s\tremaining: 11.7s\n",
      "140:\tlearn: 0.0916489\ttotal: 7.83s\tremaining: 11.6s\n",
      "141:\tlearn: 0.0915678\ttotal: 7.88s\tremaining: 11.5s\n",
      "142:\tlearn: 0.0913828\ttotal: 7.93s\tremaining: 11.5s\n",
      "143:\tlearn: 0.0912336\ttotal: 7.99s\tremaining: 11.4s\n",
      "144:\tlearn: 0.0911008\ttotal: 8.04s\tremaining: 11.4s\n",
      "145:\tlearn: 0.0909878\ttotal: 8.1s\tremaining: 11.3s\n",
      "146:\tlearn: 0.0908102\ttotal: 8.14s\tremaining: 11.2s\n",
      "147:\tlearn: 0.0906969\ttotal: 8.19s\tremaining: 11.2s\n",
      "148:\tlearn: 0.0905852\ttotal: 8.25s\tremaining: 11.1s\n",
      "149:\tlearn: 0.0904208\ttotal: 8.3s\tremaining: 11.1s\n",
      "150:\tlearn: 0.0903420\ttotal: 8.35s\tremaining: 11s\n",
      "151:\tlearn: 0.0902122\ttotal: 8.41s\tremaining: 10.9s\n",
      "152:\tlearn: 0.0900756\ttotal: 8.46s\tremaining: 10.9s\n",
      "153:\tlearn: 0.0900228\ttotal: 8.51s\tremaining: 10.8s\n",
      "154:\tlearn: 0.0898296\ttotal: 8.56s\tremaining: 10.8s\n",
      "155:\tlearn: 0.0897243\ttotal: 8.61s\tremaining: 10.7s\n",
      "156:\tlearn: 0.0896139\ttotal: 8.66s\tremaining: 10.7s\n",
      "157:\tlearn: 0.0894156\ttotal: 8.72s\tremaining: 10.6s\n",
      "158:\tlearn: 0.0892593\ttotal: 8.77s\tremaining: 10.5s\n",
      "159:\tlearn: 0.0890918\ttotal: 8.83s\tremaining: 10.5s\n",
      "160:\tlearn: 0.0889559\ttotal: 8.88s\tremaining: 10.4s\n",
      "161:\tlearn: 0.0888489\ttotal: 8.94s\tremaining: 10.4s\n"
     ]
    },
    {
     "name": "stdout",
     "output_type": "stream",
     "text": [
      "162:\tlearn: 0.0886382\ttotal: 9s\tremaining: 10.3s\n",
      "163:\tlearn: 0.0885766\ttotal: 9.05s\tremaining: 10.3s\n",
      "164:\tlearn: 0.0884158\ttotal: 9.11s\tremaining: 10.2s\n",
      "165:\tlearn: 0.0883070\ttotal: 9.16s\tremaining: 10.2s\n",
      "166:\tlearn: 0.0881546\ttotal: 9.21s\tremaining: 10.1s\n",
      "167:\tlearn: 0.0879760\ttotal: 9.27s\tremaining: 10s\n",
      "168:\tlearn: 0.0878666\ttotal: 9.32s\tremaining: 9.98s\n",
      "169:\tlearn: 0.0877300\ttotal: 9.36s\tremaining: 9.91s\n",
      "170:\tlearn: 0.0876713\ttotal: 9.41s\tremaining: 9.85s\n",
      "171:\tlearn: 0.0876156\ttotal: 9.46s\tremaining: 9.79s\n",
      "172:\tlearn: 0.0875548\ttotal: 9.51s\tremaining: 9.73s\n",
      "173:\tlearn: 0.0873743\ttotal: 9.57s\tremaining: 9.68s\n",
      "174:\tlearn: 0.0871200\ttotal: 9.62s\tremaining: 9.62s\n",
      "175:\tlearn: 0.0869670\ttotal: 9.68s\tremaining: 9.57s\n",
      "176:\tlearn: 0.0868692\ttotal: 9.73s\tremaining: 9.51s\n",
      "177:\tlearn: 0.0867244\ttotal: 9.78s\tremaining: 9.45s\n",
      "178:\tlearn: 0.0866320\ttotal: 9.82s\tremaining: 9.38s\n",
      "179:\tlearn: 0.0865086\ttotal: 9.88s\tremaining: 9.33s\n",
      "180:\tlearn: 0.0863788\ttotal: 9.93s\tremaining: 9.27s\n",
      "181:\tlearn: 0.0862684\ttotal: 9.98s\tremaining: 9.21s\n",
      "182:\tlearn: 0.0861073\ttotal: 10s\tremaining: 9.16s\n",
      "183:\tlearn: 0.0860444\ttotal: 10.1s\tremaining: 9.11s\n",
      "184:\tlearn: 0.0859240\ttotal: 10.2s\tremaining: 9.06s\n",
      "185:\tlearn: 0.0857654\ttotal: 10.2s\tremaining: 9.02s\n",
      "186:\tlearn: 0.0855129\ttotal: 10.3s\tremaining: 8.98s\n",
      "187:\tlearn: 0.0853153\ttotal: 10.4s\tremaining: 8.94s\n",
      "188:\tlearn: 0.0852245\ttotal: 10.4s\tremaining: 8.88s\n",
      "189:\tlearn: 0.0851427\ttotal: 10.5s\tremaining: 8.83s\n",
      "190:\tlearn: 0.0850536\ttotal: 10.5s\tremaining: 8.78s\n",
      "191:\tlearn: 0.0848855\ttotal: 10.6s\tremaining: 8.72s\n",
      "192:\tlearn: 0.0847481\ttotal: 10.6s\tremaining: 8.66s\n",
      "193:\tlearn: 0.0845143\ttotal: 10.7s\tremaining: 8.61s\n",
      "194:\tlearn: 0.0844023\ttotal: 10.8s\tremaining: 8.55s\n",
      "195:\tlearn: 0.0842112\ttotal: 10.8s\tremaining: 8.49s\n",
      "196:\tlearn: 0.0840675\ttotal: 10.9s\tremaining: 8.43s\n",
      "197:\tlearn: 0.0839248\ttotal: 10.9s\tremaining: 8.37s\n",
      "198:\tlearn: 0.0837464\ttotal: 11s\tremaining: 8.31s\n",
      "199:\tlearn: 0.0836260\ttotal: 11s\tremaining: 8.25s\n",
      "200:\tlearn: 0.0835475\ttotal: 11.1s\tremaining: 8.2s\n",
      "201:\tlearn: 0.0834799\ttotal: 11.1s\tremaining: 8.14s\n",
      "202:\tlearn: 0.0833724\ttotal: 11.2s\tremaining: 8.09s\n",
      "203:\tlearn: 0.0832721\ttotal: 11.2s\tremaining: 8.02s\n",
      "204:\tlearn: 0.0832396\ttotal: 11.3s\tremaining: 7.96s\n",
      "205:\tlearn: 0.0831211\ttotal: 11.3s\tremaining: 7.92s\n",
      "206:\tlearn: 0.0830027\ttotal: 11.4s\tremaining: 7.86s\n",
      "207:\tlearn: 0.0828526\ttotal: 11.4s\tremaining: 7.81s\n",
      "208:\tlearn: 0.0827248\ttotal: 11.5s\tremaining: 7.77s\n",
      "209:\tlearn: 0.0825846\ttotal: 11.6s\tremaining: 7.73s\n",
      "210:\tlearn: 0.0824494\ttotal: 11.6s\tremaining: 7.67s\n",
      "211:\tlearn: 0.0823490\ttotal: 11.7s\tremaining: 7.63s\n",
      "212:\tlearn: 0.0822739\ttotal: 11.8s\tremaining: 7.57s\n",
      "213:\tlearn: 0.0820834\ttotal: 11.8s\tremaining: 7.52s\n",
      "214:\tlearn: 0.0819595\ttotal: 11.9s\tremaining: 7.46s\n",
      "215:\tlearn: 0.0818305\ttotal: 12s\tremaining: 7.42s\n",
      "216:\tlearn: 0.0816941\ttotal: 12s\tremaining: 7.37s\n",
      "217:\tlearn: 0.0816153\ttotal: 12.1s\tremaining: 7.31s\n",
      "218:\tlearn: 0.0814702\ttotal: 12.1s\tremaining: 7.26s\n",
      "219:\tlearn: 0.0812990\ttotal: 12.2s\tremaining: 7.2s\n",
      "220:\tlearn: 0.0811758\ttotal: 12.2s\tremaining: 7.14s\n",
      "221:\tlearn: 0.0810722\ttotal: 12.3s\tremaining: 7.09s\n",
      "222:\tlearn: 0.0809640\ttotal: 12.4s\tremaining: 7.04s\n",
      "223:\tlearn: 0.0808649\ttotal: 12.4s\tremaining: 6.98s\n",
      "224:\tlearn: 0.0807313\ttotal: 12.5s\tremaining: 6.93s\n",
      "225:\tlearn: 0.0806247\ttotal: 12.5s\tremaining: 6.88s\n",
      "226:\tlearn: 0.0805957\ttotal: 12.6s\tremaining: 6.83s\n",
      "227:\tlearn: 0.0805057\ttotal: 12.7s\tremaining: 6.77s\n",
      "228:\tlearn: 0.0804711\ttotal: 12.7s\tremaining: 6.72s\n",
      "229:\tlearn: 0.0803913\ttotal: 12.8s\tremaining: 6.66s\n",
      "230:\tlearn: 0.0803071\ttotal: 12.8s\tremaining: 6.6s\n",
      "231:\tlearn: 0.0801472\ttotal: 12.9s\tremaining: 6.55s\n",
      "232:\tlearn: 0.0798757\ttotal: 12.9s\tremaining: 6.5s\n",
      "233:\tlearn: 0.0798311\ttotal: 13s\tremaining: 6.44s\n",
      "234:\tlearn: 0.0796990\ttotal: 13.1s\tremaining: 6.39s\n",
      "235:\tlearn: 0.0796062\ttotal: 13.1s\tremaining: 6.33s\n",
      "236:\tlearn: 0.0795312\ttotal: 13.1s\tremaining: 6.27s\n",
      "237:\tlearn: 0.0794411\ttotal: 13.2s\tremaining: 6.21s\n",
      "238:\tlearn: 0.0793564\ttotal: 13.2s\tremaining: 6.15s\n",
      "239:\tlearn: 0.0792971\ttotal: 13.3s\tremaining: 6.09s\n",
      "240:\tlearn: 0.0791926\ttotal: 13.3s\tremaining: 6.03s\n",
      "241:\tlearn: 0.0790660\ttotal: 13.4s\tremaining: 5.97s\n",
      "242:\tlearn: 0.0788962\ttotal: 13.4s\tremaining: 5.91s\n",
      "243:\tlearn: 0.0788187\ttotal: 13.5s\tremaining: 5.85s\n",
      "244:\tlearn: 0.0787376\ttotal: 13.5s\tremaining: 5.79s\n",
      "245:\tlearn: 0.0785932\ttotal: 13.6s\tremaining: 5.74s\n",
      "246:\tlearn: 0.0785275\ttotal: 13.6s\tremaining: 5.68s\n",
      "247:\tlearn: 0.0784526\ttotal: 13.7s\tremaining: 5.62s\n",
      "248:\tlearn: 0.0783860\ttotal: 13.7s\tremaining: 5.56s\n",
      "249:\tlearn: 0.0782940\ttotal: 13.7s\tremaining: 5.5s\n",
      "250:\tlearn: 0.0782255\ttotal: 13.8s\tremaining: 5.44s\n",
      "251:\tlearn: 0.0781344\ttotal: 13.9s\tremaining: 5.39s\n",
      "252:\tlearn: 0.0780819\ttotal: 13.9s\tremaining: 5.33s\n",
      "253:\tlearn: 0.0780321\ttotal: 13.9s\tremaining: 5.27s\n",
      "254:\tlearn: 0.0779525\ttotal: 14s\tremaining: 5.21s\n",
      "255:\tlearn: 0.0777902\ttotal: 14.1s\tremaining: 5.16s\n",
      "256:\tlearn: 0.0777097\ttotal: 14.1s\tremaining: 5.1s\n",
      "257:\tlearn: 0.0776244\ttotal: 14.1s\tremaining: 5.04s\n",
      "258:\tlearn: 0.0775015\ttotal: 14.2s\tremaining: 4.99s\n",
      "259:\tlearn: 0.0774278\ttotal: 14.3s\tremaining: 4.93s\n",
      "260:\tlearn: 0.0773415\ttotal: 14.3s\tremaining: 4.87s\n",
      "261:\tlearn: 0.0772605\ttotal: 14.3s\tremaining: 4.81s\n",
      "262:\tlearn: 0.0771935\ttotal: 14.4s\tremaining: 4.76s\n",
      "263:\tlearn: 0.0771106\ttotal: 14.4s\tremaining: 4.7s\n",
      "264:\tlearn: 0.0770111\ttotal: 14.5s\tremaining: 4.64s\n",
      "265:\tlearn: 0.0769230\ttotal: 14.5s\tremaining: 4.58s\n",
      "266:\tlearn: 0.0768266\ttotal: 14.6s\tremaining: 4.53s\n",
      "267:\tlearn: 0.0767614\ttotal: 14.6s\tremaining: 4.47s\n",
      "268:\tlearn: 0.0766442\ttotal: 14.7s\tremaining: 4.42s\n",
      "269:\tlearn: 0.0765383\ttotal: 14.7s\tremaining: 4.36s\n",
      "270:\tlearn: 0.0764483\ttotal: 14.7s\tremaining: 4.3s\n",
      "271:\tlearn: 0.0763465\ttotal: 14.8s\tremaining: 4.25s\n",
      "272:\tlearn: 0.0761332\ttotal: 14.9s\tremaining: 4.19s\n",
      "273:\tlearn: 0.0760612\ttotal: 14.9s\tremaining: 4.13s\n",
      "274:\tlearn: 0.0759130\ttotal: 15s\tremaining: 4.08s\n",
      "275:\tlearn: 0.0758715\ttotal: 15s\tremaining: 4.02s\n",
      "276:\tlearn: 0.0756847\ttotal: 15.1s\tremaining: 3.97s\n",
      "277:\tlearn: 0.0756062\ttotal: 15.1s\tremaining: 3.91s\n",
      "278:\tlearn: 0.0754943\ttotal: 15.2s\tremaining: 3.86s\n",
      "279:\tlearn: 0.0753375\ttotal: 15.2s\tremaining: 3.8s\n",
      "280:\tlearn: 0.0752594\ttotal: 15.3s\tremaining: 3.75s\n",
      "281:\tlearn: 0.0751072\ttotal: 15.3s\tremaining: 3.69s\n",
      "282:\tlearn: 0.0750175\ttotal: 15.4s\tremaining: 3.64s\n",
      "283:\tlearn: 0.0749402\ttotal: 15.4s\tremaining: 3.59s\n",
      "284:\tlearn: 0.0749018\ttotal: 15.5s\tremaining: 3.54s\n",
      "285:\tlearn: 0.0747817\ttotal: 15.6s\tremaining: 3.48s\n",
      "286:\tlearn: 0.0746470\ttotal: 15.6s\tremaining: 3.43s\n",
      "287:\tlearn: 0.0745352\ttotal: 15.7s\tremaining: 3.37s\n",
      "288:\tlearn: 0.0744589\ttotal: 15.7s\tremaining: 3.31s\n",
      "289:\tlearn: 0.0743857\ttotal: 15.8s\tremaining: 3.26s\n",
      "290:\tlearn: 0.0743189\ttotal: 15.8s\tremaining: 3.2s\n",
      "291:\tlearn: 0.0742577\ttotal: 15.9s\tremaining: 3.15s\n",
      "292:\tlearn: 0.0742263\ttotal: 15.9s\tremaining: 3.09s\n",
      "293:\tlearn: 0.0741549\ttotal: 15.9s\tremaining: 3.04s\n",
      "294:\tlearn: 0.0740879\ttotal: 16s\tremaining: 2.98s\n",
      "295:\tlearn: 0.0739561\ttotal: 16s\tremaining: 2.93s\n",
      "296:\tlearn: 0.0738828\ttotal: 16.1s\tremaining: 2.87s\n",
      "297:\tlearn: 0.0737450\ttotal: 16.1s\tremaining: 2.81s\n",
      "298:\tlearn: 0.0736673\ttotal: 16.2s\tremaining: 2.76s\n",
      "299:\tlearn: 0.0735384\ttotal: 16.2s\tremaining: 2.7s\n",
      "300:\tlearn: 0.0734261\ttotal: 16.3s\tremaining: 2.65s\n",
      "301:\tlearn: 0.0733522\ttotal: 16.3s\tremaining: 2.59s\n",
      "302:\tlearn: 0.0732605\ttotal: 16.4s\tremaining: 2.54s\n",
      "303:\tlearn: 0.0731695\ttotal: 16.4s\tremaining: 2.48s\n",
      "304:\tlearn: 0.0731044\ttotal: 16.5s\tremaining: 2.43s\n",
      "305:\tlearn: 0.0730026\ttotal: 16.5s\tremaining: 2.37s\n",
      "306:\tlearn: 0.0729605\ttotal: 16.6s\tremaining: 2.32s\n",
      "307:\tlearn: 0.0729086\ttotal: 16.6s\tremaining: 2.26s\n",
      "308:\tlearn: 0.0728459\ttotal: 16.7s\tremaining: 2.21s\n",
      "309:\tlearn: 0.0728044\ttotal: 16.7s\tremaining: 2.15s\n",
      "310:\tlearn: 0.0727207\ttotal: 16.7s\tremaining: 2.1s\n",
      "311:\tlearn: 0.0726127\ttotal: 16.8s\tremaining: 2.05s\n",
      "312:\tlearn: 0.0725694\ttotal: 16.9s\tremaining: 1.99s\n",
      "313:\tlearn: 0.0724522\ttotal: 16.9s\tremaining: 1.94s\n",
      "314:\tlearn: 0.0723610\ttotal: 16.9s\tremaining: 1.88s\n",
      "315:\tlearn: 0.0722977\ttotal: 17s\tremaining: 1.83s\n",
      "316:\tlearn: 0.0722043\ttotal: 17s\tremaining: 1.77s\n",
      "317:\tlearn: 0.0721121\ttotal: 17.1s\tremaining: 1.72s\n",
      "318:\tlearn: 0.0720517\ttotal: 17.1s\tremaining: 1.66s\n",
      "319:\tlearn: 0.0718303\ttotal: 17.2s\tremaining: 1.61s\n",
      "320:\tlearn: 0.0717717\ttotal: 17.2s\tremaining: 1.56s\n",
      "321:\tlearn: 0.0716933\ttotal: 17.3s\tremaining: 1.5s\n"
     ]
    },
    {
     "name": "stdout",
     "output_type": "stream",
     "text": [
      "322:\tlearn: 0.0716162\ttotal: 17.3s\tremaining: 1.45s\n",
      "323:\tlearn: 0.0715614\ttotal: 17.4s\tremaining: 1.39s\n",
      "324:\tlearn: 0.0714787\ttotal: 17.4s\tremaining: 1.34s\n",
      "325:\tlearn: 0.0713759\ttotal: 17.5s\tremaining: 1.28s\n",
      "326:\tlearn: 0.0712618\ttotal: 17.5s\tremaining: 1.23s\n",
      "327:\tlearn: 0.0712119\ttotal: 17.6s\tremaining: 1.18s\n",
      "328:\tlearn: 0.0711135\ttotal: 17.6s\tremaining: 1.12s\n",
      "329:\tlearn: 0.0710181\ttotal: 17.7s\tremaining: 1.07s\n",
      "330:\tlearn: 0.0709609\ttotal: 17.7s\tremaining: 1.01s\n",
      "331:\tlearn: 0.0709153\ttotal: 17.8s\tremaining: 962ms\n",
      "332:\tlearn: 0.0708547\ttotal: 17.8s\tremaining: 909ms\n",
      "333:\tlearn: 0.0707435\ttotal: 17.8s\tremaining: 855ms\n",
      "334:\tlearn: 0.0706453\ttotal: 17.9s\tremaining: 801ms\n",
      "335:\tlearn: 0.0705601\ttotal: 17.9s\tremaining: 748ms\n",
      "336:\tlearn: 0.0704677\ttotal: 18s\tremaining: 694ms\n",
      "337:\tlearn: 0.0704324\ttotal: 18s\tremaining: 640ms\n",
      "338:\tlearn: 0.0703670\ttotal: 18.1s\tremaining: 587ms\n",
      "339:\tlearn: 0.0703096\ttotal: 18.1s\tremaining: 533ms\n",
      "340:\tlearn: 0.0702229\ttotal: 18.2s\tremaining: 480ms\n",
      "341:\tlearn: 0.0701338\ttotal: 18.2s\tremaining: 426ms\n",
      "342:\tlearn: 0.0700395\ttotal: 18.3s\tremaining: 373ms\n",
      "343:\tlearn: 0.0700033\ttotal: 18.3s\tremaining: 320ms\n",
      "344:\tlearn: 0.0698588\ttotal: 18.4s\tremaining: 266ms\n",
      "345:\tlearn: 0.0697332\ttotal: 18.4s\tremaining: 213ms\n",
      "346:\tlearn: 0.0696739\ttotal: 18.5s\tremaining: 160ms\n",
      "347:\tlearn: 0.0696166\ttotal: 18.5s\tremaining: 106ms\n",
      "348:\tlearn: 0.0695331\ttotal: 18.6s\tremaining: 53.2ms\n",
      "349:\tlearn: 0.0694913\ttotal: 18.6s\tremaining: 0us\n"
     ]
    },
    {
     "data": {
      "text/plain": [
       "GridSearchCV(cv=10,\n",
       "             estimator=<catboost.core.CatBoostClassifier object at 0x0000027D106F1D00>,\n",
       "             n_jobs=-1,\n",
       "             param_grid={'depth': [5, 8, 15], 'learning_rate': [0.05, 0.1, 0.5],\n",
       "                         'n_estimators': [250, 350]})"
      ]
     },
     "execution_count": 106,
     "metadata": {},
     "output_type": "execute_result"
    }
   ],
   "source": [
    "param_grid = {'n_estimators': [250, 350],\n",
    "              'depth': [5, 8, 15],\n",
    "              'learning_rate': [0.05, 0.1, 0.5]}\n",
    "\n",
    "model_cb1 = CatBoostClassifier(random_state=42)\n",
    "grid = GridSearchCV(model_cb1, param_grid, n_jobs=-1, cv=10)\n",
    "grid.fit(X_train, y_train)"
   ]
  },
  {
   "cell_type": "code",
   "execution_count": 107,
   "metadata": {},
   "outputs": [
    {
     "name": "stdout",
     "output_type": "stream",
     "text": [
      "Best parameters found by grid search are: {'depth': 8, 'learning_rate': 0.1, 'n_estimators': 350}\n"
     ]
    }
   ],
   "source": [
    "print('Best parameters found by grid search are:', grid.best_params_)"
   ]
  },
  {
   "cell_type": "code",
   "execution_count": 108,
   "metadata": {},
   "outputs": [
    {
     "name": "stdout",
     "output_type": "stream",
     "text": [
      "[[14225   348]\n",
      " [  677 10726]]\n"
     ]
    }
   ],
   "source": [
    "y_pred = grid.predict(X_test)\n",
    "conf_matrix = confusion_matrix(y_test, y_pred)\n",
    "print(conf_matrix)"
   ]
  },
  {
   "cell_type": "code",
   "execution_count": 109,
   "metadata": {},
   "outputs": [
    {
     "name": "stdout",
     "output_type": "stream",
     "text": [
      "True Negative:  14225\n",
      "False Positive:  348\n",
      "False Negative:  677\n",
      "True Positive:  10726\n"
     ]
    }
   ],
   "source": [
    "tn = conf_matrix[0][0]\n",
    "fp = conf_matrix[0][1]\n",
    "fn = conf_matrix[1][0]\n",
    "tp = conf_matrix[1][1]\n",
    "\n",
    "print(\"True Negative: \", tn)\n",
    "print(\"False Positive: \", fp)\n",
    "print(\"False Negative: \", fn)\n",
    "print(\"True Positive: \", tp)"
   ]
  },
  {
   "cell_type": "code",
   "execution_count": 110,
   "metadata": {},
   "outputs": [
    {
     "name": "stdout",
     "output_type": "stream",
     "text": [
      "Accuracy: 0.9605404989220819\n",
      "Precision: 0.9685750406357233\n",
      "Recall: 0.940629658861703\n",
      "F-measure: 0.954397828891756\n"
     ]
    }
   ],
   "source": [
    "accuracy = accuracy_score(y_test, y_pred)\n",
    "precision = metrics.precision_score(y_test, y_pred)\n",
    "recall = metrics.recall_score(y_test, y_pred)\n",
    "fmeasure = metrics.f1_score(y_test, y_pred)\n",
    "\n",
    "print(\"Accuracy:\", accuracy)\n",
    "print(\"Precision:\", precision)\n",
    "print(\"Recall:\", recall)\n",
    "print(\"F-measure:\", fmeasure)"
   ]
  },
  {
   "cell_type": "code",
   "execution_count": 111,
   "metadata": {},
   "outputs": [
    {
     "name": "stdout",
     "output_type": "stream",
     "text": [
      "Train Error:  0.02694795195565136\n",
      "Test Error:  0.03945950107791807\n"
     ]
    }
   ],
   "source": [
    "# Predict X_train\n",
    "X_train_pred = grid.predict(X_train)\n",
    "\n",
    "# Accuracy against y_train\n",
    "train_accuracy = accuracy_score(y_train, X_train_pred)\n",
    "\n",
    "print(\"Train Error: \", 1 - train_accuracy)\n",
    "print(\"Test Error: \", 1 - accuracy)"
   ]
  },
  {
   "cell_type": "markdown",
   "metadata": {},
   "source": [
    "#### Key Takeaways\n",
    "<br>\n",
    "<div style=\"text-align: justify\">\n",
    "    With a ‘n_estimators’ of 350 and ‘depth’ of 8, it allows the model to learn the data better as more data is being captured. Moreover, for depth of tree, values in the range from 6 to 10 are recommended. In order to get the best possible quality, learning rate has been tuned to 0.1 which resulted in a lesser number of iterations required for training. This further helps to speed up the training and rate of convergence.\n",
    "</div>"
   ]
  },
  {
   "cell_type": "markdown",
   "metadata": {},
   "source": [
    "### 6.19 LightGBM w/o GridSearchCV\n",
    "<br>\n",
    "<div style=\"text-align: justify\">\n",
    "LightGBM is a fast and high performance gradient boosting framework based on decision tree algorithm. It adopts a histogram training algorithm and is capable of performing on large datasets with a reduction in training time (Khandelwal, 2017). This technique will choose the leaf with maximum delta loss to grow and when growing the same leaf (Mandot, 2017). \n",
    "</div>"
   ]
  },
  {
   "cell_type": "code",
   "execution_count": 112,
   "metadata": {},
   "outputs": [
    {
     "data": {
      "text/plain": [
       "LGBMClassifier(random_state=42)"
      ]
     },
     "execution_count": 112,
     "metadata": {},
     "output_type": "execute_result"
    }
   ],
   "source": [
    "import lightgbm as lgb\n",
    "from lightgbm import LGBMModel, LGBMClassifier\n",
    "\n",
    "model_lgb = LGBMClassifier(random_state=42) \n",
    "model_lgb.fit(X_train, y_train)"
   ]
  },
  {
   "cell_type": "code",
   "execution_count": 113,
   "metadata": {},
   "outputs": [
    {
     "name": "stdout",
     "output_type": "stream",
     "text": [
      "[[14188   385]\n",
      " [  743 10660]]\n"
     ]
    }
   ],
   "source": [
    "y_pred = model_lgb.predict(X_test)\n",
    "conf_matrix = confusion_matrix(y_test, y_pred)\n",
    "print(conf_matrix)"
   ]
  },
  {
   "cell_type": "code",
   "execution_count": 114,
   "metadata": {},
   "outputs": [
    {
     "name": "stdout",
     "output_type": "stream",
     "text": [
      "True Negative:  14188\n",
      "False Positive:  385\n",
      "False Negative:  743\n",
      "True Positive:  10660\n"
     ]
    }
   ],
   "source": [
    "tn = conf_matrix[0][0]\n",
    "fp = conf_matrix[0][1]\n",
    "fn = conf_matrix[1][0]\n",
    "tp = conf_matrix[1][1]\n",
    "\n",
    "print(\"True Negative: \", tn)\n",
    "print(\"False Positive: \", fp)\n",
    "print(\"False Negative: \", fn)\n",
    "print(\"True Positive: \", tp)"
   ]
  },
  {
   "cell_type": "code",
   "execution_count": 115,
   "metadata": {},
   "outputs": [
    {
     "name": "stdout",
     "output_type": "stream",
     "text": [
      "Accuracy: 0.956575300277179\n",
      "Precision: 0.965142598460842\n",
      "Recall: 0.9348417083223713\n",
      "F-measure: 0.9497505345687812\n"
     ]
    }
   ],
   "source": [
    "accuracy = accuracy_score(y_test, y_pred)\n",
    "precision = metrics.precision_score(y_test, y_pred)\n",
    "recall = metrics.recall_score(y_test, y_pred)\n",
    "fmeasure = metrics.f1_score(y_test, y_pred)\n",
    "\n",
    "print(\"Accuracy:\", accuracy)\n",
    "print(\"Precision:\", precision)\n",
    "print(\"Recall:\", recall)\n",
    "print(\"F-measure:\", fmeasure)"
   ]
  },
  {
   "cell_type": "markdown",
   "metadata": {},
   "source": [
    "### 6.20 LightGBM with GridSearchCV\n",
    "\n",
    "Tuned Parameters: {'feature_fraction': 0.8, 'max_depth': 20, 'num_iterations': 300, 'num_leaves': 55}"
   ]
  },
  {
   "cell_type": "code",
   "execution_count": 116,
   "metadata": {},
   "outputs": [
    {
     "name": "stderr",
     "output_type": "stream",
     "text": [
      "C:\\Users\\Ong Yan Ning\\Anaconda3\\lib\\site-packages\\lightgbm\\engine.py:151: UserWarning: Found `num_iterations` in params. Will use it instead of argument\n",
      "  warnings.warn(\"Found `{}` in params. Will use it instead of argument\".format(alias))\n"
     ]
    },
    {
     "name": "stdout",
     "output_type": "stream",
     "text": [
      "[LightGBM] [Warning] feature_fraction is set=0.8, colsample_bytree=1.0 will be ignored. Current value: feature_fraction=0.8\n"
     ]
    },
    {
     "data": {
      "text/plain": [
       "GridSearchCV(cv=10, estimator=LGBMClassifier(random_state=42), n_jobs=-1,\n",
       "             param_grid={'feature_fraction': [0.6, 0.7, 0.8],\n",
       "                         'max_depth': [20, 30, 40],\n",
       "                         'num_iterations': [100, 200, 300],\n",
       "                         'num_leaves': [35, 45, 55]})"
      ]
     },
     "execution_count": 116,
     "metadata": {},
     "output_type": "execute_result"
    }
   ],
   "source": [
    "param_grid = {'max_depth': [20, 30, 40], \n",
    "              'num_leaves': [35, 45, 55], \n",
    "              'num_iterations': [100, 200, 300],  \n",
    "              'feature_fraction' : [0.6, 0.7, 0.8]}\n",
    "\n",
    "model_lgb1 = LGBMClassifier(random_state=42)\n",
    "grid = GridSearchCV(model_lgb1, param_grid, n_jobs=-1, cv=10)                  \n",
    "grid.fit(X_train, y_train)"
   ]
  },
  {
   "cell_type": "code",
   "execution_count": 117,
   "metadata": {},
   "outputs": [
    {
     "name": "stdout",
     "output_type": "stream",
     "text": [
      "Best parameters found by grid search are: {'feature_fraction': 0.8, 'max_depth': 20, 'num_iterations': 300, 'num_leaves': 55}\n"
     ]
    }
   ],
   "source": [
    "print('Best parameters found by grid search are:', grid.best_params_)"
   ]
  },
  {
   "cell_type": "code",
   "execution_count": 118,
   "metadata": {},
   "outputs": [
    {
     "name": "stdout",
     "output_type": "stream",
     "text": [
      "[[14216   357]\n",
      " [  681 10722]]\n"
     ]
    }
   ],
   "source": [
    "y_pred = grid.predict(X_test)\n",
    "conf_matrix = confusion_matrix(y_test, y_pred)\n",
    "print(conf_matrix)"
   ]
  },
  {
   "cell_type": "code",
   "execution_count": 119,
   "metadata": {},
   "outputs": [
    {
     "name": "stdout",
     "output_type": "stream",
     "text": [
      "True Negative:  14216\n",
      "False Positive:  357\n",
      "False Negative:  681\n",
      "True Positive:  10722\n"
     ]
    }
   ],
   "source": [
    "tn = conf_matrix[0][0]\n",
    "fp = conf_matrix[0][1]\n",
    "fn = conf_matrix[1][0]\n",
    "tp = conf_matrix[1][1]\n",
    "\n",
    "print(\"True Negative: \", tn)\n",
    "print(\"False Positive: \", fp)\n",
    "print(\"False Negative: \", fn)\n",
    "print(\"True Positive: \", tp)"
   ]
  },
  {
   "cell_type": "code",
   "execution_count": 120,
   "metadata": {},
   "outputs": [
    {
     "name": "stdout",
     "output_type": "stream",
     "text": [
      "Accuracy: 0.9600400369571912\n",
      "Precision: 0.967776875169239\n",
      "Recall: 0.9402788739805314\n",
      "F-measure: 0.9538297304510275\n"
     ]
    }
   ],
   "source": [
    "accuracy = accuracy_score(y_test, y_pred)\n",
    "precision = metrics.precision_score(y_test, y_pred)\n",
    "recall = metrics.recall_score(y_test, y_pred)\n",
    "fmeasure = metrics.f1_score(y_test, y_pred)\n",
    "\n",
    "print(\"Accuracy:\", accuracy)\n",
    "print(\"Precision:\", precision)\n",
    "print(\"Recall:\", recall)\n",
    "print(\"F-measure:\", fmeasure)"
   ]
  },
  {
   "cell_type": "code",
   "execution_count": 121,
   "metadata": {},
   "outputs": [
    {
     "name": "stdout",
     "output_type": "stream",
     "text": [
      "Train Error:  0.024445642131198042\n",
      "Test Error:  0.0399599630428088\n"
     ]
    }
   ],
   "source": [
    "# Predict X_train\n",
    "X_train_pred = grid.predict(X_train)\n",
    "\n",
    "# Accuracy against y_train\n",
    "train_accuracy = accuracy_score(y_train, X_train_pred)\n",
    "\n",
    "print(\"Train Error: \", 1 - train_accuracy)\n",
    "print(\"Test Error: \", 1 - accuracy)"
   ]
  },
  {
   "cell_type": "markdown",
   "metadata": {},
   "source": [
    "#### Key Takeaways\n",
    "<br>\n",
    "<div style=\"text-align: justify\">\n",
    "    While it is understood that it is better to fine-tune the max_depth to a larger value, it is important to take note that this might lead to a possibility of overfitting. The reason why \"num_leaves\" was chosen as one of the parameters to fine-tune is because it aids in controlling the complexity of the model.\n",
    "</div>"
   ]
  },
  {
   "cell_type": "markdown",
   "metadata": {},
   "source": [
    "### 6.21 SVM with Linear Kernel\n",
    "<br>\n",
    "<div style=\"text-align: justify\">\n",
    "The objective of SVM is to find a hyperplane in an N-dimensional space that distinctly classifies the data points. SVM works better with two dimensional space which are linearly separable and for non-linear data, Kernel Trick such as Radial Basis Function (RBF) is used. \n",
    "</div>"
   ]
  },
  {
   "cell_type": "code",
   "execution_count": 122,
   "metadata": {},
   "outputs": [
    {
     "data": {
      "text/plain": [
       "SVC(kernel='linear', random_state=42)"
      ]
     },
     "execution_count": 122,
     "metadata": {},
     "output_type": "execute_result"
    }
   ],
   "source": [
    "from sklearn import svm\n",
    "\n",
    "model_svmlinear = svm.SVC(kernel='linear', random_state=42)\n",
    "model_svmlinear.fit(X_train, y_train)"
   ]
  },
  {
   "cell_type": "code",
   "execution_count": 123,
   "metadata": {},
   "outputs": [
    {
     "name": "stdout",
     "output_type": "stream",
     "text": [
      "[[13037  1536]\n",
      " [ 2154  9249]]\n"
     ]
    }
   ],
   "source": [
    "y_pred = model_svmlinear.predict(X_test)\n",
    "conf_matrix = confusion_matrix(y_test, y_pred)\n",
    "print(conf_matrix)"
   ]
  },
  {
   "cell_type": "code",
   "execution_count": 124,
   "metadata": {},
   "outputs": [
    {
     "name": "stdout",
     "output_type": "stream",
     "text": [
      "True Negative:  13037\n",
      "False Positive:  1536\n",
      "False Negative:  2154\n",
      "True Positive:  9249\n"
     ]
    }
   ],
   "source": [
    "tn = conf_matrix[0][0]\n",
    "fp = conf_matrix[0][1]\n",
    "fn = conf_matrix[1][0]\n",
    "tp = conf_matrix[1][1]\n",
    "\n",
    "print(\"True Negative: \", tn)\n",
    "print(\"False Positive: \", fp)\n",
    "print(\"False Negative: \", fn)\n",
    "print(\"True Positive: \", tp)"
   ]
  },
  {
   "cell_type": "code",
   "execution_count": 125,
   "metadata": {},
   "outputs": [
    {
     "name": "stdout",
     "output_type": "stream",
     "text": [
      "Accuracy: 0.857945796119495\n",
      "Precision: 0.8575799721835883\n",
      "Recall: 0.8111023414890818\n",
      "F-measure: 0.8336938885884262\n"
     ]
    }
   ],
   "source": [
    "accuracy = accuracy_score(y_test, y_pred)\n",
    "precision = metrics.precision_score(y_test, y_pred)\n",
    "recall = metrics.recall_score(y_test, y_pred)\n",
    "fmeasure = metrics.f1_score(y_test, y_pred)\n",
    "\n",
    "print(\"Accuracy:\", accuracy)\n",
    "print(\"Precision:\", precision)\n",
    "print(\"Recall:\", recall)\n",
    "print(\"F-measure:\", fmeasure)"
   ]
  },
  {
   "cell_type": "markdown",
   "metadata": {},
   "source": [
    "#### Key Takeaways\n",
    "<br>\n",
    "<div style=\"text-align: justify\">\n",
    "    After comparing SVM with linear kernel and SVM with radial basis fucntion (RBF) kernel, it is noted that SVM with RBF kernal performed much better with an accuracy of 88.5% and f-measure of 86.5%, as shown in the next section. <br><br>\n",
    "    This could be due to the nature of the dataset where it is not linearly separable and since the SVM with linear kernel is not able to find a hyperplane which maximises the margin, it is not able to give the optimal performance (Raschka, n.d.). On the other hand, the RBF kernel which is non-linear, creates non-linear combinations of the features and hence, shows better performance for our dataset. Thus, we will only be tuning the SVM model based on the RBF kernel.\n",
    "</div>"
   ]
  },
  {
   "cell_type": "markdown",
   "metadata": {},
   "source": [
    "### 6.22 SVM with RBF w/o GridSearchCV"
   ]
  },
  {
   "cell_type": "code",
   "execution_count": 126,
   "metadata": {},
   "outputs": [
    {
     "data": {
      "text/plain": [
       "SVC(random_state=42)"
      ]
     },
     "execution_count": 126,
     "metadata": {},
     "output_type": "execute_result"
    }
   ],
   "source": [
    "from sklearn import svm\n",
    "\n",
    "model_svmrbf = svm.SVC(kernel='rbf', random_state=42)\n",
    "model_svmrbf.fit(X_train, y_train)"
   ]
  },
  {
   "cell_type": "code",
   "execution_count": 127,
   "metadata": {},
   "outputs": [
    {
     "name": "stdout",
     "output_type": "stream",
     "text": [
      "[[13451  1122]\n",
      " [ 1866  9537]]\n"
     ]
    }
   ],
   "source": [
    "y_pred = model_svmrbf.predict(X_test)\n",
    "conf_matrix = confusion_matrix(y_test, y_pred)\n",
    "print(conf_matrix)"
   ]
  },
  {
   "cell_type": "code",
   "execution_count": 128,
   "metadata": {},
   "outputs": [
    {
     "name": "stdout",
     "output_type": "stream",
     "text": [
      "True Negative:  13451\n",
      "False Positive:  1122\n",
      "False Negative:  1866\n",
      "True Positive:  9537\n"
     ]
    }
   ],
   "source": [
    "tn = conf_matrix[0][0]\n",
    "fp = conf_matrix[0][1]\n",
    "fn = conf_matrix[1][0]\n",
    "tp = conf_matrix[1][1]\n",
    "\n",
    "print(\"True Negative: \", tn)\n",
    "print(\"False Positive: \", fp)\n",
    "print(\"False Negative: \", fn)\n",
    "print(\"True Positive: \", tp)"
   ]
  },
  {
   "cell_type": "code",
   "execution_count": 129,
   "metadata": {},
   "outputs": [
    {
     "name": "stdout",
     "output_type": "stream",
     "text": [
      "Accuracy: 0.884970742223591\n",
      "Precision: 0.8947368421052632\n",
      "Recall: 0.8363588529334386\n",
      "F-measure: 0.8645635028555888\n"
     ]
    }
   ],
   "source": [
    "accuracy = accuracy_score(y_test, y_pred)\n",
    "precision = metrics.precision_score(y_test, y_pred)\n",
    "recall = metrics.recall_score(y_test, y_pred)\n",
    "fmeasure = metrics.f1_score(y_test, y_pred)\n",
    "\n",
    "print(\"Accuracy:\", accuracy)\n",
    "print(\"Precision:\", precision)\n",
    "print(\"Recall:\", recall)\n",
    "print(\"F-measure:\", fmeasure)"
   ]
  },
  {
   "cell_type": "markdown",
   "metadata": {},
   "source": [
    "### 6.23 SVM with RBF with GridSearchCV\n",
    "\n",
    "Tuned Parameters: {'C': 1, 'gamma': 0.1}"
   ]
  },
  {
   "cell_type": "code",
   "execution_count": 130,
   "metadata": {},
   "outputs": [
    {
     "data": {
      "text/plain": [
       "GridSearchCV(cv=10, estimator=SVC(random_state=42), n_jobs=-1,\n",
       "             param_grid={'C': [0.1, 1], 'gamma': [0.1, 1, 'scale']})"
      ]
     },
     "execution_count": 130,
     "metadata": {},
     "output_type": "execute_result"
    }
   ],
   "source": [
    "param_grid = {'gamma':[0.1,1,'scale'],\n",
    "              'C':[0.1,1]}\n",
    "\n",
    "model_svmrbf1 = svm.SVC(kernel='rbf', random_state=42)\n",
    "grid = GridSearchCV(model_svmrbf1, param_grid, n_jobs=-1, cv=10)\n",
    "grid.fit(X_train, y_train)"
   ]
  },
  {
   "cell_type": "code",
   "execution_count": 131,
   "metadata": {},
   "outputs": [
    {
     "name": "stdout",
     "output_type": "stream",
     "text": [
      "Best parameters found by grid search are: {'C': 1, 'gamma': 0.1}\n"
     ]
    }
   ],
   "source": [
    "print('Best parameters found by grid search are:', grid.best_params_)"
   ]
  },
  {
   "cell_type": "code",
   "execution_count": 132,
   "metadata": {},
   "outputs": [
    {
     "name": "stdout",
     "output_type": "stream",
     "text": [
      "[[14047   526]\n",
      " [  917 10486]]\n"
     ]
    }
   ],
   "source": [
    "y_pred = grid.predict(X_test)\n",
    "conf_matrix = confusion_matrix(y_test, y_pred)\n",
    "print(conf_matrix)"
   ]
  },
  {
   "cell_type": "code",
   "execution_count": 133,
   "metadata": {},
   "outputs": [
    {
     "name": "stdout",
     "output_type": "stream",
     "text": [
      "True Negative:  14047\n",
      "False Positive:  526\n",
      "False Negative:  917\n",
      "True Positive:  10486\n"
     ]
    }
   ],
   "source": [
    "tn = conf_matrix[0][0]\n",
    "fp = conf_matrix[0][1]\n",
    "fn = conf_matrix[1][0]\n",
    "tp = conf_matrix[1][1]\n",
    "\n",
    "print(\"True Negative: \", tn)\n",
    "print(\"False Positive: \", fp)\n",
    "print(\"False Negative: \", fn)\n",
    "print(\"True Positive: \", tp)"
   ]
  },
  {
   "cell_type": "code",
   "execution_count": 134,
   "metadata": {},
   "outputs": [
    {
     "name": "stdout",
     "output_type": "stream",
     "text": [
      "Accuracy: 0.9444487218971358\n",
      "Precision: 0.9522339266254994\n",
      "Recall: 0.9195825659914058\n",
      "F-measure: 0.9356234664287307\n"
     ]
    }
   ],
   "source": [
    "accuracy = accuracy_score(y_test, y_pred)\n",
    "precision = metrics.precision_score(y_test, y_pred)\n",
    "recall = metrics.recall_score(y_test, y_pred)\n",
    "fmeasure = metrics.f1_score(y_test, y_pred)\n",
    "\n",
    "print(\"Accuracy:\", accuracy)\n",
    "print(\"Precision:\", precision)\n",
    "print(\"Recall:\", recall)\n",
    "print(\"F-measure:\", fmeasure)"
   ]
  },
  {
   "cell_type": "markdown",
   "metadata": {},
   "source": [
    "#### Key Takeaways\n",
    "<br>\n",
    "<div style=\"text-align: justify\">\n",
    "    Common parameters for tuning include C and Gamma with common values such as 0.1, 1, 10, 100 for both. Large values for C and Gamma will lead to overfitting, hence the value 100 is eliminated. Due to the limited computing power, value 10 for both parameters will not be included. The accuracy achieved through the GridsearchCV is lower by 0.001% compared to the base model without parameter tuning and this could be due to the number of cross validation used which led to different optimal values found.\n",
    "</div>"
   ]
  },
  {
   "cell_type": "markdown",
   "metadata": {},
   "source": [
    "### 6.24 Logistic Regression w/o GridSearchCV\n",
    "<br>\n",
    "<div style=\"text-align: justify\">\n",
    "Logistic regression is an increasingly popular statistical technique used to model and predict categorical outcome variables. Not only is it easy to apply, the conditional probabilities are determined through the training process, thus making training very efficient and valuable in the applications of customer relationship management. It is particularly well suited and frequently employed to assess and analyze customer behavior (Cui, 2018).\n",
    "</div>"
   ]
  },
  {
   "cell_type": "code",
   "execution_count": 135,
   "metadata": {},
   "outputs": [
    {
     "name": "stderr",
     "output_type": "stream",
     "text": [
      "C:\\Users\\Ong Yan Ning\\Anaconda3\\lib\\site-packages\\sklearn\\linear_model\\_logistic.py:762: ConvergenceWarning: lbfgs failed to converge (status=1):\n",
      "STOP: TOTAL NO. of ITERATIONS REACHED LIMIT.\n",
      "\n",
      "Increase the number of iterations (max_iter) or scale the data as shown in:\n",
      "    https://scikit-learn.org/stable/modules/preprocessing.html\n",
      "Please also refer to the documentation for alternative solver options:\n",
      "    https://scikit-learn.org/stable/modules/linear_model.html#logistic-regression\n",
      "  n_iter_i = _check_optimize_result(\n"
     ]
    },
    {
     "data": {
      "text/plain": [
       "LogisticRegression(random_state=42)"
      ]
     },
     "execution_count": 135,
     "metadata": {},
     "output_type": "execute_result"
    }
   ],
   "source": [
    "from sklearn.linear_model import LogisticRegression\n",
    "\n",
    "model_lg = LogisticRegression(random_state=42)\n",
    "model_lg.fit(X_train, y_train)"
   ]
  },
  {
   "cell_type": "code",
   "execution_count": 136,
   "metadata": {},
   "outputs": [
    {
     "name": "stdout",
     "output_type": "stream",
     "text": [
      "[[12840  1733]\n",
      " [ 2037  9366]]\n"
     ]
    }
   ],
   "source": [
    "y_pred = model_lg.predict(X_test)\n",
    "conf_matrix = confusion_matrix(y_test, y_pred)\n",
    "print(conf_matrix)"
   ]
  },
  {
   "cell_type": "code",
   "execution_count": 137,
   "metadata": {},
   "outputs": [
    {
     "name": "stdout",
     "output_type": "stream",
     "text": [
      "True Negative:  12840\n",
      "False Positive:  1733\n",
      "False Negative:  2037\n",
      "True Positive:  9366\n"
     ]
    }
   ],
   "source": [
    "tn = conf_matrix[0][0]\n",
    "fp = conf_matrix[0][1]\n",
    "fn = conf_matrix[1][0]\n",
    "tp = conf_matrix[1][1]\n",
    "\n",
    "print(\"True Negative: \", tn)\n",
    "print(\"False Positive: \", fp)\n",
    "print(\"False Negative: \", fn)\n",
    "print(\"True Positive: \", tp)"
   ]
  },
  {
   "cell_type": "code",
   "execution_count": 138,
   "metadata": {},
   "outputs": [
    {
     "name": "stdout",
     "output_type": "stream",
     "text": [
      "Accuracy: 0.8548660301817061\n",
      "Precision: 0.8438598071898369\n",
      "Recall: 0.8213627992633518\n",
      "F-measure: 0.8324593369478269\n"
     ]
    }
   ],
   "source": [
    "accuracy = accuracy_score(y_test, y_pred)\n",
    "precision = metrics.precision_score(y_test, y_pred)\n",
    "recall = metrics.recall_score(y_test, y_pred)\n",
    "fmeasure = metrics.f1_score(y_test, y_pred)\n",
    "\n",
    "print(\"Accuracy:\", accuracy)\n",
    "print(\"Precision:\", precision)\n",
    "print(\"Recall:\", recall)\n",
    "print(\"F-measure:\", fmeasure)"
   ]
  },
  {
   "cell_type": "markdown",
   "metadata": {},
   "source": [
    "### 6.25 Logistic Regression with GridSearchCV \n",
    "\n",
    "Tuned Parameters: {'C': 0.1, 'penalty': 'l1', 'solver': 'liblinear'}"
   ]
  },
  {
   "cell_type": "code",
   "execution_count": 139,
   "metadata": {},
   "outputs": [
    {
     "data": {
      "text/plain": [
       "GridSearchCV(cv=10, estimator=LogisticRegression(random_state=42), n_jobs=-1,\n",
       "             param_grid={'C': [0.001, 0.1, 1, 10],\n",
       "                         'penalty': ['l1', 'l2', 'elasticnet'],\n",
       "                         'solver': ['newton-cg', 'lbfgs', 'liblinear', 'sag',\n",
       "                                    'saga']})"
      ]
     },
     "execution_count": 139,
     "metadata": {},
     "output_type": "execute_result"
    }
   ],
   "source": [
    "param_grid = {'penalty' : ['l1', 'l2', 'elasticnet'],\n",
    "              'solver' : ['newton-cg', 'lbfgs', 'liblinear', 'sag','saga'],\n",
    "              'C': [0.001, 0.1, 1, 10]}\n",
    "\n",
    "model_lg1 = LogisticRegression(random_state=42)\n",
    "grid = GridSearchCV(model_lg1, param_grid, n_jobs=-1, cv=10)\n",
    "grid.fit(X_train, y_train)"
   ]
  },
  {
   "cell_type": "code",
   "execution_count": 140,
   "metadata": {},
   "outputs": [
    {
     "name": "stdout",
     "output_type": "stream",
     "text": [
      "Best parameters found by grid search are: {'C': 0.1, 'penalty': 'l1', 'solver': 'liblinear'}\n"
     ]
    }
   ],
   "source": [
    "print('Best parameters found by grid search are:', grid.best_params_)"
   ]
  },
  {
   "cell_type": "code",
   "execution_count": 141,
   "metadata": {},
   "outputs": [
    {
     "name": "stdout",
     "output_type": "stream",
     "text": [
      "[[12838  1735]\n",
      " [ 2036  9367]]\n"
     ]
    }
   ],
   "source": [
    "y_pred = grid.predict(X_test)\n",
    "conf_matrix = confusion_matrix(y_test, y_pred)\n",
    "print(conf_matrix)"
   ]
  },
  {
   "cell_type": "code",
   "execution_count": 142,
   "metadata": {},
   "outputs": [
    {
     "name": "stdout",
     "output_type": "stream",
     "text": [
      "True Negative:  12838\n",
      "False Positive:  1735\n",
      "False Negative:  2036\n",
      "True Positive:  9367\n"
     ]
    }
   ],
   "source": [
    "tn = conf_matrix[0][0]\n",
    "fp = conf_matrix[0][1]\n",
    "fn = conf_matrix[1][0]\n",
    "tp = conf_matrix[1][1]\n",
    "\n",
    "print(\"True Negative: \", tn)\n",
    "print(\"False Positive: \", fp)\n",
    "print(\"False Negative: \", fn)\n",
    "print(\"True Positive: \", tp)"
   ]
  },
  {
   "cell_type": "code",
   "execution_count": 143,
   "metadata": {},
   "outputs": [
    {
     "name": "stdout",
     "output_type": "stream",
     "text": [
      "Accuracy: 0.8548275331074838\n",
      "Precision: 0.8437218519185732\n",
      "Recall: 0.8214504954836447\n",
      "F-measure: 0.8324372361697402\n"
     ]
    }
   ],
   "source": [
    "accuracy = accuracy_score(y_test, y_pred)\n",
    "precision = metrics.precision_score(y_test, y_pred)\n",
    "recall = metrics.recall_score(y_test, y_pred)\n",
    "fmeasure = metrics.f1_score(y_test, y_pred)\n",
    "\n",
    "print(\"Accuracy:\", accuracy)\n",
    "print(\"Precision:\", precision)\n",
    "print(\"Recall:\", recall)\n",
    "print(\"F-measure:\", fmeasure)"
   ]
  },
  {
   "cell_type": "markdown",
   "metadata": {},
   "source": [
    "#### Key Takeaways\n",
    "<br>\n",
    "<div style=\"text-align: justify\">\n",
    "    With 10-fold cross-validation for GridSearchCV, the dataset will be shuffled randomly and split into 10 groups, which resulted in smaller datasets. Hence, ‘liblinear’ is being used as it is a good choice for smaller datasets. Moreover, ‘liblinear’ handles ‘l1’ penalty as well, which leads to a sparser solution. However, the accuracy of logistic regression with GridSearchCV is found to be relatively close to the one without GridSearchCV. This could be due to the number of cross validation used which led to different optimal values found.\n",
    "</div>"
   ]
  },
  {
   "cell_type": "markdown",
   "metadata": {},
   "source": [
    "### 6.26 Logistic Regression with StackingClassifer w/o GridSearchCV\n",
    "<br>\n",
    "<div style=\"text-align: justify\">\n",
    "Stacking classifier is an ensemble-learning meta-classifier for stacking. The classifier combines multiple classification models together using a meta-classifier in making the final prediction (Ceballos, 2019). This classifier serves to improve the performance model by leveraging on the capabilities of the different models as compared to using a single model. \n",
    "</div>"
   ]
  },
  {
   "cell_type": "code",
   "execution_count": 144,
   "metadata": {},
   "outputs": [
    {
     "data": {
      "text/plain": [
       "StackingClassifier(estimators=[('rf',\n",
       "                                RandomForestClassifier(n_estimators=10,\n",
       "                                                       random_state=42)),\n",
       "                               ('dt',\n",
       "                                DecisionTreeClassifier(max_depth=15,\n",
       "                                                       random_state=42)),\n",
       "                               ('gb',\n",
       "                                GradientBoostingClassifier(max_depth=6,\n",
       "                                                           n_estimators=500,\n",
       "                                                           random_state=42))],\n",
       "                   final_estimator=LogisticRegression())"
      ]
     },
     "execution_count": 144,
     "metadata": {},
     "output_type": "execute_result"
    }
   ],
   "source": [
    "from sklearn.linear_model import LogisticRegression\n",
    "from sklearn.ensemble import RandomForestClassifier\n",
    "from sklearn.ensemble import StackingClassifier\n",
    "from sklearn.ensemble import GradientBoostingClassifier\n",
    "from sklearn.tree import DecisionTreeClassifier\n",
    "\n",
    "estimators = [('rf', RandomForestClassifier(n_estimators=10, random_state=42)),\n",
    "              ('dt', DecisionTreeClassifier(max_depth=15, random_state=42)),\n",
    "              ('gb', GradientBoostingClassifier(n_estimators = 500, max_depth = 6, random_state=42))]\n",
    "\n",
    "model_sc = StackingClassifier(estimators=estimators, final_estimator=LogisticRegression())\n",
    "model_sc.fit(X_train, y_train)"
   ]
  },
  {
   "cell_type": "code",
   "execution_count": 145,
   "metadata": {},
   "outputs": [
    {
     "name": "stdout",
     "output_type": "stream",
     "text": [
      "[[14143   430]\n",
      " [  659 10744]]\n"
     ]
    }
   ],
   "source": [
    "y_pred = model_sc.predict(X_test)\n",
    "conf_matrix = confusion_matrix(y_test, y_pred)\n",
    "print(conf_matrix)"
   ]
  },
  {
   "cell_type": "code",
   "execution_count": 146,
   "metadata": {},
   "outputs": [
    {
     "name": "stdout",
     "output_type": "stream",
     "text": [
      "True Negative:  14143\n",
      "False Positive:  430\n",
      "False Negative:  659\n",
      "True Positive:  10744\n"
     ]
    }
   ],
   "source": [
    "tn = conf_matrix[0][0]\n",
    "fp = conf_matrix[0][1]\n",
    "fn = conf_matrix[1][0]\n",
    "tp = conf_matrix[1][1]\n",
    "\n",
    "print(\"True Negative: \", tn)\n",
    "print(\"False Positive: \", fp)\n",
    "print(\"False Negative: \", fn)\n",
    "print(\"True Positive: \", tp)"
   ]
  },
  {
   "cell_type": "code",
   "execution_count": 147,
   "metadata": {},
   "outputs": [
    {
     "name": "stdout",
     "output_type": "stream",
     "text": [
      "Accuracy: 0.9580766861718509\n",
      "Precision: 0.9615178091999284\n",
      "Recall: 0.9422081908269754\n",
      "F-measure: 0.9517650706471188\n"
     ]
    }
   ],
   "source": [
    "accuracy = accuracy_score(y_test, y_pred)\n",
    "precision = metrics.precision_score(y_test, y_pred)\n",
    "recall = metrics.recall_score(y_test, y_pred)\n",
    "fmeasure = metrics.f1_score(y_test, y_pred)\n",
    "\n",
    "print(\"Accuracy:\", accuracy)\n",
    "print(\"Precision:\", precision)\n",
    "print(\"Recall:\", recall)\n",
    "print(\"F-measure:\", fmeasure)"
   ]
  },
  {
   "cell_type": "markdown",
   "metadata": {},
   "source": [
    "### 6.27 Logistic Regression with StackingClassifer with GridSearchCV\n",
    "\n",
    "Tuned Parameters: {'rf__n_estimators': 200}"
   ]
  },
  {
   "cell_type": "code",
   "execution_count": 148,
   "metadata": {},
   "outputs": [
    {
     "data": {
      "text/plain": [
       "GridSearchCV(cv=10,\n",
       "             estimator=StackingClassifier(estimators=[('rf',\n",
       "                                                       RandomForestClassifier(n_estimators=10,\n",
       "                                                                              random_state=42)),\n",
       "                                                      ('dt',\n",
       "                                                       DecisionTreeClassifier(max_depth=15,\n",
       "                                                                              random_state=42)),\n",
       "                                                      ('gb',\n",
       "                                                       GradientBoostingClassifier(max_depth=6,\n",
       "                                                                                  n_estimators=500,\n",
       "                                                                                  random_state=42))],\n",
       "                                          final_estimator=LogisticRegression()),\n",
       "             n_jobs=-1, param_grid={'rf__n_estimators': [20, 200]})"
      ]
     },
     "execution_count": 148,
     "metadata": {},
     "output_type": "execute_result"
    }
   ],
   "source": [
    "estimators = [('rf', RandomForestClassifier(n_estimators=10, random_state=42)),\n",
    "              ('dt', DecisionTreeClassifier(max_depth=15, random_state=42)),\n",
    "              ('gb', GradientBoostingClassifier(n_estimators = 500, max_depth = 6, random_state=42))]\n",
    "\n",
    "model_sc1 = StackingClassifier(estimators=estimators, final_estimator=LogisticRegression())\n",
    "\n",
    "param_grid = {'rf__n_estimators': [20,200]}\n",
    "grid = GridSearchCV(model_sc1, param_grid, n_jobs=-1, cv=10)\n",
    "grid.fit(X_train, y_train)"
   ]
  },
  {
   "cell_type": "code",
   "execution_count": 149,
   "metadata": {},
   "outputs": [
    {
     "name": "stdout",
     "output_type": "stream",
     "text": [
      "Best parameters found by grid search are: {'rf__n_estimators': 200}\n"
     ]
    }
   ],
   "source": [
    "print('Best parameters found by grid search are:', grid.best_params_)"
   ]
  },
  {
   "cell_type": "code",
   "execution_count": 150,
   "metadata": {},
   "outputs": [
    {
     "name": "stdout",
     "output_type": "stream",
     "text": [
      "[[14152   421]\n",
      " [  653 10750]]\n"
     ]
    }
   ],
   "source": [
    "y_pred = grid.predict(X_test)\n",
    "conf_matrix = confusion_matrix(y_test, y_pred)\n",
    "print(conf_matrix)"
   ]
  },
  {
   "cell_type": "code",
   "execution_count": 151,
   "metadata": {},
   "outputs": [
    {
     "name": "stdout",
     "output_type": "stream",
     "text": [
      "True Negative:  14152\n",
      "False Positive:  421\n",
      "False Negative:  653\n",
      "True Positive:  10750\n"
     ]
    }
   ],
   "source": [
    "tn = conf_matrix[0][0]\n",
    "fp = conf_matrix[0][1]\n",
    "fn = conf_matrix[1][0]\n",
    "tp = conf_matrix[1][1]\n",
    "\n",
    "print(\"True Negative: \", tn)\n",
    "print(\"False Positive: \", fp)\n",
    "print(\"False Negative: \", fn)\n",
    "print(\"True Positive: \", tp)"
   ]
  },
  {
   "cell_type": "code",
   "execution_count": 152,
   "metadata": {},
   "outputs": [
    {
     "name": "stdout",
     "output_type": "stream",
     "text": [
      "Accuracy: 0.9586541422851863\n",
      "Precision: 0.9623131322173485\n",
      "Recall: 0.9427343681487328\n",
      "F-measure: 0.952423141667405\n"
     ]
    }
   ],
   "source": [
    "accuracy = accuracy_score(y_test, y_pred)\n",
    "precision = metrics.precision_score(y_test, y_pred)\n",
    "recall = metrics.recall_score(y_test, y_pred)\n",
    "fmeasure = metrics.f1_score(y_test, y_pred)\n",
    "\n",
    "print(\"Accuracy:\", accuracy)\n",
    "print(\"Precision:\", precision)\n",
    "print(\"Recall:\", recall)\n",
    "print(\"F-measure:\", fmeasure)"
   ]
  },
  {
   "cell_type": "code",
   "execution_count": 153,
   "metadata": {},
   "outputs": [
    {
     "name": "stdout",
     "output_type": "stream",
     "text": [
      "Train Error:  0.0036860948567908336\n",
      "Test Error:  0.041345857714813694\n"
     ]
    }
   ],
   "source": [
    "# Predict X_train\n",
    "X_train_pred = grid.predict(X_train)\n",
    "\n",
    "# Accuracy against y_train\n",
    "train_accuracy = accuracy_score(y_train, X_train_pred)\n",
    "\n",
    "print(\"Train Error: \", 1 - train_accuracy)\n",
    "print(\"Test Error: \", 1 - accuracy)"
   ]
  },
  {
   "cell_type": "markdown",
   "metadata": {},
   "source": [
    "#### Key Takeaways\n",
    "<br>\n",
    "<div style=\"text-align: justify\">\n",
    "    Parameters for GridSearchCV had been predefined as 'n_estimators': [20,200] and 200 is found to be the best parameter. Moreover, commonly used data mining techniques such as random forest, decision tree and gradient boosting classfier are being included as well where hyperparameters of each classifier will be fine-tuned to improve the performance of the model.\n",
    "</div>"
   ]
  },
  {
   "cell_type": "markdown",
   "metadata": {},
   "source": [
    "## 6. Model Evaluation (Occam's Law)\n",
    "<br>\n",
    "<div style=\"text-align: justify\">\n",
    "    According to Occam's Law (Law of Briefness), given two models of similar generation errors, one should prefer the simpler model. Therefore, we will be evaluating our top five models based on the training and testing error.\n",
    "</div>"
   ]
  },
  {
   "cell_type": "markdown",
   "metadata": {},
   "source": [
    "<table>\n",
    "  <tr>\n",
    "    <th>Models</th>\n",
    "    <th>Training Error</th>\n",
    "    <th>Testing Error</th>\n",
    "  </tr>\n",
    "  <tr>\n",
    "    <td>Random Forest</td>\n",
    "    <td>0.0089</td>\n",
    "    <td>0.0419</td>\n",
    "  </tr>\n",
    "  <tr>\n",
    "    <td>Logistic Regression with Stacking Classifier</td>\n",
    "    <td>0.0037</td>\n",
    "    <td>0.0413</td>\n",
    "  </tr>\n",
    "  <tr>\n",
    "    <td>CatBoost</td>\n",
    "    <td>0.0269</td>\n",
    "    <td>0.0395</td>\n",
    "  </tr>\n",
    "  <tr>\n",
    "    <td>XGBoost</td>\n",
    "    <td>0.0287</td>\n",
    "    <td>0.0392</td>\n",
    "  </tr>\n",
    "  <tr>\n",
    "    <td>LightGBM</td>\n",
    "    <td>0.0244</td>\n",
    "    <td>0.0400</td>\n",
    "  </tr>\n",
    "</table>\n"
   ]
  },
  {
   "cell_type": "markdown",
   "metadata": {},
   "source": [
    "#### Key Takeaways\n",
    "<br>\n",
    "<div style=\"text-align: justify\">\n",
    "    Based on the table shown above, it is concluded that the XGBoost model performs best on our dataset based on the minimal difference of 0.011 in error which indicates that it is an appropriate model. However, CatBoost with a difference of 0.0126 also performed equally well as XGBoost since the model works well with categorical variables. Thus, both models will be taken into consideration for our future works.\n",
    "</div>"
   ]
  },
  {
   "cell_type": "markdown",
   "metadata": {},
   "source": [
    "## 7. Future Works\n",
    "<br>\n",
    "<div style=\"text-align: justify\">\n",
    "    <b> 1. Feature Importance </b> - it will be used to identify the top 10 variables to better predict the passenger satisfaction. This will be performed on XGBoost and CatBoost models with parameters tuning using GridSearchCV. From there, we will evaluate the model again to see if there is any improvement. <br><br>\n",
    "    <b> 2. Address Overfitting </b> - as both models Random Forest and Logistic Regression with Stacking Classifier showed signs of overfitting, further parameters tuning will be performed such as decreasing the maximum depth of the tree, increasing the number of estimators, decreasing the number of maximum features and then conducting further evaluation. <br><br>\n",
    "    <b> 3. Neural Network </b> - can look into using neural network as it has the ability to model customer satisfaction with its capability to handle any non-linear functions and multicollinearity within the input variable. <br><br>\n",
    "    <b> 4. RandomizedSearchCV </b> - can look into using RandomizedSearchCV to fine-tune the hyperparameters instead of GridSearchCV. This is so because in GridSearchCV approach, every combination of hyperparameter values is tried which can be very inefficient and computationally intensive, considering that our dataset is relatively large. While it is possible that RandomizedSearchCV will not find as accurate of a result as GridSearchCV, it is still able to pick the best result more often than not and in a fraction of the time it takes GridSearchCV would have taken.\n",
    "    \n",
    "</div>"
   ]
  },
  {
   "cell_type": "markdown",
   "metadata": {},
   "source": [
    "## 8. Conclusion\n",
    "<br>\n",
    "<div style=\"text-align: justify\">\n",
    "    In this study, exploratory data analysis (EDA), preprocessing of data such as feature encoding have been performed before leveraging on various classification models to find the best suited model in predicting airline's passengers satisfaction. Moreover, parameters of each models are being fine-tuned with the help of GridSearchCV to improve the performance of models. <br><br>\n",
    "    By utiliing training and testing error to evaluation the top 5 models, it is concluded that XGBoost model performs best on our dataset followed by CatBoost. With the use of predictive analytics, it can help airline compabies to elevate customer loyalty by offering enhanced and personalized customer experience. This aims to ensure customer retention which results in driving business growth and profitability.\n",
    "    \n",
    "</div>"
   ]
  },
  {
   "cell_type": "code",
   "execution_count": null,
   "metadata": {},
   "outputs": [],
   "source": []
  }
 ],
 "metadata": {
  "kernelspec": {
   "display_name": "Python 3",
   "language": "python",
   "name": "python3"
  },
  "language_info": {
   "codemirror_mode": {
    "name": "ipython",
    "version": 3
   },
   "file_extension": ".py",
   "mimetype": "text/x-python",
   "name": "python",
   "nbconvert_exporter": "python",
   "pygments_lexer": "ipython3",
   "version": "3.8.3"
  }
 },
 "nbformat": 4,
 "nbformat_minor": 4
}
